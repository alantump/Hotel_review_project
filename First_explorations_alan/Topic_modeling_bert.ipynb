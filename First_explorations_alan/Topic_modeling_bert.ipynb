{
 "cells": [
  {
   "cell_type": "code",
   "execution_count": 1,
   "metadata": {},
   "outputs": [],
   "source": [
    "#os.environ['OPENAI_API_KEY'] = <your-api-key>\n",
    "import openai\n",
    "import os\n",
    "\n",
    "api_key = os.getenv('OPENAI_API_KEY')"
   ]
  },
  {
   "cell_type": "markdown",
   "metadata": {},
   "source": [
    "https://github.com/langchain-ai/rag-from-scratch/blob/main/rag_from_scratch_5_to_9.ipynb"
   ]
  },
  {
   "cell_type": "code",
   "execution_count": 2,
   "metadata": {},
   "outputs": [
    {
     "name": "stderr",
     "output_type": "stream",
     "text": [
      "C:\\Users\\alan_\\AppData\\Local\\Temp\\ipykernel_15972\\278692378.py:22: UserWarning: This pattern is interpreted as a regular expression, and has match groups. To actually get the groups, use str.extract.\n",
      "  Hotel_Reviews.loc[Hotel_Reviews[\"Hotel_Address\"].str.contains(pattern), \"Country\"] = country_name\n",
      "C:\\Users\\alan_\\AppData\\Local\\Temp\\ipykernel_15972\\278692378.py:22: UserWarning: This pattern is interpreted as a regular expression, and has match groups. To actually get the groups, use str.extract.\n",
      "  Hotel_Reviews.loc[Hotel_Reviews[\"Hotel_Address\"].str.contains(pattern), \"Country\"] = country_name\n",
      "C:\\Users\\alan_\\AppData\\Local\\Temp\\ipykernel_15972\\278692378.py:22: UserWarning: This pattern is interpreted as a regular expression, and has match groups. To actually get the groups, use str.extract.\n",
      "  Hotel_Reviews.loc[Hotel_Reviews[\"Hotel_Address\"].str.contains(pattern), \"Country\"] = country_name\n",
      "C:\\Users\\alan_\\AppData\\Local\\Temp\\ipykernel_15972\\278692378.py:22: UserWarning: This pattern is interpreted as a regular expression, and has match groups. To actually get the groups, use str.extract.\n",
      "  Hotel_Reviews.loc[Hotel_Reviews[\"Hotel_Address\"].str.contains(pattern), \"Country\"] = country_name\n",
      "C:\\Users\\alan_\\AppData\\Local\\Temp\\ipykernel_15972\\278692378.py:22: UserWarning: This pattern is interpreted as a regular expression, and has match groups. To actually get the groups, use str.extract.\n",
      "  Hotel_Reviews.loc[Hotel_Reviews[\"Hotel_Address\"].str.contains(pattern), \"Country\"] = country_name\n",
      "C:\\Users\\alan_\\AppData\\Local\\Temp\\ipykernel_15972\\278692378.py:22: UserWarning: This pattern is interpreted as a regular expression, and has match groups. To actually get the groups, use str.extract.\n",
      "  Hotel_Reviews.loc[Hotel_Reviews[\"Hotel_Address\"].str.contains(pattern), \"Country\"] = country_name\n",
      "C:\\Users\\alan_\\AppData\\Local\\Temp\\ipykernel_15972\\278692378.py:22: UserWarning: This pattern is interpreted as a regular expression, and has match groups. To actually get the groups, use str.extract.\n",
      "  Hotel_Reviews.loc[Hotel_Reviews[\"Hotel_Address\"].str.contains(pattern), \"Country\"] = country_name\n",
      "C:\\Users\\alan_\\AppData\\Local\\Temp\\ipykernel_15972\\278692378.py:22: UserWarning: This pattern is interpreted as a regular expression, and has match groups. To actually get the groups, use str.extract.\n",
      "  Hotel_Reviews.loc[Hotel_Reviews[\"Hotel_Address\"].str.contains(pattern), \"Country\"] = country_name\n"
     ]
    }
   ],
   "source": [
    "\n",
    "import pandas as pd\n",
    "import re\n",
    "def data_loader():\n",
    "  \"\"\"Loads data from CSV files, performs data cleaning and feature engineering.\n",
    "\n",
    "  Returns:\n",
    "    pandas.DataFrame: The processed hotel reviews dataset.\n",
    "  \"\"\"\n",
    "\n",
    "  # Read hotel reviews data\n",
    "  Hotel_Reviews = pd.read_csv(\"../Data/Hotel_Reviews.csv\")\n",
    "\n",
    "  # Read country data\n",
    "  countries = pd.read_csv(\"../Data/countries.csv\")\n",
    "\n",
    "  # Add a \"Country\" column with NA values\n",
    "  Hotel_Reviews[\"Country\"] = pd.NA\n",
    "\n",
    "  # Assign country based on pattern matching in Hotel_Address\n",
    "  for country_name in countries[\"name\"]:\n",
    "    pattern = re.compile(country_name, re.IGNORECASE)  # Case-insensitive matching\n",
    "    Hotel_Reviews.loc[Hotel_Reviews[\"Hotel_Address\"].str.contains(pattern), \"Country\"] = country_name\n",
    "\n",
    " \n",
    "  # Convert Review_Date to datetime and extract features\n",
    "  Hotel_Reviews[\"date_object\"] = pd.to_datetime(Hotel_Reviews[\"Review_Date\"], format=\"%m/%d/%Y\")\n",
    "  #Hotel_Reviews[\"time\"] = Hotel_Reviews[\"date_object\"].astype(int) / 10**9  # Convert to Unix timestamp\n",
    "  Hotel_Reviews[\"month\"] = Hotel_Reviews[\"date_object\"].dt.month\n",
    "  Hotel_Reviews[\"num_date_object\"] = Hotel_Reviews[\"date_object\"].dt.day_of_year / 365  # Normalize by days in a year\n",
    "\n",
    "  return Hotel_Reviews\n",
    "\n",
    "# Load the processed data\n",
    "Hotel_Reviews = data_loader()"
   ]
  },
  {
   "cell_type": "code",
   "execution_count": null,
   "metadata": {},
   "outputs": [
    {
     "data": {
      "text/html": [
       "<div>\n",
       "<style scoped>\n",
       "    .dataframe tbody tr th:only-of-type {\n",
       "        vertical-align: middle;\n",
       "    }\n",
       "\n",
       "    .dataframe tbody tr th {\n",
       "        vertical-align: top;\n",
       "    }\n",
       "\n",
       "    .dataframe thead th {\n",
       "        text-align: right;\n",
       "    }\n",
       "</style>\n",
       "<table border=\"1\" class=\"dataframe\">\n",
       "  <thead>\n",
       "    <tr style=\"text-align: right;\">\n",
       "      <th></th>\n",
       "      <th>Hotel_Address</th>\n",
       "      <th>Additional_Number_of_Scoring</th>\n",
       "      <th>Review_Date</th>\n",
       "      <th>Average_Score</th>\n",
       "      <th>Hotel_Name</th>\n",
       "      <th>Reviewer_Nationality</th>\n",
       "      <th>Negative_Review</th>\n",
       "      <th>Review_Total_Negative_Word_Counts</th>\n",
       "      <th>Total_Number_of_Reviews</th>\n",
       "      <th>Positive_Review</th>\n",
       "      <th>...</th>\n",
       "      <th>Reviewer_Score</th>\n",
       "      <th>Tags</th>\n",
       "      <th>days_since_review</th>\n",
       "      <th>lat</th>\n",
       "      <th>lng</th>\n",
       "      <th>Country</th>\n",
       "      <th>date_object</th>\n",
       "      <th>month</th>\n",
       "      <th>num_date_object</th>\n",
       "      <th>MergedColumn_topic</th>\n",
       "    </tr>\n",
       "  </thead>\n",
       "  <tbody>\n",
       "    <tr>\n",
       "      <th>405</th>\n",
       "      <td>1 15 Templeton Place Earl s Court Kensington a...</td>\n",
       "      <td>244</td>\n",
       "      <td>8/3/2017</td>\n",
       "      <td>8.5</td>\n",
       "      <td>K K Hotel George</td>\n",
       "      <td>Ireland</td>\n",
       "      <td>Really nothing negative to say about this hotel</td>\n",
       "      <td>9</td>\n",
       "      <td>1831</td>\n",
       "      <td>Very comfortable beds smart bathroom good sho...</td>\n",
       "      <td>...</td>\n",
       "      <td>9.6</td>\n",
       "      <td>[' Leisure trip ', ' Group ', ' Classic Twin R...</td>\n",
       "      <td>0 days</td>\n",
       "      <td>51.491888</td>\n",
       "      <td>-0.194971</td>\n",
       "      <td>United Kingdom</td>\n",
       "      <td>2017-08-03</td>\n",
       "      <td>8</td>\n",
       "      <td>0.589041</td>\n",
       "      <td>Very comfortable beds smart bathroom good sho...</td>\n",
       "    </tr>\n",
       "    <tr>\n",
       "      <th>406</th>\n",
       "      <td>1 15 Templeton Place Earl s Court Kensington a...</td>\n",
       "      <td>244</td>\n",
       "      <td>8/2/2017</td>\n",
       "      <td>8.5</td>\n",
       "      <td>K K Hotel George</td>\n",
       "      <td>United States of America</td>\n",
       "      <td>No coffee or tea in the room or lobby No one ...</td>\n",
       "      <td>52</td>\n",
       "      <td>1831</td>\n",
       "      <td>No Positive</td>\n",
       "      <td>...</td>\n",
       "      <td>7.1</td>\n",
       "      <td>[' Leisure trip ', ' Couple ', ' Classic Twin ...</td>\n",
       "      <td>1 days</td>\n",
       "      <td>51.491888</td>\n",
       "      <td>-0.194971</td>\n",
       "      <td>United Kingdom</td>\n",
       "      <td>2017-08-02</td>\n",
       "      <td>8</td>\n",
       "      <td>0.586301</td>\n",
       "      <td>No Positive.  No coffee or tea in the room or ...</td>\n",
       "    </tr>\n",
       "    <tr>\n",
       "      <th>407</th>\n",
       "      <td>1 15 Templeton Place Earl s Court Kensington a...</td>\n",
       "      <td>244</td>\n",
       "      <td>7/20/2017</td>\n",
       "      <td>8.5</td>\n",
       "      <td>K K Hotel George</td>\n",
       "      <td>United States of America</td>\n",
       "      <td>Room was pretty small for the three of us</td>\n",
       "      <td>11</td>\n",
       "      <td>1831</td>\n",
       "      <td>The staff was very friendly and helpful in or...</td>\n",
       "      <td>...</td>\n",
       "      <td>9.2</td>\n",
       "      <td>[' Leisure trip ', ' Family with young childre...</td>\n",
       "      <td>14 days</td>\n",
       "      <td>51.491888</td>\n",
       "      <td>-0.194971</td>\n",
       "      <td>United Kingdom</td>\n",
       "      <td>2017-07-20</td>\n",
       "      <td>7</td>\n",
       "      <td>0.550685</td>\n",
       "      <td>The staff was very friendly and helpful in or...</td>\n",
       "    </tr>\n",
       "    <tr>\n",
       "      <th>408</th>\n",
       "      <td>1 15 Templeton Place Earl s Court Kensington a...</td>\n",
       "      <td>244</td>\n",
       "      <td>7/19/2017</td>\n",
       "      <td>8.5</td>\n",
       "      <td>K K Hotel George</td>\n",
       "      <td>Australia</td>\n",
       "      <td>Nothing really</td>\n",
       "      <td>4</td>\n",
       "      <td>1831</td>\n",
       "      <td>We stayed at the hotel at a friend s recommen...</td>\n",
       "      <td>...</td>\n",
       "      <td>9.6</td>\n",
       "      <td>[' Leisure trip ', ' Couple ', ' Classic Doubl...</td>\n",
       "      <td>15 days</td>\n",
       "      <td>51.491888</td>\n",
       "      <td>-0.194971</td>\n",
       "      <td>United Kingdom</td>\n",
       "      <td>2017-07-19</td>\n",
       "      <td>7</td>\n",
       "      <td>0.547945</td>\n",
       "      <td>We stayed at the hotel at a friend s recommen...</td>\n",
       "    </tr>\n",
       "    <tr>\n",
       "      <th>409</th>\n",
       "      <td>1 15 Templeton Place Earl s Court Kensington a...</td>\n",
       "      <td>244</td>\n",
       "      <td>7/18/2017</td>\n",
       "      <td>8.5</td>\n",
       "      <td>K K Hotel George</td>\n",
       "      <td>United States of America</td>\n",
       "      <td>Only cab service to airport is expensive comp...</td>\n",
       "      <td>16</td>\n",
       "      <td>1831</td>\n",
       "      <td>Super location on Division underground line d...</td>\n",
       "      <td>...</td>\n",
       "      <td>8.3</td>\n",
       "      <td>[' Leisure trip ', ' Group ', ' Classic Twin R...</td>\n",
       "      <td>16 days</td>\n",
       "      <td>51.491888</td>\n",
       "      <td>-0.194971</td>\n",
       "      <td>United Kingdom</td>\n",
       "      <td>2017-07-18</td>\n",
       "      <td>7</td>\n",
       "      <td>0.545205</td>\n",
       "      <td>Super location on Division underground line d...</td>\n",
       "    </tr>\n",
       "    <tr>\n",
       "      <th>...</th>\n",
       "      <td>...</td>\n",
       "      <td>...</td>\n",
       "      <td>...</td>\n",
       "      <td>...</td>\n",
       "      <td>...</td>\n",
       "      <td>...</td>\n",
       "      <td>...</td>\n",
       "      <td>...</td>\n",
       "      <td>...</td>\n",
       "      <td>...</td>\n",
       "      <td>...</td>\n",
       "      <td>...</td>\n",
       "      <td>...</td>\n",
       "      <td>...</td>\n",
       "      <td>...</td>\n",
       "      <td>...</td>\n",
       "      <td>...</td>\n",
       "      <td>...</td>\n",
       "      <td>...</td>\n",
       "      <td>...</td>\n",
       "      <td>...</td>\n",
       "    </tr>\n",
       "    <tr>\n",
       "      <th>515408</th>\n",
       "      <td>Wrights Lane Kensington and Chelsea London W8 ...</td>\n",
       "      <td>1172</td>\n",
       "      <td>8/5/2015</td>\n",
       "      <td>7.8</td>\n",
       "      <td>Holiday Inn London Kensington</td>\n",
       "      <td>Belgium</td>\n",
       "      <td>Internet should never ever be payable in a ho...</td>\n",
       "      <td>11</td>\n",
       "      <td>5945</td>\n",
       "      <td>No Positive</td>\n",
       "      <td>...</td>\n",
       "      <td>9.6</td>\n",
       "      <td>[' Leisure trip ', ' Couple ', ' Standard Doub...</td>\n",
       "      <td>729 day</td>\n",
       "      <td>51.499981</td>\n",
       "      <td>-0.192879</td>\n",
       "      <td>United Kingdom</td>\n",
       "      <td>2015-08-05</td>\n",
       "      <td>8</td>\n",
       "      <td>0.594521</td>\n",
       "      <td>No Positive.  Internet should never ever be pa...</td>\n",
       "    </tr>\n",
       "    <tr>\n",
       "      <th>515409</th>\n",
       "      <td>Wrights Lane Kensington and Chelsea London W8 ...</td>\n",
       "      <td>1172</td>\n",
       "      <td>8/4/2015</td>\n",
       "      <td>7.8</td>\n",
       "      <td>Holiday Inn London Kensington</td>\n",
       "      <td>United Kingdom</td>\n",
       "      <td>Rooms a little small but adequate</td>\n",
       "      <td>7</td>\n",
       "      <td>5945</td>\n",
       "      <td>Loved the location friendly helpful staff</td>\n",
       "      <td>...</td>\n",
       "      <td>10.0</td>\n",
       "      <td>[' Leisure trip ', ' Couple ', ' Superior Doub...</td>\n",
       "      <td>730 day</td>\n",
       "      <td>51.499981</td>\n",
       "      <td>-0.192879</td>\n",
       "      <td>United Kingdom</td>\n",
       "      <td>2015-08-04</td>\n",
       "      <td>8</td>\n",
       "      <td>0.591781</td>\n",
       "      <td>Loved the location friendly helpful staff.  R...</td>\n",
       "    </tr>\n",
       "    <tr>\n",
       "      <th>515410</th>\n",
       "      <td>Wrights Lane Kensington and Chelsea London W8 ...</td>\n",
       "      <td>1172</td>\n",
       "      <td>8/4/2015</td>\n",
       "      <td>7.8</td>\n",
       "      <td>Holiday Inn London Kensington</td>\n",
       "      <td>United Kingdom</td>\n",
       "      <td>The room wasn t what was described on website...</td>\n",
       "      <td>24</td>\n",
       "      <td>5945</td>\n",
       "      <td>Location was good</td>\n",
       "      <td>...</td>\n",
       "      <td>5.0</td>\n",
       "      <td>[' Leisure trip ', ' Couple ', ' Executive Dou...</td>\n",
       "      <td>730 day</td>\n",
       "      <td>51.499981</td>\n",
       "      <td>-0.192879</td>\n",
       "      <td>United Kingdom</td>\n",
       "      <td>2015-08-04</td>\n",
       "      <td>8</td>\n",
       "      <td>0.591781</td>\n",
       "      <td>Location was good .  The room wasn t what was...</td>\n",
       "    </tr>\n",
       "    <tr>\n",
       "      <th>515411</th>\n",
       "      <td>Wrights Lane Kensington and Chelsea London W8 ...</td>\n",
       "      <td>1172</td>\n",
       "      <td>8/4/2015</td>\n",
       "      <td>7.8</td>\n",
       "      <td>Holiday Inn London Kensington</td>\n",
       "      <td>United Kingdom</td>\n",
       "      <td>Bed room service was very late</td>\n",
       "      <td>7</td>\n",
       "      <td>5945</td>\n",
       "      <td>No Positive</td>\n",
       "      <td>...</td>\n",
       "      <td>8.8</td>\n",
       "      <td>[' Couple ', ' Standard Double Room ', ' Staye...</td>\n",
       "      <td>730 day</td>\n",
       "      <td>51.499981</td>\n",
       "      <td>-0.192879</td>\n",
       "      <td>United Kingdom</td>\n",
       "      <td>2015-08-04</td>\n",
       "      <td>8</td>\n",
       "      <td>0.591781</td>\n",
       "      <td>No Positive.  Bed room service was very late</td>\n",
       "    </tr>\n",
       "    <tr>\n",
       "      <th>515412</th>\n",
       "      <td>Wrights Lane Kensington and Chelsea London W8 ...</td>\n",
       "      <td>1172</td>\n",
       "      <td>8/4/2015</td>\n",
       "      <td>7.8</td>\n",
       "      <td>Holiday Inn London Kensington</td>\n",
       "      <td>United Kingdom</td>\n",
       "      <td>No Negative</td>\n",
       "      <td>0</td>\n",
       "      <td>5945</td>\n",
       "      <td>Great very easy to amend booking to add extra...</td>\n",
       "      <td>...</td>\n",
       "      <td>9.6</td>\n",
       "      <td>[' Leisure trip ', ' Group ', ' Standard Twin ...</td>\n",
       "      <td>730 day</td>\n",
       "      <td>51.499981</td>\n",
       "      <td>-0.192879</td>\n",
       "      <td>United Kingdom</td>\n",
       "      <td>2015-08-04</td>\n",
       "      <td>8</td>\n",
       "      <td>0.591781</td>\n",
       "      <td>Great very easy to amend booking to add extra...</td>\n",
       "    </tr>\n",
       "  </tbody>\n",
       "</table>\n",
       "<p>262301 rows × 22 columns</p>\n",
       "</div>"
      ],
      "text/plain": [
       "                                            Hotel_Address  \\\n",
       "405     1 15 Templeton Place Earl s Court Kensington a...   \n",
       "406     1 15 Templeton Place Earl s Court Kensington a...   \n",
       "407     1 15 Templeton Place Earl s Court Kensington a...   \n",
       "408     1 15 Templeton Place Earl s Court Kensington a...   \n",
       "409     1 15 Templeton Place Earl s Court Kensington a...   \n",
       "...                                                   ...   \n",
       "515408  Wrights Lane Kensington and Chelsea London W8 ...   \n",
       "515409  Wrights Lane Kensington and Chelsea London W8 ...   \n",
       "515410  Wrights Lane Kensington and Chelsea London W8 ...   \n",
       "515411  Wrights Lane Kensington and Chelsea London W8 ...   \n",
       "515412  Wrights Lane Kensington and Chelsea London W8 ...   \n",
       "\n",
       "        Additional_Number_of_Scoring Review_Date  Average_Score  \\\n",
       "405                              244    8/3/2017            8.5   \n",
       "406                              244    8/2/2017            8.5   \n",
       "407                              244   7/20/2017            8.5   \n",
       "408                              244   7/19/2017            8.5   \n",
       "409                              244   7/18/2017            8.5   \n",
       "...                              ...         ...            ...   \n",
       "515408                          1172    8/5/2015            7.8   \n",
       "515409                          1172    8/4/2015            7.8   \n",
       "515410                          1172    8/4/2015            7.8   \n",
       "515411                          1172    8/4/2015            7.8   \n",
       "515412                          1172    8/4/2015            7.8   \n",
       "\n",
       "                           Hotel_Name        Reviewer_Nationality  \\\n",
       "405                  K K Hotel George                    Ireland    \n",
       "406                  K K Hotel George   United States of America    \n",
       "407                  K K Hotel George   United States of America    \n",
       "408                  K K Hotel George                  Australia    \n",
       "409                  K K Hotel George   United States of America    \n",
       "...                               ...                         ...   \n",
       "515408  Holiday Inn London Kensington                    Belgium    \n",
       "515409  Holiday Inn London Kensington             United Kingdom    \n",
       "515410  Holiday Inn London Kensington             United Kingdom    \n",
       "515411  Holiday Inn London Kensington             United Kingdom    \n",
       "515412  Holiday Inn London Kensington             United Kingdom    \n",
       "\n",
       "                                          Negative_Review  \\\n",
       "405       Really nothing negative to say about this hotel   \n",
       "406      No coffee or tea in the room or lobby No one ...   \n",
       "407            Room was pretty small for the three of us    \n",
       "408                                       Nothing really    \n",
       "409      Only cab service to airport is expensive comp...   \n",
       "...                                                   ...   \n",
       "515408   Internet should never ever be payable in a ho...   \n",
       "515409                  Rooms a little small but adequate   \n",
       "515410   The room wasn t what was described on website...   \n",
       "515411                     Bed room service was very late   \n",
       "515412                                        No Negative   \n",
       "\n",
       "        Review_Total_Negative_Word_Counts  Total_Number_of_Reviews  \\\n",
       "405                                     9                     1831   \n",
       "406                                    52                     1831   \n",
       "407                                    11                     1831   \n",
       "408                                     4                     1831   \n",
       "409                                    16                     1831   \n",
       "...                                   ...                      ...   \n",
       "515408                                 11                     5945   \n",
       "515409                                  7                     5945   \n",
       "515410                                 24                     5945   \n",
       "515411                                  7                     5945   \n",
       "515412                                  0                     5945   \n",
       "\n",
       "                                          Positive_Review  ...  \\\n",
       "405      Very comfortable beds smart bathroom good sho...  ...   \n",
       "406                                           No Positive  ...   \n",
       "407      The staff was very friendly and helpful in or...  ...   \n",
       "408      We stayed at the hotel at a friend s recommen...  ...   \n",
       "409      Super location on Division underground line d...  ...   \n",
       "...                                                   ...  ...   \n",
       "515408                                        No Positive  ...   \n",
       "515409          Loved the location friendly helpful staff  ...   \n",
       "515410                                 Location was good   ...   \n",
       "515411                                        No Positive  ...   \n",
       "515412   Great very easy to amend booking to add extra...  ...   \n",
       "\n",
       "        Reviewer_Score                                               Tags  \\\n",
       "405                9.6  [' Leisure trip ', ' Group ', ' Classic Twin R...   \n",
       "406                7.1  [' Leisure trip ', ' Couple ', ' Classic Twin ...   \n",
       "407                9.2  [' Leisure trip ', ' Family with young childre...   \n",
       "408                9.6  [' Leisure trip ', ' Couple ', ' Classic Doubl...   \n",
       "409                8.3  [' Leisure trip ', ' Group ', ' Classic Twin R...   \n",
       "...                ...                                                ...   \n",
       "515408             9.6  [' Leisure trip ', ' Couple ', ' Standard Doub...   \n",
       "515409            10.0  [' Leisure trip ', ' Couple ', ' Superior Doub...   \n",
       "515410             5.0  [' Leisure trip ', ' Couple ', ' Executive Dou...   \n",
       "515411             8.8  [' Couple ', ' Standard Double Room ', ' Staye...   \n",
       "515412             9.6  [' Leisure trip ', ' Group ', ' Standard Twin ...   \n",
       "\n",
       "        days_since_review        lat       lng         Country  date_object  \\\n",
       "405                0 days  51.491888 -0.194971  United Kingdom   2017-08-03   \n",
       "406                1 days  51.491888 -0.194971  United Kingdom   2017-08-02   \n",
       "407               14 days  51.491888 -0.194971  United Kingdom   2017-07-20   \n",
       "408               15 days  51.491888 -0.194971  United Kingdom   2017-07-19   \n",
       "409               16 days  51.491888 -0.194971  United Kingdom   2017-07-18   \n",
       "...                   ...        ...       ...             ...          ...   \n",
       "515408            729 day  51.499981 -0.192879  United Kingdom   2015-08-05   \n",
       "515409            730 day  51.499981 -0.192879  United Kingdom   2015-08-04   \n",
       "515410            730 day  51.499981 -0.192879  United Kingdom   2015-08-04   \n",
       "515411            730 day  51.499981 -0.192879  United Kingdom   2015-08-04   \n",
       "515412            730 day  51.499981 -0.192879  United Kingdom   2015-08-04   \n",
       "\n",
       "       month num_date_object  \\\n",
       "405        8        0.589041   \n",
       "406        8        0.586301   \n",
       "407        7        0.550685   \n",
       "408        7        0.547945   \n",
       "409        7        0.545205   \n",
       "...      ...             ...   \n",
       "515408     8        0.594521   \n",
       "515409     8        0.591781   \n",
       "515410     8        0.591781   \n",
       "515411     8        0.591781   \n",
       "515412     8        0.591781   \n",
       "\n",
       "                                       MergedColumn_topic  \n",
       "405      Very comfortable beds smart bathroom good sho...  \n",
       "406     No Positive.  No coffee or tea in the room or ...  \n",
       "407      The staff was very friendly and helpful in or...  \n",
       "408      We stayed at the hotel at a friend s recommen...  \n",
       "409      Super location on Division underground line d...  \n",
       "...                                                   ...  \n",
       "515408  No Positive.  Internet should never ever be pa...  \n",
       "515409   Loved the location friendly helpful staff.  R...  \n",
       "515410   Location was good .  The room wasn t what was...  \n",
       "515411       No Positive.  Bed room service was very late  \n",
       "515412   Great very easy to amend booking to add extra...  \n",
       "\n",
       "[262301 rows x 22 columns]"
      ]
     },
     "execution_count": 16,
     "metadata": {},
     "output_type": "execute_result"
    }
   ],
   "source": []
  },
  {
   "cell_type": "code",
   "execution_count": 29,
   "metadata": {},
   "outputs": [],
   "source": [
    "from langchain_text_splitters import RecursiveCharacterTextSplitter\n",
    "\n",
    "\n",
    "\n",
    "# Merge the columns using string concatenation\n",
    "Hotel_Reviews['MergedColumn_topic'] = (\n",
    "    Hotel_Reviews['Positive_Review'] + \n",
    "    '. ' + Hotel_Reviews['Negative_Review'] \n",
    ")\n",
    "# Select the first 100 rows of the merged column\n",
    "Hotel_Reviews_UK =Hotel_Reviews[Hotel_Reviews[\"Country\"]== \"United Kingdom\"]\n",
    "used_data = Hotel_Reviews_UK['Positive_Review']#Hotel_Reviews['MergedColumn_topic']#[:2000]\n",
    "\n",
    "# Specify the file name\n",
    "file_name = \"used_data.txt\"\n",
    "\n",
    "# Save the data to a text file\n",
    "with open(file_name, 'w') as f:\n",
    "    for line in used_data:\n",
    "        f.write(line + '\\n')\n",
    "\n",
    "    \n"
   ]
  },
  {
   "cell_type": "markdown",
   "metadata": {},
   "source": [
    "#### INDEXING ####\n",
    "\n",
    "# Load blog\n",
    "import bs4\n",
    "from langchain_community.document_loaders import WebBaseLoader\n",
    "loader = WebBaseLoader(\n",
    "    web_paths=(\"https://lilianweng.github.io/posts/2023-06-23-agent/\",),\n",
    "    bs_kwargs=dict(\n",
    "        parse_only=bs4.SoupStrainer(\n",
    "            class_=(\"post-content\", \"post-title\", \"post-header\")\n",
    "        )\n",
    "    ),\n",
    ")\n",
    "blog_docs = loader.load()\n",
    "\n",
    "# Split\n",
    "from langchain.text_splitter import RecursiveCharacterTextSplitter\n",
    "text_splitter = RecursiveCharacterTextSplitter.from_tiktoken_encoder(\n",
    "    chunk_size=300, \n",
    "    chunk_overlap=50)\n",
    "\n",
    "# Make splits\n",
    "splits = text_splitter.split_documents(blog_docs)\n",
    "\n",
    "# Index\n",
    "from langchain_openai import OpenAIEmbeddings\n",
    "from langchain_community.vectorstores import Chroma\n",
    "vectorstore = Chroma.from_documents(documents=splits, \n",
    "                                    embedding=OpenAIEmbeddings())\n",
    "\n",
    "retriever = vectorstore.as_retriever()"
   ]
  },
  {
   "cell_type": "code",
   "execution_count": 1,
   "metadata": {},
   "outputs": [
    {
     "name": "stdout",
     "output_type": "stream",
     "text": [
      "Collecting bertopic\n",
      "  Downloading bertopic-0.16.4-py3-none-any.whl.metadata (23 kB)\n",
      "Requirement already satisfied: hdbscan>=0.8.29 in c:\\users\\alan_\\anaconda3\\envs\\collective_llm\\lib\\site-packages (from bertopic) (0.8.40)\n",
      "Requirement already satisfied: numpy>=1.20.0 in c:\\users\\alan_\\anaconda3\\envs\\collective_llm\\lib\\site-packages (from bertopic) (1.26.3)\n",
      "Requirement already satisfied: pandas>=1.1.5 in c:\\users\\alan_\\anaconda3\\envs\\collective_llm\\lib\\site-packages (from bertopic) (2.2.3)\n",
      "Collecting plotly>=4.7.0 (from bertopic)\n",
      "  Using cached plotly-5.24.1-py3-none-any.whl.metadata (7.3 kB)\n",
      "Requirement already satisfied: scikit-learn>=0.22.2.post1 in c:\\users\\alan_\\anaconda3\\envs\\collective_llm\\lib\\site-packages (from bertopic) (1.6.0)\n",
      "Collecting sentence-transformers>=0.4.1 (from bertopic)\n",
      "  Downloading sentence_transformers-3.3.1-py3-none-any.whl.metadata (10 kB)\n",
      "Requirement already satisfied: tqdm>=4.41.1 in c:\\users\\alan_\\anaconda3\\envs\\collective_llm\\lib\\site-packages (from bertopic) (4.67.0)\n",
      "Collecting umap-learn>=0.5.0 (from bertopic)\n",
      "  Downloading umap_learn-0.5.7-py3-none-any.whl.metadata (21 kB)\n",
      "Requirement already satisfied: scipy>=1.0 in c:\\users\\alan_\\anaconda3\\envs\\collective_llm\\lib\\site-packages (from hdbscan>=0.8.29->bertopic) (1.13.1)\n",
      "Requirement already satisfied: joblib>=1.0 in c:\\users\\alan_\\anaconda3\\envs\\collective_llm\\lib\\site-packages (from hdbscan>=0.8.29->bertopic) (1.4.2)\n",
      "Requirement already satisfied: python-dateutil>=2.8.2 in c:\\users\\alan_\\anaconda3\\envs\\collective_llm\\lib\\site-packages (from pandas>=1.1.5->bertopic) (2.9.0)\n",
      "Requirement already satisfied: pytz>=2020.1 in c:\\users\\alan_\\anaconda3\\envs\\collective_llm\\lib\\site-packages (from pandas>=1.1.5->bertopic) (2024.2)\n",
      "Requirement already satisfied: tzdata>=2022.7 in c:\\users\\alan_\\anaconda3\\envs\\collective_llm\\lib\\site-packages (from pandas>=1.1.5->bertopic) (2024.2)\n",
      "Requirement already satisfied: tenacity>=6.2.0 in c:\\users\\alan_\\anaconda3\\envs\\collective_llm\\lib\\site-packages (from plotly>=4.7.0->bertopic) (9.0.0)\n",
      "Requirement already satisfied: packaging in c:\\users\\alan_\\anaconda3\\envs\\collective_llm\\lib\\site-packages (from plotly>=4.7.0->bertopic) (24.1)\n",
      "Requirement already satisfied: threadpoolctl>=3.1.0 in c:\\users\\alan_\\anaconda3\\envs\\collective_llm\\lib\\site-packages (from scikit-learn>=0.22.2.post1->bertopic) (3.5.0)\n",
      "Requirement already satisfied: transformers<5.0.0,>=4.41.0 in c:\\users\\alan_\\anaconda3\\envs\\collective_llm\\lib\\site-packages (from sentence-transformers>=0.4.1->bertopic) (4.47.0)\n",
      "Requirement already satisfied: torch>=1.11.0 in c:\\users\\alan_\\anaconda3\\envs\\collective_llm\\lib\\site-packages (from sentence-transformers>=0.4.1->bertopic) (2.5.1+cu124)\n",
      "Requirement already satisfied: huggingface-hub>=0.20.0 in c:\\users\\alan_\\anaconda3\\envs\\collective_llm\\lib\\site-packages (from sentence-transformers>=0.4.1->bertopic) (0.26.2)\n",
      "Requirement already satisfied: Pillow in c:\\users\\alan_\\anaconda3\\envs\\collective_llm\\lib\\site-packages (from sentence-transformers>=0.4.1->bertopic) (10.2.0)\n",
      "Requirement already satisfied: colorama in c:\\users\\alan_\\anaconda3\\envs\\collective_llm\\lib\\site-packages (from tqdm>=4.41.1->bertopic) (0.4.6)\n",
      "Collecting numba>=0.51.2 (from umap-learn>=0.5.0->bertopic)\n",
      "  Downloading numba-0.60.0-cp311-cp311-win_amd64.whl.metadata (2.8 kB)\n",
      "Collecting pynndescent>=0.5 (from umap-learn>=0.5.0->bertopic)\n",
      "  Downloading pynndescent-0.5.13-py3-none-any.whl.metadata (6.8 kB)\n",
      "Requirement already satisfied: filelock in c:\\users\\alan_\\anaconda3\\envs\\collective_llm\\lib\\site-packages (from huggingface-hub>=0.20.0->sentence-transformers>=0.4.1->bertopic) (3.13.1)\n",
      "Requirement already satisfied: fsspec>=2023.5.0 in c:\\users\\alan_\\anaconda3\\envs\\collective_llm\\lib\\site-packages (from huggingface-hub>=0.20.0->sentence-transformers>=0.4.1->bertopic) (2024.2.0)\n",
      "Requirement already satisfied: pyyaml>=5.1 in c:\\users\\alan_\\anaconda3\\envs\\collective_llm\\lib\\site-packages (from huggingface-hub>=0.20.0->sentence-transformers>=0.4.1->bertopic) (6.0.2)\n",
      "Requirement already satisfied: requests in c:\\users\\alan_\\anaconda3\\envs\\collective_llm\\lib\\site-packages (from huggingface-hub>=0.20.0->sentence-transformers>=0.4.1->bertopic) (2.32.3)\n",
      "Requirement already satisfied: typing-extensions>=3.7.4.3 in c:\\users\\alan_\\anaconda3\\envs\\collective_llm\\lib\\site-packages (from huggingface-hub>=0.20.0->sentence-transformers>=0.4.1->bertopic) (4.12.2)\n",
      "Collecting llvmlite<0.44,>=0.43.0dev0 (from numba>=0.51.2->umap-learn>=0.5.0->bertopic)\n",
      "  Downloading llvmlite-0.43.0-cp311-cp311-win_amd64.whl.metadata (4.9 kB)\n",
      "Requirement already satisfied: six>=1.5 in c:\\users\\alan_\\anaconda3\\envs\\collective_llm\\lib\\site-packages (from python-dateutil>=2.8.2->pandas>=1.1.5->bertopic) (1.16.0)\n",
      "Requirement already satisfied: networkx in c:\\users\\alan_\\anaconda3\\envs\\collective_llm\\lib\\site-packages (from torch>=1.11.0->sentence-transformers>=0.4.1->bertopic) (3.2.1)\n",
      "Requirement already satisfied: jinja2 in c:\\users\\alan_\\anaconda3\\envs\\collective_llm\\lib\\site-packages (from torch>=1.11.0->sentence-transformers>=0.4.1->bertopic) (3.1.3)\n",
      "Requirement already satisfied: sympy==1.13.1 in c:\\users\\alan_\\anaconda3\\envs\\collective_llm\\lib\\site-packages (from torch>=1.11.0->sentence-transformers>=0.4.1->bertopic) (1.13.1)\n",
      "Requirement already satisfied: mpmath<1.4,>=1.1.0 in c:\\users\\alan_\\anaconda3\\envs\\collective_llm\\lib\\site-packages (from sympy==1.13.1->torch>=1.11.0->sentence-transformers>=0.4.1->bertopic) (1.3.0)\n",
      "Requirement already satisfied: regex!=2019.12.17 in c:\\users\\alan_\\anaconda3\\envs\\collective_llm\\lib\\site-packages (from transformers<5.0.0,>=4.41.0->sentence-transformers>=0.4.1->bertopic) (2024.11.6)\n",
      "Requirement already satisfied: tokenizers<0.22,>=0.21 in c:\\users\\alan_\\anaconda3\\envs\\collective_llm\\lib\\site-packages (from transformers<5.0.0,>=4.41.0->sentence-transformers>=0.4.1->bertopic) (0.21.0)\n",
      "Requirement already satisfied: safetensors>=0.4.1 in c:\\users\\alan_\\anaconda3\\envs\\collective_llm\\lib\\site-packages (from transformers<5.0.0,>=4.41.0->sentence-transformers>=0.4.1->bertopic) (0.4.5)\n",
      "Requirement already satisfied: MarkupSafe>=2.0 in c:\\users\\alan_\\anaconda3\\envs\\collective_llm\\lib\\site-packages (from jinja2->torch>=1.11.0->sentence-transformers>=0.4.1->bertopic) (2.1.5)\n",
      "Requirement already satisfied: charset-normalizer<4,>=2 in c:\\users\\alan_\\anaconda3\\envs\\collective_llm\\lib\\site-packages (from requests->huggingface-hub>=0.20.0->sentence-transformers>=0.4.1->bertopic) (3.4.0)\n",
      "Requirement already satisfied: idna<4,>=2.5 in c:\\users\\alan_\\anaconda3\\envs\\collective_llm\\lib\\site-packages (from requests->huggingface-hub>=0.20.0->sentence-transformers>=0.4.1->bertopic) (3.10)\n",
      "Requirement already satisfied: urllib3<3,>=1.21.1 in c:\\users\\alan_\\anaconda3\\envs\\collective_llm\\lib\\site-packages (from requests->huggingface-hub>=0.20.0->sentence-transformers>=0.4.1->bertopic) (2.2.3)\n",
      "Requirement already satisfied: certifi>=2017.4.17 in c:\\users\\alan_\\anaconda3\\envs\\collective_llm\\lib\\site-packages (from requests->huggingface-hub>=0.20.0->sentence-transformers>=0.4.1->bertopic) (2024.8.30)\n",
      "Downloading bertopic-0.16.4-py3-none-any.whl (143 kB)\n",
      "Using cached plotly-5.24.1-py3-none-any.whl (19.1 MB)\n",
      "Downloading sentence_transformers-3.3.1-py3-none-any.whl (268 kB)\n",
      "Downloading umap_learn-0.5.7-py3-none-any.whl (88 kB)\n",
      "Downloading numba-0.60.0-cp311-cp311-win_amd64.whl (2.7 MB)\n",
      "   ---------------------------------------- 0.0/2.7 MB ? eta -:--:--\n",
      "   ---------------------------------------- 2.7/2.7 MB 14.1 MB/s eta 0:00:00\n",
      "Downloading pynndescent-0.5.13-py3-none-any.whl (56 kB)\n",
      "Downloading llvmlite-0.43.0-cp311-cp311-win_amd64.whl (28.1 MB)\n",
      "   ---------------------------------------- 0.0/28.1 MB ? eta -:--:--\n",
      "   - -------------------------------------- 0.8/28.1 MB 3.4 MB/s eta 0:00:09\n",
      "   --- ------------------------------------ 2.4/28.1 MB 5.4 MB/s eta 0:00:05\n",
      "   ----- ---------------------------------- 3.9/28.1 MB 6.2 MB/s eta 0:00:04\n",
      "   ------- -------------------------------- 5.2/28.1 MB 6.1 MB/s eta 0:00:04\n",
      "   ---------- ----------------------------- 7.1/28.1 MB 6.7 MB/s eta 0:00:04\n",
      "   ------------- -------------------------- 9.2/28.1 MB 7.3 MB/s eta 0:00:03\n",
      "   ------------------ --------------------- 12.8/28.1 MB 8.8 MB/s eta 0:00:02\n",
      "   ------------------------ --------------- 17.3/28.1 MB 10.3 MB/s eta 0:00:02\n",
      "   ------------------------------ --------- 21.5/28.1 MB 11.4 MB/s eta 0:00:01\n",
      "   ------------------------------------ --- 25.4/28.1 MB 12.3 MB/s eta 0:00:01\n",
      "   ---------------------------------------- 28.1/28.1 MB 12.6 MB/s eta 0:00:00\n",
      "Installing collected packages: plotly, llvmlite, numba, pynndescent, umap-learn, sentence-transformers, bertopic\n",
      "Successfully installed bertopic-0.16.4 llvmlite-0.43.0 numba-0.60.0 plotly-5.24.1 pynndescent-0.5.13 sentence-transformers-3.3.1 umap-learn-0.5.7\n"
     ]
    }
   ],
   "source": [
    "!pip install bertopic\n"
   ]
  },
  {
   "cell_type": "code",
   "execution_count": 30,
   "metadata": {},
   "outputs": [],
   "source": [
    "from bertopic import BERTopic\n",
    "from sklearn.datasets import fetch_20newsgroups\n",
    " \n",
    "#docs = fetch_20newsgroups(subset='all',  remove=('headers', 'footers', 'quotes'))['data']\n",
    "docs = used_data.tolist()\n",
    "topic_model = BERTopic()\n",
    "topics, probs = topic_model.fit_transform(docs)"
   ]
  },
  {
   "cell_type": "code",
   "execution_count": 32,
   "metadata": {},
   "outputs": [
    {
     "data": {
      "text/html": [
       "<div>\n",
       "<style scoped>\n",
       "    .dataframe tbody tr th:only-of-type {\n",
       "        vertical-align: middle;\n",
       "    }\n",
       "\n",
       "    .dataframe tbody tr th {\n",
       "        vertical-align: top;\n",
       "    }\n",
       "\n",
       "    .dataframe thead th {\n",
       "        text-align: right;\n",
       "    }\n",
       "</style>\n",
       "<table border=\"1\" class=\"dataframe\">\n",
       "  <thead>\n",
       "    <tr style=\"text-align: right;\">\n",
       "      <th></th>\n",
       "      <th>Topic</th>\n",
       "      <th>Count</th>\n",
       "      <th>Name</th>\n",
       "      <th>Representation</th>\n",
       "      <th>Representative_Docs</th>\n",
       "    </tr>\n",
       "  </thead>\n",
       "  <tbody>\n",
       "    <tr>\n",
       "      <th>0</th>\n",
       "      <td>-1</td>\n",
       "      <td>88366</td>\n",
       "      <td>-1_coffee_bar_london_we</td>\n",
       "      <td>[coffee, bar, london, we, shower, with, bathro...</td>\n",
       "      <td>[ The whole experience was great Although an u...</td>\n",
       "    </tr>\n",
       "    <tr>\n",
       "      <th>1</th>\n",
       "      <td>0</td>\n",
       "      <td>19639</td>\n",
       "      <td>0_positive_no_commment_bracket</td>\n",
       "      <td>[positive, no, commment, bracket, tentative, p...</td>\n",
       "      <td>[No Positive, No Positive, No Positive]</td>\n",
       "    </tr>\n",
       "    <tr>\n",
       "      <th>2</th>\n",
       "      <td>1</td>\n",
       "      <td>6779</td>\n",
       "      <td>1_location_amaing_locationthe_golf</td>\n",
       "      <td>[location, amaing, locationthe, golf, rocks, g...</td>\n",
       "      <td>[ Location,  Location,  location]</td>\n",
       "    </tr>\n",
       "    <tr>\n",
       "      <th>3</th>\n",
       "      <td>2</td>\n",
       "      <td>3551</td>\n",
       "      <td>2_were_room_helpful_polite</td>\n",
       "      <td>[were, room, helpful, polite, staff, rooms, up...</td>\n",
       "      <td>[ Staff very friendly and helpful and the room...</td>\n",
       "    </tr>\n",
       "    <tr>\n",
       "      <th>4</th>\n",
       "      <td>3</td>\n",
       "      <td>3035</td>\n",
       "      <td>3_birthday_cake_anniversary_wedding</td>\n",
       "      <td>[birthday, cake, anniversary, wedding, card, b...</td>\n",
       "      <td>[ Staff were lovely left me a birthday cake ca...</td>\n",
       "    </tr>\n",
       "    <tr>\n",
       "      <th>...</th>\n",
       "      <td>...</td>\n",
       "      <td>...</td>\n",
       "      <td>...</td>\n",
       "      <td>...</td>\n",
       "      <td>...</td>\n",
       "    </tr>\n",
       "    <tr>\n",
       "      <th>2265</th>\n",
       "      <td>2264</td>\n",
       "      <td>10</td>\n",
       "      <td>2264_convenient_simple_book_reasonable</td>\n",
       "      <td>[convenient, simple, book, reasonable, handy, ...</td>\n",
       "      <td>[ Convenient and clean,  Clean and convenient,...</td>\n",
       "    </tr>\n",
       "    <tr>\n",
       "      <th>2266</th>\n",
       "      <td>2265</td>\n",
       "      <td>10</td>\n",
       "      <td>2265_lily_langtry_sumptuous_items</td>\n",
       "      <td>[lily, langtry, sumptuous, items, complementar...</td>\n",
       "      <td>[ Lovely room with very nice complementary ite...</td>\n",
       "    </tr>\n",
       "    <tr>\n",
       "      <th>2267</th>\n",
       "      <td>2266</td>\n",
       "      <td>10</td>\n",
       "      <td>2266_midway_hyde_hydepark_destination</td>\n",
       "      <td>[midway, hyde, hydepark, destination, undergro...</td>\n",
       "      <td>[ great destination very close to hydepark and...</td>\n",
       "    </tr>\n",
       "    <tr>\n",
       "      <th>2268</th>\n",
       "      <td>2267</td>\n",
       "      <td>10</td>\n",
       "      <td>2267_matinee_joanna_10pm_basement</td>\n",
       "      <td>[matinee, joanna, 10pm, basement, performance,...</td>\n",
       "      <td>[ Reception staff not very friendly at check i...</td>\n",
       "    </tr>\n",
       "    <tr>\n",
       "      <th>2269</th>\n",
       "      <td>2268</td>\n",
       "      <td>10</td>\n",
       "      <td>2268_tasteful_cute_queen_impeccable</td>\n",
       "      <td>[tasteful, cute, queen, impeccable, beautiful,...</td>\n",
       "      <td>[ The room was cute,  The room was really tast...</td>\n",
       "    </tr>\n",
       "  </tbody>\n",
       "</table>\n",
       "<p>2270 rows × 5 columns</p>\n",
       "</div>"
      ],
      "text/plain": [
       "      Topic  Count                                    Name  \\\n",
       "0        -1  88366                 -1_coffee_bar_london_we   \n",
       "1         0  19639          0_positive_no_commment_bracket   \n",
       "2         1   6779      1_location_amaing_locationthe_golf   \n",
       "3         2   3551              2_were_room_helpful_polite   \n",
       "4         3   3035     3_birthday_cake_anniversary_wedding   \n",
       "...     ...    ...                                     ...   \n",
       "2265   2264     10  2264_convenient_simple_book_reasonable   \n",
       "2266   2265     10       2265_lily_langtry_sumptuous_items   \n",
       "2267   2266     10   2266_midway_hyde_hydepark_destination   \n",
       "2268   2267     10       2267_matinee_joanna_10pm_basement   \n",
       "2269   2268     10     2268_tasteful_cute_queen_impeccable   \n",
       "\n",
       "                                         Representation  \\\n",
       "0     [coffee, bar, london, we, shower, with, bathro...   \n",
       "1     [positive, no, commment, bracket, tentative, p...   \n",
       "2     [location, amaing, locationthe, golf, rocks, g...   \n",
       "3     [were, room, helpful, polite, staff, rooms, up...   \n",
       "4     [birthday, cake, anniversary, wedding, card, b...   \n",
       "...                                                 ...   \n",
       "2265  [convenient, simple, book, reasonable, handy, ...   \n",
       "2266  [lily, langtry, sumptuous, items, complementar...   \n",
       "2267  [midway, hyde, hydepark, destination, undergro...   \n",
       "2268  [matinee, joanna, 10pm, basement, performance,...   \n",
       "2269  [tasteful, cute, queen, impeccable, beautiful,...   \n",
       "\n",
       "                                    Representative_Docs  \n",
       "0     [ The whole experience was great Although an u...  \n",
       "1               [No Positive, No Positive, No Positive]  \n",
       "2                     [ Location,  Location,  location]  \n",
       "3     [ Staff very friendly and helpful and the room...  \n",
       "4     [ Staff were lovely left me a birthday cake ca...  \n",
       "...                                                 ...  \n",
       "2265  [ Convenient and clean,  Clean and convenient,...  \n",
       "2266  [ Lovely room with very nice complementary ite...  \n",
       "2267  [ great destination very close to hydepark and...  \n",
       "2268  [ Reception staff not very friendly at check i...  \n",
       "2269  [ The room was cute,  The room was really tast...  \n",
       "\n",
       "[2270 rows x 5 columns]"
      ]
     },
     "execution_count": 32,
     "metadata": {},
     "output_type": "execute_result"
    }
   ],
   "source": [
    "topic_model.get_topic_info()"
   ]
  },
  {
   "cell_type": "code",
   "execution_count": 43,
   "metadata": {},
   "outputs": [
    {
     "data": {
      "text/plain": [
       "[('everything', 0.1257731944293152),\n",
       " ('almosut', 0.0041883140181031755),\n",
       " ('goring', 0.0030940197028826023),\n",
       " ('xxxx', 0.0030191222469659),\n",
       " ('honestly', 0.0029992733431656684),\n",
       " ('surprising', 0.0021511495931072896),\n",
       " ('lol', 0.0021511495931072896),\n",
       " ('noticed', 0.0018329923283696287),\n",
       " ('smell', 0.0012069951216006898),\n",
       " ('change', 0.0008034613635838656)]"
      ]
     },
     "execution_count": 43,
     "metadata": {},
     "output_type": "execute_result"
    }
   ],
   "source": [
    "topic_model.get_topic(6\n",
    ")"
   ]
  },
  {
   "cell_type": "code",
   "execution_count": 24,
   "metadata": {},
   "outputs": [
    {
     "data": {
      "text/html": [
       "<div>\n",
       "<style scoped>\n",
       "    .dataframe tbody tr th:only-of-type {\n",
       "        vertical-align: middle;\n",
       "    }\n",
       "\n",
       "    .dataframe tbody tr th {\n",
       "        vertical-align: top;\n",
       "    }\n",
       "\n",
       "    .dataframe thead th {\n",
       "        text-align: right;\n",
       "    }\n",
       "</style>\n",
       "<table border=\"1\" class=\"dataframe\">\n",
       "  <thead>\n",
       "    <tr style=\"text-align: right;\">\n",
       "      <th></th>\n",
       "      <th>Document</th>\n",
       "      <th>Topic</th>\n",
       "      <th>Name</th>\n",
       "      <th>Representation</th>\n",
       "      <th>Representative_Docs</th>\n",
       "      <th>Top_n_words</th>\n",
       "      <th>Probability</th>\n",
       "      <th>Representative_document</th>\n",
       "    </tr>\n",
       "  </thead>\n",
       "  <tbody>\n",
       "    <tr>\n",
       "      <th>0</th>\n",
       "      <td>Very comfortable beds smart bathroom good sho...</td>\n",
       "      <td>-1</td>\n",
       "      <td>-1_the_was_and_in</td>\n",
       "      <td>[the, was, and, in, of, we, but, were, room, h...</td>\n",
       "      <td>[ This hotel had excellent staff the front des...</td>\n",
       "      <td>the - was - and - in - of - we - but - were - ...</td>\n",
       "      <td>0.000000</td>\n",
       "      <td>False</td>\n",
       "    </tr>\n",
       "    <tr>\n",
       "      <th>1</th>\n",
       "      <td>No Positive.  No coffee or tea in the room or ...</td>\n",
       "      <td>78</td>\n",
       "      <td>78_milk_coffee_tea_positive</td>\n",
       "      <td>[milk, coffee, tea, positive, making, machine,...</td>\n",
       "      <td>[No Positive.  There was not enough coffee and...</td>\n",
       "      <td>milk - coffee - tea - positive - making - mach...</td>\n",
       "      <td>0.303844</td>\n",
       "      <td>False</td>\n",
       "    </tr>\n",
       "    <tr>\n",
       "      <th>2</th>\n",
       "      <td>The staff was very friendly and helpful in or...</td>\n",
       "      <td>-1</td>\n",
       "      <td>-1_the_was_and_in</td>\n",
       "      <td>[the, was, and, in, of, we, but, were, room, h...</td>\n",
       "      <td>[ This hotel had excellent staff the front des...</td>\n",
       "      <td>the - was - and - in - of - we - but - were - ...</td>\n",
       "      <td>0.000000</td>\n",
       "      <td>False</td>\n",
       "    </tr>\n",
       "    <tr>\n",
       "      <th>3</th>\n",
       "      <td>We stayed at the hotel at a friend s recommen...</td>\n",
       "      <td>-1</td>\n",
       "      <td>-1_the_was_and_in</td>\n",
       "      <td>[the, was, and, in, of, we, but, were, room, h...</td>\n",
       "      <td>[ This hotel had excellent staff the front des...</td>\n",
       "      <td>the - was - and - in - of - we - but - were - ...</td>\n",
       "      <td>0.000000</td>\n",
       "      <td>False</td>\n",
       "    </tr>\n",
       "    <tr>\n",
       "      <th>4</th>\n",
       "      <td>Super location on Division underground line d...</td>\n",
       "      <td>-1</td>\n",
       "      <td>-1_the_was_and_in</td>\n",
       "      <td>[the, was, and, in, of, we, but, were, room, h...</td>\n",
       "      <td>[ This hotel had excellent staff the front des...</td>\n",
       "      <td>the - was - and - in - of - we - but - were - ...</td>\n",
       "      <td>0.000000</td>\n",
       "      <td>False</td>\n",
       "    </tr>\n",
       "    <tr>\n",
       "      <th>...</th>\n",
       "      <td>...</td>\n",
       "      <td>...</td>\n",
       "      <td>...</td>\n",
       "      <td>...</td>\n",
       "      <td>...</td>\n",
       "      <td>...</td>\n",
       "      <td>...</td>\n",
       "      <td>...</td>\n",
       "    </tr>\n",
       "    <tr>\n",
       "      <th>262296</th>\n",
       "      <td>No Positive.  Internet should never ever be pa...</td>\n",
       "      <td>328</td>\n",
       "      <td>328_wifi_internet_positive_whifi</td>\n",
       "      <td>[wifi, internet, positive, whifi, pay, fi, wi,...</td>\n",
       "      <td>[No Positive.  I stayed in a lot of mom and po...</td>\n",
       "      <td>wifi - internet - positive - whifi - pay - fi ...</td>\n",
       "      <td>0.493281</td>\n",
       "      <td>False</td>\n",
       "    </tr>\n",
       "    <tr>\n",
       "      <th>262297</th>\n",
       "      <td>Loved the location friendly helpful staff.  R...</td>\n",
       "      <td>92</td>\n",
       "      <td>92_small_rooms_friendly_location</td>\n",
       "      <td>[small, rooms, friendly, location, staff, size...</td>\n",
       "      <td>[ Location great staff helpful and friendly.  ...</td>\n",
       "      <td>small - rooms - friendly - location - staff - ...</td>\n",
       "      <td>0.576340</td>\n",
       "      <td>False</td>\n",
       "    </tr>\n",
       "    <tr>\n",
       "      <th>262298</th>\n",
       "      <td>Location was good .  The room wasn t what was...</td>\n",
       "      <td>-1</td>\n",
       "      <td>-1_the_was_and_in</td>\n",
       "      <td>[the, was, and, in, of, we, but, were, room, h...</td>\n",
       "      <td>[ This hotel had excellent staff the front des...</td>\n",
       "      <td>the - was - and - in - of - we - but - were - ...</td>\n",
       "      <td>0.000000</td>\n",
       "      <td>False</td>\n",
       "    </tr>\n",
       "    <tr>\n",
       "      <th>262299</th>\n",
       "      <td>No Positive.  Bed room service was very late</td>\n",
       "      <td>-1</td>\n",
       "      <td>-1_the_was_and_in</td>\n",
       "      <td>[the, was, and, in, of, we, but, were, room, h...</td>\n",
       "      <td>[ This hotel had excellent staff the front des...</td>\n",
       "      <td>the - was - and - in - of - we - but - were - ...</td>\n",
       "      <td>0.000000</td>\n",
       "      <td>False</td>\n",
       "    </tr>\n",
       "    <tr>\n",
       "      <th>262300</th>\n",
       "      <td>Great very easy to amend booking to add extra...</td>\n",
       "      <td>461</td>\n",
       "      <td>461_service_vvv_bedrom_timetables</td>\n",
       "      <td>[service, vvv, bedrom, timetables, fort, peace...</td>\n",
       "      <td>[ Excellent service comfy beds and great locat...</td>\n",
       "      <td>service - vvv - bedrom - timetables - fort - p...</td>\n",
       "      <td>0.970217</td>\n",
       "      <td>False</td>\n",
       "    </tr>\n",
       "  </tbody>\n",
       "</table>\n",
       "<p>262301 rows × 8 columns</p>\n",
       "</div>"
      ],
      "text/plain": [
       "                                                 Document  Topic  \\\n",
       "0        Very comfortable beds smart bathroom good sho...     -1   \n",
       "1       No Positive.  No coffee or tea in the room or ...     78   \n",
       "2        The staff was very friendly and helpful in or...     -1   \n",
       "3        We stayed at the hotel at a friend s recommen...     -1   \n",
       "4        Super location on Division underground line d...     -1   \n",
       "...                                                   ...    ...   \n",
       "262296  No Positive.  Internet should never ever be pa...    328   \n",
       "262297   Loved the location friendly helpful staff.  R...     92   \n",
       "262298   Location was good .  The room wasn t what was...     -1   \n",
       "262299       No Positive.  Bed room service was very late     -1   \n",
       "262300   Great very easy to amend booking to add extra...    461   \n",
       "\n",
       "                                     Name  \\\n",
       "0                       -1_the_was_and_in   \n",
       "1             78_milk_coffee_tea_positive   \n",
       "2                       -1_the_was_and_in   \n",
       "3                       -1_the_was_and_in   \n",
       "4                       -1_the_was_and_in   \n",
       "...                                   ...   \n",
       "262296   328_wifi_internet_positive_whifi   \n",
       "262297   92_small_rooms_friendly_location   \n",
       "262298                  -1_the_was_and_in   \n",
       "262299                  -1_the_was_and_in   \n",
       "262300  461_service_vvv_bedrom_timetables   \n",
       "\n",
       "                                           Representation  \\\n",
       "0       [the, was, and, in, of, we, but, were, room, h...   \n",
       "1       [milk, coffee, tea, positive, making, machine,...   \n",
       "2       [the, was, and, in, of, we, but, were, room, h...   \n",
       "3       [the, was, and, in, of, we, but, were, room, h...   \n",
       "4       [the, was, and, in, of, we, but, were, room, h...   \n",
       "...                                                   ...   \n",
       "262296  [wifi, internet, positive, whifi, pay, fi, wi,...   \n",
       "262297  [small, rooms, friendly, location, staff, size...   \n",
       "262298  [the, was, and, in, of, we, but, were, room, h...   \n",
       "262299  [the, was, and, in, of, we, but, were, room, h...   \n",
       "262300  [service, vvv, bedrom, timetables, fort, peace...   \n",
       "\n",
       "                                      Representative_Docs  \\\n",
       "0       [ This hotel had excellent staff the front des...   \n",
       "1       [No Positive.  There was not enough coffee and...   \n",
       "2       [ This hotel had excellent staff the front des...   \n",
       "3       [ This hotel had excellent staff the front des...   \n",
       "4       [ This hotel had excellent staff the front des...   \n",
       "...                                                   ...   \n",
       "262296  [No Positive.  I stayed in a lot of mom and po...   \n",
       "262297  [ Location great staff helpful and friendly.  ...   \n",
       "262298  [ This hotel had excellent staff the front des...   \n",
       "262299  [ This hotel had excellent staff the front des...   \n",
       "262300  [ Excellent service comfy beds and great locat...   \n",
       "\n",
       "                                              Top_n_words  Probability  \\\n",
       "0       the - was - and - in - of - we - but - were - ...     0.000000   \n",
       "1       milk - coffee - tea - positive - making - mach...     0.303844   \n",
       "2       the - was - and - in - of - we - but - were - ...     0.000000   \n",
       "3       the - was - and - in - of - we - but - were - ...     0.000000   \n",
       "4       the - was - and - in - of - we - but - were - ...     0.000000   \n",
       "...                                                   ...          ...   \n",
       "262296  wifi - internet - positive - whifi - pay - fi ...     0.493281   \n",
       "262297  small - rooms - friendly - location - staff - ...     0.576340   \n",
       "262298  the - was - and - in - of - we - but - were - ...     0.000000   \n",
       "262299  the - was - and - in - of - we - but - were - ...     0.000000   \n",
       "262300  service - vvv - bedrom - timetables - fort - p...     0.970217   \n",
       "\n",
       "        Representative_document  \n",
       "0                         False  \n",
       "1                         False  \n",
       "2                         False  \n",
       "3                         False  \n",
       "4                         False  \n",
       "...                         ...  \n",
       "262296                    False  \n",
       "262297                    False  \n",
       "262298                    False  \n",
       "262299                    False  \n",
       "262300                    False  \n",
       "\n",
       "[262301 rows x 8 columns]"
      ]
     },
     "execution_count": 24,
     "metadata": {},
     "output_type": "execute_result"
    }
   ],
   "source": [
    "topic_model.get_document_info(docs)"
   ]
  },
  {
   "cell_type": "code",
   "execution_count": 54,
   "metadata": {},
   "outputs": [],
   "source": [
    "from bertopic.representation import KeyBERTInspired\n",
    "\n",
    "# Fine-tune your topic representations\n",
    "representation_model = KeyBERTInspired()\n",
    "topic_model = BERTopic(representation_model=representation_model)"
   ]
  },
  {
   "cell_type": "code",
   "execution_count": 35,
   "metadata": {},
   "outputs": [
    {
     "name": "stderr",
     "output_type": "stream",
     "text": [
      "Der Befehl \"export\" ist entweder falsch geschrieben oder\n",
      "konnte nicht gefunden werden.\n"
     ]
    }
   ],
   "source": [
    "import os\n",
    "import openai\n",
    "from dotenv import load_dotenv\n",
    "load_dotenv()\n",
    "api_key = os.getenv('OPENAI_API_KEY')\n",
    "\n",
    "openai.api_key = api_key #for simple openai\n",
    "OPENAI_API_KEY = api_key #for langchain\n",
    "!export OPENAI_API_KEY=OPENAI_API_KEY"
   ]
  },
  {
   "cell_type": "code",
   "execution_count": null,
   "metadata": {},
   "outputs": [],
   "source": [
    "import openai\n",
    "from bertopic.representation import OpenAI\n",
    "\n",
    "# Fine-tune topic representations with GPT\n",
    "client = openai.OpenAI(api_key=OPENAI_API_KEY)\n",
    "#representation_model = OpenAI(client, model=\"gpt-4o-mini\", chat=True)\n",
    "#topic_model = BERTopic(representation_model=representation_model)"
   ]
  },
  {
   "cell_type": "code",
   "execution_count": 26,
   "metadata": {},
   "outputs": [
    {
     "data": {
      "text/plain": [
       "<bertopic._bertopic.BERTopic at 0x221124e8110>"
      ]
     },
     "execution_count": 26,
     "metadata": {},
     "output_type": "execute_result"
    }
   ],
   "source": [
    "topic_model.fit(docs)"
   ]
  },
  {
   "cell_type": "code",
   "execution_count": 33,
   "metadata": {},
   "outputs": [
    {
     "ename": "ValueError",
     "evalue": "Mime type rendering requires nbformat>=4.2.0 but it is not installed",
     "output_type": "error",
     "traceback": [
      "\u001b[1;31m---------------------------------------------------------------------------\u001b[0m",
      "\u001b[1;31mValueError\u001b[0m                                Traceback (most recent call last)",
      "File \u001b[1;32mc:\\Users\\alan_\\anaconda3\\envs\\Collective_LLM\\Lib\\site-packages\\IPython\\core\\formatters.py:925\u001b[0m, in \u001b[0;36mIPythonDisplayFormatter.__call__\u001b[1;34m(self, obj)\u001b[0m\n\u001b[0;32m    923\u001b[0m method \u001b[38;5;241m=\u001b[39m get_real_method(obj, \u001b[38;5;28mself\u001b[39m\u001b[38;5;241m.\u001b[39mprint_method)\n\u001b[0;32m    924\u001b[0m \u001b[38;5;28;01mif\u001b[39;00m method \u001b[38;5;129;01mis\u001b[39;00m \u001b[38;5;129;01mnot\u001b[39;00m \u001b[38;5;28;01mNone\u001b[39;00m:\n\u001b[1;32m--> 925\u001b[0m     \u001b[43mmethod\u001b[49m\u001b[43m(\u001b[49m\u001b[43m)\u001b[49m\n\u001b[0;32m    926\u001b[0m     \u001b[38;5;28;01mreturn\u001b[39;00m \u001b[38;5;28;01mTrue\u001b[39;00m\n",
      "File \u001b[1;32mc:\\Users\\alan_\\anaconda3\\envs\\Collective_LLM\\Lib\\site-packages\\plotly\\basedatatypes.py:832\u001b[0m, in \u001b[0;36mBaseFigure._ipython_display_\u001b[1;34m(self)\u001b[0m\n\u001b[0;32m    829\u001b[0m \u001b[38;5;28;01mimport\u001b[39;00m \u001b[38;5;21;01mplotly\u001b[39;00m\u001b[38;5;21;01m.\u001b[39;00m\u001b[38;5;21;01mio\u001b[39;00m \u001b[38;5;28;01mas\u001b[39;00m \u001b[38;5;21;01mpio\u001b[39;00m\n\u001b[0;32m    831\u001b[0m \u001b[38;5;28;01mif\u001b[39;00m pio\u001b[38;5;241m.\u001b[39mrenderers\u001b[38;5;241m.\u001b[39mrender_on_display \u001b[38;5;129;01mand\u001b[39;00m pio\u001b[38;5;241m.\u001b[39mrenderers\u001b[38;5;241m.\u001b[39mdefault:\n\u001b[1;32m--> 832\u001b[0m     \u001b[43mpio\u001b[49m\u001b[38;5;241;43m.\u001b[39;49m\u001b[43mshow\u001b[49m\u001b[43m(\u001b[49m\u001b[38;5;28;43mself\u001b[39;49m\u001b[43m)\u001b[49m\n\u001b[0;32m    833\u001b[0m \u001b[38;5;28;01melse\u001b[39;00m:\n\u001b[0;32m    834\u001b[0m     \u001b[38;5;28mprint\u001b[39m(\u001b[38;5;28mrepr\u001b[39m(\u001b[38;5;28mself\u001b[39m))\n",
      "File \u001b[1;32mc:\\Users\\alan_\\anaconda3\\envs\\Collective_LLM\\Lib\\site-packages\\plotly\\io\\_renderers.py:394\u001b[0m, in \u001b[0;36mshow\u001b[1;34m(fig, renderer, validate, **kwargs)\u001b[0m\n\u001b[0;32m    389\u001b[0m         \u001b[38;5;28;01mraise\u001b[39;00m \u001b[38;5;167;01mValueError\u001b[39;00m(\n\u001b[0;32m    390\u001b[0m             \u001b[38;5;124m\"\u001b[39m\u001b[38;5;124mMime type rendering requires ipython but it is not installed\u001b[39m\u001b[38;5;124m\"\u001b[39m\n\u001b[0;32m    391\u001b[0m         )\n\u001b[0;32m    393\u001b[0m     \u001b[38;5;28;01mif\u001b[39;00m \u001b[38;5;129;01mnot\u001b[39;00m nbformat \u001b[38;5;129;01mor\u001b[39;00m Version(nbformat\u001b[38;5;241m.\u001b[39m__version__) \u001b[38;5;241m<\u001b[39m Version(\u001b[38;5;124m\"\u001b[39m\u001b[38;5;124m4.2.0\u001b[39m\u001b[38;5;124m\"\u001b[39m):\n\u001b[1;32m--> 394\u001b[0m         \u001b[38;5;28;01mraise\u001b[39;00m \u001b[38;5;167;01mValueError\u001b[39;00m(\n\u001b[0;32m    395\u001b[0m             \u001b[38;5;124m\"\u001b[39m\u001b[38;5;124mMime type rendering requires nbformat>=4.2.0 but it is not installed\u001b[39m\u001b[38;5;124m\"\u001b[39m\n\u001b[0;32m    396\u001b[0m         )\n\u001b[0;32m    398\u001b[0m     ipython_display\u001b[38;5;241m.\u001b[39mdisplay(bundle, raw\u001b[38;5;241m=\u001b[39m\u001b[38;5;28;01mTrue\u001b[39;00m)\n\u001b[0;32m    400\u001b[0m \u001b[38;5;66;03m# external renderers\u001b[39;00m\n",
      "\u001b[1;31mValueError\u001b[0m: Mime type rendering requires nbformat>=4.2.0 but it is not installed"
     ]
    },
    {
     "data": {
      "application/vnd.plotly.v1+json": {
       "config": {
        "plotlyServerURL": "https://plot.ly"
       },
       "data": [
        {
         "marker": {
          "color": "#D55E00"
         },
         "orientation": "h",
         "type": "bar",
         "x": [
          0.00010393679757235385,
          0.00012834401730507083,
          0.0001892294494904965,
          0.03361281722096753,
          0.04082320843543864
         ],
         "xaxis": "x",
         "y": [
          "tentative  ",
          "bracket  ",
          "commment  ",
          "no  ",
          "positive  "
         ],
         "yaxis": "y"
        },
        {
         "marker": {
          "color": "#0072B2"
         },
         "orientation": "h",
         "type": "bar",
         "x": [
          0.0008310682905407387,
          0.0008578211913440493,
          0.001094399732391158,
          0.001094399732391158,
          0.01793402645867605
         ],
         "xaxis": "x2",
         "y": [
          "rocks  ",
          "golf  ",
          "locationthe  ",
          "amaing  ",
          "location  "
         ],
         "yaxis": "y2"
        },
        {
         "marker": {
          "color": "#CC79A7"
         },
         "orientation": "h",
         "type": "bar",
         "x": [
          0.0009767554160788464,
          0.0010050927316695452,
          0.0010248736565171878,
          0.00111488320162345,
          0.0014587678183509288
         ],
         "xaxis": "x3",
         "y": [
          "staff  ",
          "polite  ",
          "helpful  ",
          "room  ",
          "were  "
         ],
         "yaxis": "y3"
        },
        {
         "marker": {
          "color": "#E69F00"
         },
         "orientation": "h",
         "type": "bar",
         "x": [
          0.004273900831681877,
          0.004509889013423062,
          0.0059780874210394,
          0.006926581580341949,
          0.008857057071908423
         ],
         "xaxis": "x4",
         "y": [
          "card  ",
          "wedding  ",
          "anniversary  ",
          "cake  ",
          "birthday  "
         ],
         "yaxis": "y4"
        },
        {
         "marker": {
          "color": "#56B4E9"
         },
         "orientation": "h",
         "type": "bar",
         "x": [
          0.0010326925523481928,
          0.0010809034828848467,
          0.001240609310932745,
          0.001394331833983763,
          0.0019153708240465786
         ],
         "xaxis": "x5",
         "y": [
          "breakfasts  ",
          "delicious  ",
          "choice  ",
          "hotel  ",
          "breakfast  "
         ],
         "yaxis": "y5"
        },
        {
         "marker": {
          "color": "#009E73"
         },
         "orientation": "h",
         "type": "bar",
         "x": [
          0.0030569424454051754,
          0.003086568703389768,
          0.004961124322883412,
          0.0054092199023352844,
          0.01956430712095058
         ],
         "xaxis": "x6",
         "y": [
          "lancaster  ",
          "station  ",
          "express  ",
          "heathrow  ",
          "paddington  "
         ],
         "yaxis": "y6"
        },
        {
         "marker": {
          "color": "#F0E442"
         },
         "orientation": "h",
         "type": "bar",
         "x": [
          0.0029992733431656684,
          0.0030191222469659,
          0.0030940197028826023,
          0.0041883140181031755,
          0.1257731944293152
         ],
         "xaxis": "x7",
         "y": [
          "honestly  ",
          "xxxx  ",
          "goring  ",
          "almosut  ",
          "everything  "
         ],
         "yaxis": "y7"
        },
        {
         "marker": {
          "color": "#D55E00"
         },
         "orientation": "h",
         "type": "bar",
         "x": [
          0.001464522932742324,
          0.0018292443092111446,
          0.0019520187724321651,
          0.002083299716678032,
          0.002917587878944903
         ],
         "xaxis": "x8",
         "y": [
          "this  ",
          "best  ",
          "hotels  ",
          "favourite  ",
          "london  "
         ],
         "yaxis": "y8"
        }
       ],
       "layout": {
        "annotations": [
         {
          "font": {
           "size": 16
          },
          "showarrow": false,
          "text": "Topic 0",
          "x": 0.0875,
          "xanchor": "center",
          "xref": "paper",
          "y": 1,
          "yanchor": "bottom",
          "yref": "paper"
         },
         {
          "font": {
           "size": 16
          },
          "showarrow": false,
          "text": "Topic 1",
          "x": 0.36250000000000004,
          "xanchor": "center",
          "xref": "paper",
          "y": 1,
          "yanchor": "bottom",
          "yref": "paper"
         },
         {
          "font": {
           "size": 16
          },
          "showarrow": false,
          "text": "Topic 2",
          "x": 0.6375000000000001,
          "xanchor": "center",
          "xref": "paper",
          "y": 1,
          "yanchor": "bottom",
          "yref": "paper"
         },
         {
          "font": {
           "size": 16
          },
          "showarrow": false,
          "text": "Topic 3",
          "x": 0.9125,
          "xanchor": "center",
          "xref": "paper",
          "y": 1,
          "yanchor": "bottom",
          "yref": "paper"
         },
         {
          "font": {
           "size": 16
          },
          "showarrow": false,
          "text": "Topic 4",
          "x": 0.0875,
          "xanchor": "center",
          "xref": "paper",
          "y": 0.4,
          "yanchor": "bottom",
          "yref": "paper"
         },
         {
          "font": {
           "size": 16
          },
          "showarrow": false,
          "text": "Topic 5",
          "x": 0.36250000000000004,
          "xanchor": "center",
          "xref": "paper",
          "y": 0.4,
          "yanchor": "bottom",
          "yref": "paper"
         },
         {
          "font": {
           "size": 16
          },
          "showarrow": false,
          "text": "Topic 6",
          "x": 0.6375000000000001,
          "xanchor": "center",
          "xref": "paper",
          "y": 0.4,
          "yanchor": "bottom",
          "yref": "paper"
         },
         {
          "font": {
           "size": 16
          },
          "showarrow": false,
          "text": "Topic 7",
          "x": 0.9125,
          "xanchor": "center",
          "xref": "paper",
          "y": 0.4,
          "yanchor": "bottom",
          "yref": "paper"
         }
        ],
        "height": 500,
        "hoverlabel": {
         "bgcolor": "white",
         "font": {
          "family": "Rockwell",
          "size": 16
         }
        },
        "showlegend": false,
        "template": {
         "data": {
          "bar": [
           {
            "error_x": {
             "color": "#2a3f5f"
            },
            "error_y": {
             "color": "#2a3f5f"
            },
            "marker": {
             "line": {
              "color": "white",
              "width": 0.5
             },
             "pattern": {
              "fillmode": "overlay",
              "size": 10,
              "solidity": 0.2
             }
            },
            "type": "bar"
           }
          ],
          "barpolar": [
           {
            "marker": {
             "line": {
              "color": "white",
              "width": 0.5
             },
             "pattern": {
              "fillmode": "overlay",
              "size": 10,
              "solidity": 0.2
             }
            },
            "type": "barpolar"
           }
          ],
          "carpet": [
           {
            "aaxis": {
             "endlinecolor": "#2a3f5f",
             "gridcolor": "#C8D4E3",
             "linecolor": "#C8D4E3",
             "minorgridcolor": "#C8D4E3",
             "startlinecolor": "#2a3f5f"
            },
            "baxis": {
             "endlinecolor": "#2a3f5f",
             "gridcolor": "#C8D4E3",
             "linecolor": "#C8D4E3",
             "minorgridcolor": "#C8D4E3",
             "startlinecolor": "#2a3f5f"
            },
            "type": "carpet"
           }
          ],
          "choropleth": [
           {
            "colorbar": {
             "outlinewidth": 0,
             "ticks": ""
            },
            "type": "choropleth"
           }
          ],
          "contour": [
           {
            "colorbar": {
             "outlinewidth": 0,
             "ticks": ""
            },
            "colorscale": [
             [
              0,
              "#0d0887"
             ],
             [
              0.1111111111111111,
              "#46039f"
             ],
             [
              0.2222222222222222,
              "#7201a8"
             ],
             [
              0.3333333333333333,
              "#9c179e"
             ],
             [
              0.4444444444444444,
              "#bd3786"
             ],
             [
              0.5555555555555556,
              "#d8576b"
             ],
             [
              0.6666666666666666,
              "#ed7953"
             ],
             [
              0.7777777777777778,
              "#fb9f3a"
             ],
             [
              0.8888888888888888,
              "#fdca26"
             ],
             [
              1,
              "#f0f921"
             ]
            ],
            "type": "contour"
           }
          ],
          "contourcarpet": [
           {
            "colorbar": {
             "outlinewidth": 0,
             "ticks": ""
            },
            "type": "contourcarpet"
           }
          ],
          "heatmap": [
           {
            "colorbar": {
             "outlinewidth": 0,
             "ticks": ""
            },
            "colorscale": [
             [
              0,
              "#0d0887"
             ],
             [
              0.1111111111111111,
              "#46039f"
             ],
             [
              0.2222222222222222,
              "#7201a8"
             ],
             [
              0.3333333333333333,
              "#9c179e"
             ],
             [
              0.4444444444444444,
              "#bd3786"
             ],
             [
              0.5555555555555556,
              "#d8576b"
             ],
             [
              0.6666666666666666,
              "#ed7953"
             ],
             [
              0.7777777777777778,
              "#fb9f3a"
             ],
             [
              0.8888888888888888,
              "#fdca26"
             ],
             [
              1,
              "#f0f921"
             ]
            ],
            "type": "heatmap"
           }
          ],
          "heatmapgl": [
           {
            "colorbar": {
             "outlinewidth": 0,
             "ticks": ""
            },
            "colorscale": [
             [
              0,
              "#0d0887"
             ],
             [
              0.1111111111111111,
              "#46039f"
             ],
             [
              0.2222222222222222,
              "#7201a8"
             ],
             [
              0.3333333333333333,
              "#9c179e"
             ],
             [
              0.4444444444444444,
              "#bd3786"
             ],
             [
              0.5555555555555556,
              "#d8576b"
             ],
             [
              0.6666666666666666,
              "#ed7953"
             ],
             [
              0.7777777777777778,
              "#fb9f3a"
             ],
             [
              0.8888888888888888,
              "#fdca26"
             ],
             [
              1,
              "#f0f921"
             ]
            ],
            "type": "heatmapgl"
           }
          ],
          "histogram": [
           {
            "marker": {
             "pattern": {
              "fillmode": "overlay",
              "size": 10,
              "solidity": 0.2
             }
            },
            "type": "histogram"
           }
          ],
          "histogram2d": [
           {
            "colorbar": {
             "outlinewidth": 0,
             "ticks": ""
            },
            "colorscale": [
             [
              0,
              "#0d0887"
             ],
             [
              0.1111111111111111,
              "#46039f"
             ],
             [
              0.2222222222222222,
              "#7201a8"
             ],
             [
              0.3333333333333333,
              "#9c179e"
             ],
             [
              0.4444444444444444,
              "#bd3786"
             ],
             [
              0.5555555555555556,
              "#d8576b"
             ],
             [
              0.6666666666666666,
              "#ed7953"
             ],
             [
              0.7777777777777778,
              "#fb9f3a"
             ],
             [
              0.8888888888888888,
              "#fdca26"
             ],
             [
              1,
              "#f0f921"
             ]
            ],
            "type": "histogram2d"
           }
          ],
          "histogram2dcontour": [
           {
            "colorbar": {
             "outlinewidth": 0,
             "ticks": ""
            },
            "colorscale": [
             [
              0,
              "#0d0887"
             ],
             [
              0.1111111111111111,
              "#46039f"
             ],
             [
              0.2222222222222222,
              "#7201a8"
             ],
             [
              0.3333333333333333,
              "#9c179e"
             ],
             [
              0.4444444444444444,
              "#bd3786"
             ],
             [
              0.5555555555555556,
              "#d8576b"
             ],
             [
              0.6666666666666666,
              "#ed7953"
             ],
             [
              0.7777777777777778,
              "#fb9f3a"
             ],
             [
              0.8888888888888888,
              "#fdca26"
             ],
             [
              1,
              "#f0f921"
             ]
            ],
            "type": "histogram2dcontour"
           }
          ],
          "mesh3d": [
           {
            "colorbar": {
             "outlinewidth": 0,
             "ticks": ""
            },
            "type": "mesh3d"
           }
          ],
          "parcoords": [
           {
            "line": {
             "colorbar": {
              "outlinewidth": 0,
              "ticks": ""
             }
            },
            "type": "parcoords"
           }
          ],
          "pie": [
           {
            "automargin": true,
            "type": "pie"
           }
          ],
          "scatter": [
           {
            "fillpattern": {
             "fillmode": "overlay",
             "size": 10,
             "solidity": 0.2
            },
            "type": "scatter"
           }
          ],
          "scatter3d": [
           {
            "line": {
             "colorbar": {
              "outlinewidth": 0,
              "ticks": ""
             }
            },
            "marker": {
             "colorbar": {
              "outlinewidth": 0,
              "ticks": ""
             }
            },
            "type": "scatter3d"
           }
          ],
          "scattercarpet": [
           {
            "marker": {
             "colorbar": {
              "outlinewidth": 0,
              "ticks": ""
             }
            },
            "type": "scattercarpet"
           }
          ],
          "scattergeo": [
           {
            "marker": {
             "colorbar": {
              "outlinewidth": 0,
              "ticks": ""
             }
            },
            "type": "scattergeo"
           }
          ],
          "scattergl": [
           {
            "marker": {
             "colorbar": {
              "outlinewidth": 0,
              "ticks": ""
             }
            },
            "type": "scattergl"
           }
          ],
          "scattermapbox": [
           {
            "marker": {
             "colorbar": {
              "outlinewidth": 0,
              "ticks": ""
             }
            },
            "type": "scattermapbox"
           }
          ],
          "scatterpolar": [
           {
            "marker": {
             "colorbar": {
              "outlinewidth": 0,
              "ticks": ""
             }
            },
            "type": "scatterpolar"
           }
          ],
          "scatterpolargl": [
           {
            "marker": {
             "colorbar": {
              "outlinewidth": 0,
              "ticks": ""
             }
            },
            "type": "scatterpolargl"
           }
          ],
          "scatterternary": [
           {
            "marker": {
             "colorbar": {
              "outlinewidth": 0,
              "ticks": ""
             }
            },
            "type": "scatterternary"
           }
          ],
          "surface": [
           {
            "colorbar": {
             "outlinewidth": 0,
             "ticks": ""
            },
            "colorscale": [
             [
              0,
              "#0d0887"
             ],
             [
              0.1111111111111111,
              "#46039f"
             ],
             [
              0.2222222222222222,
              "#7201a8"
             ],
             [
              0.3333333333333333,
              "#9c179e"
             ],
             [
              0.4444444444444444,
              "#bd3786"
             ],
             [
              0.5555555555555556,
              "#d8576b"
             ],
             [
              0.6666666666666666,
              "#ed7953"
             ],
             [
              0.7777777777777778,
              "#fb9f3a"
             ],
             [
              0.8888888888888888,
              "#fdca26"
             ],
             [
              1,
              "#f0f921"
             ]
            ],
            "type": "surface"
           }
          ],
          "table": [
           {
            "cells": {
             "fill": {
              "color": "#EBF0F8"
             },
             "line": {
              "color": "white"
             }
            },
            "header": {
             "fill": {
              "color": "#C8D4E3"
             },
             "line": {
              "color": "white"
             }
            },
            "type": "table"
           }
          ]
         },
         "layout": {
          "annotationdefaults": {
           "arrowcolor": "#2a3f5f",
           "arrowhead": 0,
           "arrowwidth": 1
          },
          "autotypenumbers": "strict",
          "coloraxis": {
           "colorbar": {
            "outlinewidth": 0,
            "ticks": ""
           }
          },
          "colorscale": {
           "diverging": [
            [
             0,
             "#8e0152"
            ],
            [
             0.1,
             "#c51b7d"
            ],
            [
             0.2,
             "#de77ae"
            ],
            [
             0.3,
             "#f1b6da"
            ],
            [
             0.4,
             "#fde0ef"
            ],
            [
             0.5,
             "#f7f7f7"
            ],
            [
             0.6,
             "#e6f5d0"
            ],
            [
             0.7,
             "#b8e186"
            ],
            [
             0.8,
             "#7fbc41"
            ],
            [
             0.9,
             "#4d9221"
            ],
            [
             1,
             "#276419"
            ]
           ],
           "sequential": [
            [
             0,
             "#0d0887"
            ],
            [
             0.1111111111111111,
             "#46039f"
            ],
            [
             0.2222222222222222,
             "#7201a8"
            ],
            [
             0.3333333333333333,
             "#9c179e"
            ],
            [
             0.4444444444444444,
             "#bd3786"
            ],
            [
             0.5555555555555556,
             "#d8576b"
            ],
            [
             0.6666666666666666,
             "#ed7953"
            ],
            [
             0.7777777777777778,
             "#fb9f3a"
            ],
            [
             0.8888888888888888,
             "#fdca26"
            ],
            [
             1,
             "#f0f921"
            ]
           ],
           "sequentialminus": [
            [
             0,
             "#0d0887"
            ],
            [
             0.1111111111111111,
             "#46039f"
            ],
            [
             0.2222222222222222,
             "#7201a8"
            ],
            [
             0.3333333333333333,
             "#9c179e"
            ],
            [
             0.4444444444444444,
             "#bd3786"
            ],
            [
             0.5555555555555556,
             "#d8576b"
            ],
            [
             0.6666666666666666,
             "#ed7953"
            ],
            [
             0.7777777777777778,
             "#fb9f3a"
            ],
            [
             0.8888888888888888,
             "#fdca26"
            ],
            [
             1,
             "#f0f921"
            ]
           ]
          },
          "colorway": [
           "#636efa",
           "#EF553B",
           "#00cc96",
           "#ab63fa",
           "#FFA15A",
           "#19d3f3",
           "#FF6692",
           "#B6E880",
           "#FF97FF",
           "#FECB52"
          ],
          "font": {
           "color": "#2a3f5f"
          },
          "geo": {
           "bgcolor": "white",
           "lakecolor": "white",
           "landcolor": "white",
           "showlakes": true,
           "showland": true,
           "subunitcolor": "#C8D4E3"
          },
          "hoverlabel": {
           "align": "left"
          },
          "hovermode": "closest",
          "mapbox": {
           "style": "light"
          },
          "paper_bgcolor": "white",
          "plot_bgcolor": "white",
          "polar": {
           "angularaxis": {
            "gridcolor": "#EBF0F8",
            "linecolor": "#EBF0F8",
            "ticks": ""
           },
           "bgcolor": "white",
           "radialaxis": {
            "gridcolor": "#EBF0F8",
            "linecolor": "#EBF0F8",
            "ticks": ""
           }
          },
          "scene": {
           "xaxis": {
            "backgroundcolor": "white",
            "gridcolor": "#DFE8F3",
            "gridwidth": 2,
            "linecolor": "#EBF0F8",
            "showbackground": true,
            "ticks": "",
            "zerolinecolor": "#EBF0F8"
           },
           "yaxis": {
            "backgroundcolor": "white",
            "gridcolor": "#DFE8F3",
            "gridwidth": 2,
            "linecolor": "#EBF0F8",
            "showbackground": true,
            "ticks": "",
            "zerolinecolor": "#EBF0F8"
           },
           "zaxis": {
            "backgroundcolor": "white",
            "gridcolor": "#DFE8F3",
            "gridwidth": 2,
            "linecolor": "#EBF0F8",
            "showbackground": true,
            "ticks": "",
            "zerolinecolor": "#EBF0F8"
           }
          },
          "shapedefaults": {
           "line": {
            "color": "#2a3f5f"
           }
          },
          "ternary": {
           "aaxis": {
            "gridcolor": "#DFE8F3",
            "linecolor": "#A2B1C6",
            "ticks": ""
           },
           "baxis": {
            "gridcolor": "#DFE8F3",
            "linecolor": "#A2B1C6",
            "ticks": ""
           },
           "bgcolor": "white",
           "caxis": {
            "gridcolor": "#DFE8F3",
            "linecolor": "#A2B1C6",
            "ticks": ""
           }
          },
          "title": {
           "x": 0.05
          },
          "xaxis": {
           "automargin": true,
           "gridcolor": "#EBF0F8",
           "linecolor": "#EBF0F8",
           "ticks": "",
           "title": {
            "standoff": 15
           },
           "zerolinecolor": "#EBF0F8",
           "zerolinewidth": 2
          },
          "yaxis": {
           "automargin": true,
           "gridcolor": "#EBF0F8",
           "linecolor": "#EBF0F8",
           "ticks": "",
           "title": {
            "standoff": 15
           },
           "zerolinecolor": "#EBF0F8",
           "zerolinewidth": 2
          }
         }
        },
        "title": {
         "font": {
          "color": "Black",
          "size": 22
         },
         "text": "Topic Word Scores",
         "x": 0.5,
         "xanchor": "center",
         "yanchor": "top"
        },
        "width": 1000,
        "xaxis": {
         "anchor": "y",
         "domain": [
          0,
          0.175
         ],
         "showgrid": true
        },
        "xaxis2": {
         "anchor": "y2",
         "domain": [
          0.275,
          0.45
         ],
         "showgrid": true
        },
        "xaxis3": {
         "anchor": "y3",
         "domain": [
          0.55,
          0.7250000000000001
         ],
         "showgrid": true
        },
        "xaxis4": {
         "anchor": "y4",
         "domain": [
          0.825,
          1
         ],
         "showgrid": true
        },
        "xaxis5": {
         "anchor": "y5",
         "domain": [
          0,
          0.175
         ],
         "showgrid": true
        },
        "xaxis6": {
         "anchor": "y6",
         "domain": [
          0.275,
          0.45
         ],
         "showgrid": true
        },
        "xaxis7": {
         "anchor": "y7",
         "domain": [
          0.55,
          0.7250000000000001
         ],
         "showgrid": true
        },
        "xaxis8": {
         "anchor": "y8",
         "domain": [
          0.825,
          1
         ],
         "showgrid": true
        },
        "yaxis": {
         "anchor": "x",
         "domain": [
          0.6000000000000001,
          1
         ],
         "showgrid": true
        },
        "yaxis2": {
         "anchor": "x2",
         "domain": [
          0.6000000000000001,
          1
         ],
         "showgrid": true
        },
        "yaxis3": {
         "anchor": "x3",
         "domain": [
          0.6000000000000001,
          1
         ],
         "showgrid": true
        },
        "yaxis4": {
         "anchor": "x4",
         "domain": [
          0.6000000000000001,
          1
         ],
         "showgrid": true
        },
        "yaxis5": {
         "anchor": "x5",
         "domain": [
          0,
          0.4
         ],
         "showgrid": true
        },
        "yaxis6": {
         "anchor": "x6",
         "domain": [
          0,
          0.4
         ],
         "showgrid": true
        },
        "yaxis7": {
         "anchor": "x7",
         "domain": [
          0,
          0.4
         ],
         "showgrid": true
        },
        "yaxis8": {
         "anchor": "x8",
         "domain": [
          0,
          0.4
         ],
         "showgrid": true
        }
       }
      },
      "text/html": [
       "<div>                        <script type=\"text/javascript\">window.PlotlyConfig = {MathJaxConfig: 'local'};</script>\n",
       "        <script charset=\"utf-8\" src=\"https://cdn.plot.ly/plotly-2.35.2.min.js\"></script>                <div id=\"2f328a65-57f8-4166-b1ec-526b7138ceda\" class=\"plotly-graph-div\" style=\"height:500px; width:1000px;\"></div>            <script type=\"text/javascript\">                                    window.PLOTLYENV=window.PLOTLYENV || {};                                    if (document.getElementById(\"2f328a65-57f8-4166-b1ec-526b7138ceda\")) {                    Plotly.newPlot(                        \"2f328a65-57f8-4166-b1ec-526b7138ceda\",                        [{\"marker\":{\"color\":\"#D55E00\"},\"orientation\":\"h\",\"x\":[0.00010393679757235385,0.00012834401730507083,0.0001892294494904965,0.03361281722096753,0.04082320843543864],\"y\":[\"tentative  \",\"bracket  \",\"commment  \",\"no  \",\"positive  \"],\"type\":\"bar\",\"xaxis\":\"x\",\"yaxis\":\"y\"},{\"marker\":{\"color\":\"#0072B2\"},\"orientation\":\"h\",\"x\":[0.0008310682905407387,0.0008578211913440493,0.001094399732391158,0.001094399732391158,0.01793402645867605],\"y\":[\"rocks  \",\"golf  \",\"locationthe  \",\"amaing  \",\"location  \"],\"type\":\"bar\",\"xaxis\":\"x2\",\"yaxis\":\"y2\"},{\"marker\":{\"color\":\"#CC79A7\"},\"orientation\":\"h\",\"x\":[0.0009767554160788464,0.0010050927316695452,0.0010248736565171878,0.00111488320162345,0.0014587678183509288],\"y\":[\"staff  \",\"polite  \",\"helpful  \",\"room  \",\"were  \"],\"type\":\"bar\",\"xaxis\":\"x3\",\"yaxis\":\"y3\"},{\"marker\":{\"color\":\"#E69F00\"},\"orientation\":\"h\",\"x\":[0.004273900831681877,0.004509889013423062,0.0059780874210394,0.006926581580341949,0.008857057071908423],\"y\":[\"card  \",\"wedding  \",\"anniversary  \",\"cake  \",\"birthday  \"],\"type\":\"bar\",\"xaxis\":\"x4\",\"yaxis\":\"y4\"},{\"marker\":{\"color\":\"#56B4E9\"},\"orientation\":\"h\",\"x\":[0.0010326925523481928,0.0010809034828848467,0.001240609310932745,0.001394331833983763,0.0019153708240465786],\"y\":[\"breakfasts  \",\"delicious  \",\"choice  \",\"hotel  \",\"breakfast  \"],\"type\":\"bar\",\"xaxis\":\"x5\",\"yaxis\":\"y5\"},{\"marker\":{\"color\":\"#009E73\"},\"orientation\":\"h\",\"x\":[0.0030569424454051754,0.003086568703389768,0.004961124322883412,0.0054092199023352844,0.01956430712095058],\"y\":[\"lancaster  \",\"station  \",\"express  \",\"heathrow  \",\"paddington  \"],\"type\":\"bar\",\"xaxis\":\"x6\",\"yaxis\":\"y6\"},{\"marker\":{\"color\":\"#F0E442\"},\"orientation\":\"h\",\"x\":[0.0029992733431656684,0.0030191222469659,0.0030940197028826023,0.0041883140181031755,0.1257731944293152],\"y\":[\"honestly  \",\"xxxx  \",\"goring  \",\"almosut  \",\"everything  \"],\"type\":\"bar\",\"xaxis\":\"x7\",\"yaxis\":\"y7\"},{\"marker\":{\"color\":\"#D55E00\"},\"orientation\":\"h\",\"x\":[0.001464522932742324,0.0018292443092111446,0.0019520187724321651,0.002083299716678032,0.002917587878944903],\"y\":[\"this  \",\"best  \",\"hotels  \",\"favourite  \",\"london  \"],\"type\":\"bar\",\"xaxis\":\"x8\",\"yaxis\":\"y8\"}],                        {\"template\":{\"data\":{\"barpolar\":[{\"marker\":{\"line\":{\"color\":\"white\",\"width\":0.5},\"pattern\":{\"fillmode\":\"overlay\",\"size\":10,\"solidity\":0.2}},\"type\":\"barpolar\"}],\"bar\":[{\"error_x\":{\"color\":\"#2a3f5f\"},\"error_y\":{\"color\":\"#2a3f5f\"},\"marker\":{\"line\":{\"color\":\"white\",\"width\":0.5},\"pattern\":{\"fillmode\":\"overlay\",\"size\":10,\"solidity\":0.2}},\"type\":\"bar\"}],\"carpet\":[{\"aaxis\":{\"endlinecolor\":\"#2a3f5f\",\"gridcolor\":\"#C8D4E3\",\"linecolor\":\"#C8D4E3\",\"minorgridcolor\":\"#C8D4E3\",\"startlinecolor\":\"#2a3f5f\"},\"baxis\":{\"endlinecolor\":\"#2a3f5f\",\"gridcolor\":\"#C8D4E3\",\"linecolor\":\"#C8D4E3\",\"minorgridcolor\":\"#C8D4E3\",\"startlinecolor\":\"#2a3f5f\"},\"type\":\"carpet\"}],\"choropleth\":[{\"colorbar\":{\"outlinewidth\":0,\"ticks\":\"\"},\"type\":\"choropleth\"}],\"contourcarpet\":[{\"colorbar\":{\"outlinewidth\":0,\"ticks\":\"\"},\"type\":\"contourcarpet\"}],\"contour\":[{\"colorbar\":{\"outlinewidth\":0,\"ticks\":\"\"},\"colorscale\":[[0.0,\"#0d0887\"],[0.1111111111111111,\"#46039f\"],[0.2222222222222222,\"#7201a8\"],[0.3333333333333333,\"#9c179e\"],[0.4444444444444444,\"#bd3786\"],[0.5555555555555556,\"#d8576b\"],[0.6666666666666666,\"#ed7953\"],[0.7777777777777778,\"#fb9f3a\"],[0.8888888888888888,\"#fdca26\"],[1.0,\"#f0f921\"]],\"type\":\"contour\"}],\"heatmapgl\":[{\"colorbar\":{\"outlinewidth\":0,\"ticks\":\"\"},\"colorscale\":[[0.0,\"#0d0887\"],[0.1111111111111111,\"#46039f\"],[0.2222222222222222,\"#7201a8\"],[0.3333333333333333,\"#9c179e\"],[0.4444444444444444,\"#bd3786\"],[0.5555555555555556,\"#d8576b\"],[0.6666666666666666,\"#ed7953\"],[0.7777777777777778,\"#fb9f3a\"],[0.8888888888888888,\"#fdca26\"],[1.0,\"#f0f921\"]],\"type\":\"heatmapgl\"}],\"heatmap\":[{\"colorbar\":{\"outlinewidth\":0,\"ticks\":\"\"},\"colorscale\":[[0.0,\"#0d0887\"],[0.1111111111111111,\"#46039f\"],[0.2222222222222222,\"#7201a8\"],[0.3333333333333333,\"#9c179e\"],[0.4444444444444444,\"#bd3786\"],[0.5555555555555556,\"#d8576b\"],[0.6666666666666666,\"#ed7953\"],[0.7777777777777778,\"#fb9f3a\"],[0.8888888888888888,\"#fdca26\"],[1.0,\"#f0f921\"]],\"type\":\"heatmap\"}],\"histogram2dcontour\":[{\"colorbar\":{\"outlinewidth\":0,\"ticks\":\"\"},\"colorscale\":[[0.0,\"#0d0887\"],[0.1111111111111111,\"#46039f\"],[0.2222222222222222,\"#7201a8\"],[0.3333333333333333,\"#9c179e\"],[0.4444444444444444,\"#bd3786\"],[0.5555555555555556,\"#d8576b\"],[0.6666666666666666,\"#ed7953\"],[0.7777777777777778,\"#fb9f3a\"],[0.8888888888888888,\"#fdca26\"],[1.0,\"#f0f921\"]],\"type\":\"histogram2dcontour\"}],\"histogram2d\":[{\"colorbar\":{\"outlinewidth\":0,\"ticks\":\"\"},\"colorscale\":[[0.0,\"#0d0887\"],[0.1111111111111111,\"#46039f\"],[0.2222222222222222,\"#7201a8\"],[0.3333333333333333,\"#9c179e\"],[0.4444444444444444,\"#bd3786\"],[0.5555555555555556,\"#d8576b\"],[0.6666666666666666,\"#ed7953\"],[0.7777777777777778,\"#fb9f3a\"],[0.8888888888888888,\"#fdca26\"],[1.0,\"#f0f921\"]],\"type\":\"histogram2d\"}],\"histogram\":[{\"marker\":{\"pattern\":{\"fillmode\":\"overlay\",\"size\":10,\"solidity\":0.2}},\"type\":\"histogram\"}],\"mesh3d\":[{\"colorbar\":{\"outlinewidth\":0,\"ticks\":\"\"},\"type\":\"mesh3d\"}],\"parcoords\":[{\"line\":{\"colorbar\":{\"outlinewidth\":0,\"ticks\":\"\"}},\"type\":\"parcoords\"}],\"pie\":[{\"automargin\":true,\"type\":\"pie\"}],\"scatter3d\":[{\"line\":{\"colorbar\":{\"outlinewidth\":0,\"ticks\":\"\"}},\"marker\":{\"colorbar\":{\"outlinewidth\":0,\"ticks\":\"\"}},\"type\":\"scatter3d\"}],\"scattercarpet\":[{\"marker\":{\"colorbar\":{\"outlinewidth\":0,\"ticks\":\"\"}},\"type\":\"scattercarpet\"}],\"scattergeo\":[{\"marker\":{\"colorbar\":{\"outlinewidth\":0,\"ticks\":\"\"}},\"type\":\"scattergeo\"}],\"scattergl\":[{\"marker\":{\"colorbar\":{\"outlinewidth\":0,\"ticks\":\"\"}},\"type\":\"scattergl\"}],\"scattermapbox\":[{\"marker\":{\"colorbar\":{\"outlinewidth\":0,\"ticks\":\"\"}},\"type\":\"scattermapbox\"}],\"scatterpolargl\":[{\"marker\":{\"colorbar\":{\"outlinewidth\":0,\"ticks\":\"\"}},\"type\":\"scatterpolargl\"}],\"scatterpolar\":[{\"marker\":{\"colorbar\":{\"outlinewidth\":0,\"ticks\":\"\"}},\"type\":\"scatterpolar\"}],\"scatter\":[{\"fillpattern\":{\"fillmode\":\"overlay\",\"size\":10,\"solidity\":0.2},\"type\":\"scatter\"}],\"scatterternary\":[{\"marker\":{\"colorbar\":{\"outlinewidth\":0,\"ticks\":\"\"}},\"type\":\"scatterternary\"}],\"surface\":[{\"colorbar\":{\"outlinewidth\":0,\"ticks\":\"\"},\"colorscale\":[[0.0,\"#0d0887\"],[0.1111111111111111,\"#46039f\"],[0.2222222222222222,\"#7201a8\"],[0.3333333333333333,\"#9c179e\"],[0.4444444444444444,\"#bd3786\"],[0.5555555555555556,\"#d8576b\"],[0.6666666666666666,\"#ed7953\"],[0.7777777777777778,\"#fb9f3a\"],[0.8888888888888888,\"#fdca26\"],[1.0,\"#f0f921\"]],\"type\":\"surface\"}],\"table\":[{\"cells\":{\"fill\":{\"color\":\"#EBF0F8\"},\"line\":{\"color\":\"white\"}},\"header\":{\"fill\":{\"color\":\"#C8D4E3\"},\"line\":{\"color\":\"white\"}},\"type\":\"table\"}]},\"layout\":{\"annotationdefaults\":{\"arrowcolor\":\"#2a3f5f\",\"arrowhead\":0,\"arrowwidth\":1},\"autotypenumbers\":\"strict\",\"coloraxis\":{\"colorbar\":{\"outlinewidth\":0,\"ticks\":\"\"}},\"colorscale\":{\"diverging\":[[0,\"#8e0152\"],[0.1,\"#c51b7d\"],[0.2,\"#de77ae\"],[0.3,\"#f1b6da\"],[0.4,\"#fde0ef\"],[0.5,\"#f7f7f7\"],[0.6,\"#e6f5d0\"],[0.7,\"#b8e186\"],[0.8,\"#7fbc41\"],[0.9,\"#4d9221\"],[1,\"#276419\"]],\"sequential\":[[0.0,\"#0d0887\"],[0.1111111111111111,\"#46039f\"],[0.2222222222222222,\"#7201a8\"],[0.3333333333333333,\"#9c179e\"],[0.4444444444444444,\"#bd3786\"],[0.5555555555555556,\"#d8576b\"],[0.6666666666666666,\"#ed7953\"],[0.7777777777777778,\"#fb9f3a\"],[0.8888888888888888,\"#fdca26\"],[1.0,\"#f0f921\"]],\"sequentialminus\":[[0.0,\"#0d0887\"],[0.1111111111111111,\"#46039f\"],[0.2222222222222222,\"#7201a8\"],[0.3333333333333333,\"#9c179e\"],[0.4444444444444444,\"#bd3786\"],[0.5555555555555556,\"#d8576b\"],[0.6666666666666666,\"#ed7953\"],[0.7777777777777778,\"#fb9f3a\"],[0.8888888888888888,\"#fdca26\"],[1.0,\"#f0f921\"]]},\"colorway\":[\"#636efa\",\"#EF553B\",\"#00cc96\",\"#ab63fa\",\"#FFA15A\",\"#19d3f3\",\"#FF6692\",\"#B6E880\",\"#FF97FF\",\"#FECB52\"],\"font\":{\"color\":\"#2a3f5f\"},\"geo\":{\"bgcolor\":\"white\",\"lakecolor\":\"white\",\"landcolor\":\"white\",\"showlakes\":true,\"showland\":true,\"subunitcolor\":\"#C8D4E3\"},\"hoverlabel\":{\"align\":\"left\"},\"hovermode\":\"closest\",\"mapbox\":{\"style\":\"light\"},\"paper_bgcolor\":\"white\",\"plot_bgcolor\":\"white\",\"polar\":{\"angularaxis\":{\"gridcolor\":\"#EBF0F8\",\"linecolor\":\"#EBF0F8\",\"ticks\":\"\"},\"bgcolor\":\"white\",\"radialaxis\":{\"gridcolor\":\"#EBF0F8\",\"linecolor\":\"#EBF0F8\",\"ticks\":\"\"}},\"scene\":{\"xaxis\":{\"backgroundcolor\":\"white\",\"gridcolor\":\"#DFE8F3\",\"gridwidth\":2,\"linecolor\":\"#EBF0F8\",\"showbackground\":true,\"ticks\":\"\",\"zerolinecolor\":\"#EBF0F8\"},\"yaxis\":{\"backgroundcolor\":\"white\",\"gridcolor\":\"#DFE8F3\",\"gridwidth\":2,\"linecolor\":\"#EBF0F8\",\"showbackground\":true,\"ticks\":\"\",\"zerolinecolor\":\"#EBF0F8\"},\"zaxis\":{\"backgroundcolor\":\"white\",\"gridcolor\":\"#DFE8F3\",\"gridwidth\":2,\"linecolor\":\"#EBF0F8\",\"showbackground\":true,\"ticks\":\"\",\"zerolinecolor\":\"#EBF0F8\"}},\"shapedefaults\":{\"line\":{\"color\":\"#2a3f5f\"}},\"ternary\":{\"aaxis\":{\"gridcolor\":\"#DFE8F3\",\"linecolor\":\"#A2B1C6\",\"ticks\":\"\"},\"baxis\":{\"gridcolor\":\"#DFE8F3\",\"linecolor\":\"#A2B1C6\",\"ticks\":\"\"},\"bgcolor\":\"white\",\"caxis\":{\"gridcolor\":\"#DFE8F3\",\"linecolor\":\"#A2B1C6\",\"ticks\":\"\"}},\"title\":{\"x\":0.05},\"xaxis\":{\"automargin\":true,\"gridcolor\":\"#EBF0F8\",\"linecolor\":\"#EBF0F8\",\"ticks\":\"\",\"title\":{\"standoff\":15},\"zerolinecolor\":\"#EBF0F8\",\"zerolinewidth\":2},\"yaxis\":{\"automargin\":true,\"gridcolor\":\"#EBF0F8\",\"linecolor\":\"#EBF0F8\",\"ticks\":\"\",\"title\":{\"standoff\":15},\"zerolinecolor\":\"#EBF0F8\",\"zerolinewidth\":2}}},\"xaxis\":{\"anchor\":\"y\",\"domain\":[0.0,0.175],\"showgrid\":true},\"yaxis\":{\"anchor\":\"x\",\"domain\":[0.6000000000000001,1.0],\"showgrid\":true},\"xaxis2\":{\"anchor\":\"y2\",\"domain\":[0.275,0.45],\"showgrid\":true},\"yaxis2\":{\"anchor\":\"x2\",\"domain\":[0.6000000000000001,1.0],\"showgrid\":true},\"xaxis3\":{\"anchor\":\"y3\",\"domain\":[0.55,0.7250000000000001],\"showgrid\":true},\"yaxis3\":{\"anchor\":\"x3\",\"domain\":[0.6000000000000001,1.0],\"showgrid\":true},\"xaxis4\":{\"anchor\":\"y4\",\"domain\":[0.825,1.0],\"showgrid\":true},\"yaxis4\":{\"anchor\":\"x4\",\"domain\":[0.6000000000000001,1.0],\"showgrid\":true},\"xaxis5\":{\"anchor\":\"y5\",\"domain\":[0.0,0.175],\"showgrid\":true},\"yaxis5\":{\"anchor\":\"x5\",\"domain\":[0.0,0.4],\"showgrid\":true},\"xaxis6\":{\"anchor\":\"y6\",\"domain\":[0.275,0.45],\"showgrid\":true},\"yaxis6\":{\"anchor\":\"x6\",\"domain\":[0.0,0.4],\"showgrid\":true},\"xaxis7\":{\"anchor\":\"y7\",\"domain\":[0.55,0.7250000000000001],\"showgrid\":true},\"yaxis7\":{\"anchor\":\"x7\",\"domain\":[0.0,0.4],\"showgrid\":true},\"xaxis8\":{\"anchor\":\"y8\",\"domain\":[0.825,1.0],\"showgrid\":true},\"yaxis8\":{\"anchor\":\"x8\",\"domain\":[0.0,0.4],\"showgrid\":true},\"annotations\":[{\"font\":{\"size\":16},\"showarrow\":false,\"text\":\"Topic 0\",\"x\":0.0875,\"xanchor\":\"center\",\"xref\":\"paper\",\"y\":1.0,\"yanchor\":\"bottom\",\"yref\":\"paper\"},{\"font\":{\"size\":16},\"showarrow\":false,\"text\":\"Topic 1\",\"x\":0.36250000000000004,\"xanchor\":\"center\",\"xref\":\"paper\",\"y\":1.0,\"yanchor\":\"bottom\",\"yref\":\"paper\"},{\"font\":{\"size\":16},\"showarrow\":false,\"text\":\"Topic 2\",\"x\":0.6375000000000001,\"xanchor\":\"center\",\"xref\":\"paper\",\"y\":1.0,\"yanchor\":\"bottom\",\"yref\":\"paper\"},{\"font\":{\"size\":16},\"showarrow\":false,\"text\":\"Topic 3\",\"x\":0.9125,\"xanchor\":\"center\",\"xref\":\"paper\",\"y\":1.0,\"yanchor\":\"bottom\",\"yref\":\"paper\"},{\"font\":{\"size\":16},\"showarrow\":false,\"text\":\"Topic 4\",\"x\":0.0875,\"xanchor\":\"center\",\"xref\":\"paper\",\"y\":0.4,\"yanchor\":\"bottom\",\"yref\":\"paper\"},{\"font\":{\"size\":16},\"showarrow\":false,\"text\":\"Topic 5\",\"x\":0.36250000000000004,\"xanchor\":\"center\",\"xref\":\"paper\",\"y\":0.4,\"yanchor\":\"bottom\",\"yref\":\"paper\"},{\"font\":{\"size\":16},\"showarrow\":false,\"text\":\"Topic 6\",\"x\":0.6375000000000001,\"xanchor\":\"center\",\"xref\":\"paper\",\"y\":0.4,\"yanchor\":\"bottom\",\"yref\":\"paper\"},{\"font\":{\"size\":16},\"showarrow\":false,\"text\":\"Topic 7\",\"x\":0.9125,\"xanchor\":\"center\",\"xref\":\"paper\",\"y\":0.4,\"yanchor\":\"bottom\",\"yref\":\"paper\"}],\"title\":{\"font\":{\"size\":22,\"color\":\"Black\"},\"text\":\"Topic Word Scores\",\"x\":0.5,\"xanchor\":\"center\",\"yanchor\":\"top\"},\"hoverlabel\":{\"font\":{\"size\":16,\"family\":\"Rockwell\"},\"bgcolor\":\"white\"},\"showlegend\":false,\"width\":1000,\"height\":500},                        {\"responsive\": true}                    )                };                            </script>        </div>"
      ],
      "text/plain": [
       "Figure({\n",
       "    'data': [{'marker': {'color': '#D55E00'},\n",
       "              'orientation': 'h',\n",
       "              'type': 'bar',\n",
       "              'x': [0.00010393679757235385, 0.00012834401730507083,\n",
       "                    0.0001892294494904965, 0.03361281722096753,\n",
       "                    0.04082320843543864],\n",
       "              'xaxis': 'x',\n",
       "              'y': [tentative  , bracket  , commment  , no  , positive  ],\n",
       "              'yaxis': 'y'},\n",
       "             {'marker': {'color': '#0072B2'},\n",
       "              'orientation': 'h',\n",
       "              'type': 'bar',\n",
       "              'x': [0.0008310682905407387, 0.0008578211913440493,\n",
       "                    0.001094399732391158, 0.001094399732391158,\n",
       "                    0.01793402645867605],\n",
       "              'xaxis': 'x2',\n",
       "              'y': [rocks  , golf  , locationthe  , amaing  , location  ],\n",
       "              'yaxis': 'y2'},\n",
       "             {'marker': {'color': '#CC79A7'},\n",
       "              'orientation': 'h',\n",
       "              'type': 'bar',\n",
       "              'x': [0.0009767554160788464, 0.0010050927316695452,\n",
       "                    0.0010248736565171878, 0.00111488320162345,\n",
       "                    0.0014587678183509288],\n",
       "              'xaxis': 'x3',\n",
       "              'y': [staff  , polite  , helpful  , room  , were  ],\n",
       "              'yaxis': 'y3'},\n",
       "             {'marker': {'color': '#E69F00'},\n",
       "              'orientation': 'h',\n",
       "              'type': 'bar',\n",
       "              'x': [0.004273900831681877, 0.004509889013423062,\n",
       "                    0.0059780874210394, 0.006926581580341949, 0.008857057071908423],\n",
       "              'xaxis': 'x4',\n",
       "              'y': [card  , wedding  , anniversary  , cake  , birthday  ],\n",
       "              'yaxis': 'y4'},\n",
       "             {'marker': {'color': '#56B4E9'},\n",
       "              'orientation': 'h',\n",
       "              'type': 'bar',\n",
       "              'x': [0.0010326925523481928, 0.0010809034828848467,\n",
       "                    0.001240609310932745, 0.001394331833983763,\n",
       "                    0.0019153708240465786],\n",
       "              'xaxis': 'x5',\n",
       "              'y': [breakfasts  , delicious  , choice  , hotel  , breakfast  ],\n",
       "              'yaxis': 'y5'},\n",
       "             {'marker': {'color': '#009E73'},\n",
       "              'orientation': 'h',\n",
       "              'type': 'bar',\n",
       "              'x': [0.0030569424454051754, 0.003086568703389768,\n",
       "                    0.004961124322883412, 0.0054092199023352844,\n",
       "                    0.01956430712095058],\n",
       "              'xaxis': 'x6',\n",
       "              'y': [lancaster  , station  , express  , heathrow  , paddington  ],\n",
       "              'yaxis': 'y6'},\n",
       "             {'marker': {'color': '#F0E442'},\n",
       "              'orientation': 'h',\n",
       "              'type': 'bar',\n",
       "              'x': [0.0029992733431656684, 0.0030191222469659,\n",
       "                    0.0030940197028826023, 0.0041883140181031755,\n",
       "                    0.1257731944293152],\n",
       "              'xaxis': 'x7',\n",
       "              'y': [honestly  , xxxx  , goring  , almosut  , everything  ],\n",
       "              'yaxis': 'y7'},\n",
       "             {'marker': {'color': '#D55E00'},\n",
       "              'orientation': 'h',\n",
       "              'type': 'bar',\n",
       "              'x': [0.001464522932742324, 0.0018292443092111446,\n",
       "                    0.0019520187724321651, 0.002083299716678032,\n",
       "                    0.002917587878944903],\n",
       "              'xaxis': 'x8',\n",
       "              'y': [this  , best  , hotels  , favourite  , london  ],\n",
       "              'yaxis': 'y8'}],\n",
       "    'layout': {'annotations': [{'font': {'size': 16},\n",
       "                                'showarrow': False,\n",
       "                                'text': 'Topic 0',\n",
       "                                'x': 0.0875,\n",
       "                                'xanchor': 'center',\n",
       "                                'xref': 'paper',\n",
       "                                'y': 1.0,\n",
       "                                'yanchor': 'bottom',\n",
       "                                'yref': 'paper'},\n",
       "                               {'font': {'size': 16},\n",
       "                                'showarrow': False,\n",
       "                                'text': 'Topic 1',\n",
       "                                'x': 0.36250000000000004,\n",
       "                                'xanchor': 'center',\n",
       "                                'xref': 'paper',\n",
       "                                'y': 1.0,\n",
       "                                'yanchor': 'bottom',\n",
       "                                'yref': 'paper'},\n",
       "                               {'font': {'size': 16},\n",
       "                                'showarrow': False,\n",
       "                                'text': 'Topic 2',\n",
       "                                'x': 0.6375000000000001,\n",
       "                                'xanchor': 'center',\n",
       "                                'xref': 'paper',\n",
       "                                'y': 1.0,\n",
       "                                'yanchor': 'bottom',\n",
       "                                'yref': 'paper'},\n",
       "                               {'font': {'size': 16},\n",
       "                                'showarrow': False,\n",
       "                                'text': 'Topic 3',\n",
       "                                'x': 0.9125,\n",
       "                                'xanchor': 'center',\n",
       "                                'xref': 'paper',\n",
       "                                'y': 1.0,\n",
       "                                'yanchor': 'bottom',\n",
       "                                'yref': 'paper'},\n",
       "                               {'font': {'size': 16},\n",
       "                                'showarrow': False,\n",
       "                                'text': 'Topic 4',\n",
       "                                'x': 0.0875,\n",
       "                                'xanchor': 'center',\n",
       "                                'xref': 'paper',\n",
       "                                'y': 0.4,\n",
       "                                'yanchor': 'bottom',\n",
       "                                'yref': 'paper'},\n",
       "                               {'font': {'size': 16},\n",
       "                                'showarrow': False,\n",
       "                                'text': 'Topic 5',\n",
       "                                'x': 0.36250000000000004,\n",
       "                                'xanchor': 'center',\n",
       "                                'xref': 'paper',\n",
       "                                'y': 0.4,\n",
       "                                'yanchor': 'bottom',\n",
       "                                'yref': 'paper'},\n",
       "                               {'font': {'size': 16},\n",
       "                                'showarrow': False,\n",
       "                                'text': 'Topic 6',\n",
       "                                'x': 0.6375000000000001,\n",
       "                                'xanchor': 'center',\n",
       "                                'xref': 'paper',\n",
       "                                'y': 0.4,\n",
       "                                'yanchor': 'bottom',\n",
       "                                'yref': 'paper'},\n",
       "                               {'font': {'size': 16},\n",
       "                                'showarrow': False,\n",
       "                                'text': 'Topic 7',\n",
       "                                'x': 0.9125,\n",
       "                                'xanchor': 'center',\n",
       "                                'xref': 'paper',\n",
       "                                'y': 0.4,\n",
       "                                'yanchor': 'bottom',\n",
       "                                'yref': 'paper'}],\n",
       "               'height': 500,\n",
       "               'hoverlabel': {'bgcolor': 'white', 'font': {'family': 'Rockwell', 'size': 16}},\n",
       "               'showlegend': False,\n",
       "               'template': '...',\n",
       "               'title': {'font': {'color': 'Black', 'size': 22},\n",
       "                         'text': 'Topic Word Scores',\n",
       "                         'x': 0.5,\n",
       "                         'xanchor': 'center',\n",
       "                         'yanchor': 'top'},\n",
       "               'width': 1000,\n",
       "               'xaxis': {'anchor': 'y', 'domain': [0.0, 0.175], 'showgrid': True},\n",
       "               'xaxis2': {'anchor': 'y2', 'domain': [0.275, 0.45], 'showgrid': True},\n",
       "               'xaxis3': {'anchor': 'y3', 'domain': [0.55, 0.7250000000000001], 'showgrid': True},\n",
       "               'xaxis4': {'anchor': 'y4', 'domain': [0.825, 1.0], 'showgrid': True},\n",
       "               'xaxis5': {'anchor': 'y5', 'domain': [0.0, 0.175], 'showgrid': True},\n",
       "               'xaxis6': {'anchor': 'y6', 'domain': [0.275, 0.45], 'showgrid': True},\n",
       "               'xaxis7': {'anchor': 'y7', 'domain': [0.55, 0.7250000000000001], 'showgrid': True},\n",
       "               'xaxis8': {'anchor': 'y8', 'domain': [0.825, 1.0], 'showgrid': True},\n",
       "               'yaxis': {'anchor': 'x', 'domain': [0.6000000000000001, 1.0], 'showgrid': True},\n",
       "               'yaxis2': {'anchor': 'x2', 'domain': [0.6000000000000001, 1.0], 'showgrid': True},\n",
       "               'yaxis3': {'anchor': 'x3', 'domain': [0.6000000000000001, 1.0], 'showgrid': True},\n",
       "               'yaxis4': {'anchor': 'x4', 'domain': [0.6000000000000001, 1.0], 'showgrid': True},\n",
       "               'yaxis5': {'anchor': 'x5', 'domain': [0.0, 0.4], 'showgrid': True},\n",
       "               'yaxis6': {'anchor': 'x6', 'domain': [0.0, 0.4], 'showgrid': True},\n",
       "               'yaxis7': {'anchor': 'x7', 'domain': [0.0, 0.4], 'showgrid': True},\n",
       "               'yaxis8': {'anchor': 'x8', 'domain': [0.0, 0.4], 'showgrid': True}}\n",
       "})"
      ]
     },
     "execution_count": 33,
     "metadata": {},
     "output_type": "execute_result"
    }
   ],
   "source": [
    "topic_model.visualize_barchart()\n",
    "\n"
   ]
  },
  {
   "cell_type": "code",
   "execution_count": 28,
   "metadata": {},
   "outputs": [
    {
     "ename": "AttributeError",
     "evalue": "'OllamaLLM' object has no attribute 'summarize'",
     "output_type": "error",
     "traceback": [
      "\u001b[1;31m---------------------------------------------------------------------------\u001b[0m",
      "\u001b[1;31mAttributeError\u001b[0m                            Traceback (most recent call last)",
      "Cell \u001b[1;32mIn[28], line 12\u001b[0m\n\u001b[0;32m     10\u001b[0m summaries \u001b[38;5;241m=\u001b[39m {}\n\u001b[0;32m     11\u001b[0m \u001b[38;5;28;01mfor\u001b[39;00m hotel, reviews \u001b[38;5;129;01min\u001b[39;00m grouped_reviews\u001b[38;5;241m.\u001b[39mitems():\n\u001b[1;32m---> 12\u001b[0m     summary \u001b[38;5;241m=\u001b[39m \u001b[43mllm\u001b[49m\u001b[38;5;241;43m.\u001b[39;49m\u001b[43msummarize\u001b[49m(reviews)\n\u001b[0;32m     13\u001b[0m     summaries[hotel] \u001b[38;5;241m=\u001b[39m summary\n\u001b[0;32m     15\u001b[0m \u001b[38;5;66;03m# Convert summaries to a DataFrame or save them as needed\u001b[39;00m\n",
      "File \u001b[1;32mc:\\Users\\alan_\\anaconda3\\envs\\Collective_LLM\\Lib\\site-packages\\pydantic\\main.py:896\u001b[0m, in \u001b[0;36mBaseModel.__getattr__\u001b[1;34m(self, item)\u001b[0m\n\u001b[0;32m    893\u001b[0m     \u001b[38;5;28;01mreturn\u001b[39;00m \u001b[38;5;28msuper\u001b[39m()\u001b[38;5;241m.\u001b[39m\u001b[38;5;21m__getattribute__\u001b[39m(item)  \u001b[38;5;66;03m# Raises AttributeError if appropriate\u001b[39;00m\n\u001b[0;32m    894\u001b[0m \u001b[38;5;28;01melse\u001b[39;00m:\n\u001b[0;32m    895\u001b[0m     \u001b[38;5;66;03m# this is the current error\u001b[39;00m\n\u001b[1;32m--> 896\u001b[0m     \u001b[38;5;28;01mraise\u001b[39;00m \u001b[38;5;167;01mAttributeError\u001b[39;00m(\u001b[38;5;124mf\u001b[39m\u001b[38;5;124m'\u001b[39m\u001b[38;5;132;01m{\u001b[39;00m\u001b[38;5;28mtype\u001b[39m(\u001b[38;5;28mself\u001b[39m)\u001b[38;5;241m.\u001b[39m\u001b[38;5;18m__name__\u001b[39m\u001b[38;5;132;01m!r}\u001b[39;00m\u001b[38;5;124m object has no attribute \u001b[39m\u001b[38;5;132;01m{\u001b[39;00mitem\u001b[38;5;132;01m!r}\u001b[39;00m\u001b[38;5;124m'\u001b[39m)\n",
      "\u001b[1;31mAttributeError\u001b[0m: 'OllamaLLM' object has no attribute 'summarize'"
     ]
    }
   ],
   "source": [
    "from langchain_ollama.llms import OllamaLLM\n",
    "\n",
    "# Initialize the LLM\n",
    "llm=OllamaLLM(model=\"llama3.2\", max_tokens=4000)\n",
    "\n",
    "# Group reviews by hotel\n",
    "grouped_reviews = Hotel_Reviews.groupby('Hotel_Name')['MergedColumn_topic'].apply(lambda x: ' '.join(x))\n",
    "\n",
    "# Summarize reviews for each hotel\n",
    "summaries = {}\n",
    "for hotel, reviews in grouped_reviews.items():\n",
    "    summary = llm.summarize(reviews)\n",
    "    summaries[hotel] = summary\n",
    "\n",
    "# Convert summaries to a DataFrame or save them as needed\n",
    "summaries_df = pd.DataFrame(list(summaries.items()), columns=['Hotel_Name', 'Summary'])"
   ]
  }
 ],
 "metadata": {
  "kernelspec": {
   "display_name": "Collective_LLM",
   "language": "python",
   "name": "python3"
  },
  "language_info": {
   "codemirror_mode": {
    "name": "ipython",
    "version": 3
   },
   "file_extension": ".py",
   "mimetype": "text/x-python",
   "name": "python",
   "nbconvert_exporter": "python",
   "pygments_lexer": "ipython3",
   "version": "3.11.10"
  }
 },
 "nbformat": 4,
 "nbformat_minor": 2
}
