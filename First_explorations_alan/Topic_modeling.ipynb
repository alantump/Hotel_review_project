{
 "cells": [
  {
   "cell_type": "code",
   "execution_count": 19,
   "metadata": {},
   "outputs": [],
   "source": [
    "#os.environ['OPENAI_API_KEY'] = <your-api-key>\n",
    "import openai\n",
    "import os\n",
    "\n",
    "api_key = os.getenv('OPENAI_API_KEY')"
   ]
  },
  {
   "cell_type": "markdown",
   "metadata": {},
   "source": [
    "https://github.com/langchain-ai/rag-from-scratch/blob/main/rag_from_scratch_5_to_9.ipynb"
   ]
  },
  {
   "cell_type": "code",
   "execution_count": 2,
   "metadata": {},
   "outputs": [
    {
     "name": "stderr",
     "output_type": "stream",
     "text": [
      "C:\\Users\\alan_\\AppData\\Local\\Temp\\ipykernel_26464\\278692378.py:22: UserWarning: This pattern is interpreted as a regular expression, and has match groups. To actually get the groups, use str.extract.\n",
      "  Hotel_Reviews.loc[Hotel_Reviews[\"Hotel_Address\"].str.contains(pattern), \"Country\"] = country_name\n",
      "C:\\Users\\alan_\\AppData\\Local\\Temp\\ipykernel_26464\\278692378.py:22: UserWarning: This pattern is interpreted as a regular expression, and has match groups. To actually get the groups, use str.extract.\n",
      "  Hotel_Reviews.loc[Hotel_Reviews[\"Hotel_Address\"].str.contains(pattern), \"Country\"] = country_name\n",
      "C:\\Users\\alan_\\AppData\\Local\\Temp\\ipykernel_26464\\278692378.py:22: UserWarning: This pattern is interpreted as a regular expression, and has match groups. To actually get the groups, use str.extract.\n",
      "  Hotel_Reviews.loc[Hotel_Reviews[\"Hotel_Address\"].str.contains(pattern), \"Country\"] = country_name\n",
      "C:\\Users\\alan_\\AppData\\Local\\Temp\\ipykernel_26464\\278692378.py:22: UserWarning: This pattern is interpreted as a regular expression, and has match groups. To actually get the groups, use str.extract.\n",
      "  Hotel_Reviews.loc[Hotel_Reviews[\"Hotel_Address\"].str.contains(pattern), \"Country\"] = country_name\n",
      "C:\\Users\\alan_\\AppData\\Local\\Temp\\ipykernel_26464\\278692378.py:22: UserWarning: This pattern is interpreted as a regular expression, and has match groups. To actually get the groups, use str.extract.\n",
      "  Hotel_Reviews.loc[Hotel_Reviews[\"Hotel_Address\"].str.contains(pattern), \"Country\"] = country_name\n",
      "C:\\Users\\alan_\\AppData\\Local\\Temp\\ipykernel_26464\\278692378.py:22: UserWarning: This pattern is interpreted as a regular expression, and has match groups. To actually get the groups, use str.extract.\n",
      "  Hotel_Reviews.loc[Hotel_Reviews[\"Hotel_Address\"].str.contains(pattern), \"Country\"] = country_name\n",
      "C:\\Users\\alan_\\AppData\\Local\\Temp\\ipykernel_26464\\278692378.py:22: UserWarning: This pattern is interpreted as a regular expression, and has match groups. To actually get the groups, use str.extract.\n",
      "  Hotel_Reviews.loc[Hotel_Reviews[\"Hotel_Address\"].str.contains(pattern), \"Country\"] = country_name\n",
      "C:\\Users\\alan_\\AppData\\Local\\Temp\\ipykernel_26464\\278692378.py:22: UserWarning: This pattern is interpreted as a regular expression, and has match groups. To actually get the groups, use str.extract.\n",
      "  Hotel_Reviews.loc[Hotel_Reviews[\"Hotel_Address\"].str.contains(pattern), \"Country\"] = country_name\n"
     ]
    }
   ],
   "source": [
    "\n",
    "import pandas as pd\n",
    "import re\n",
    "def data_loader():\n",
    "  \"\"\"Loads data from CSV files, performs data cleaning and feature engineering.\n",
    "\n",
    "  Returns:\n",
    "    pandas.DataFrame: The processed hotel reviews dataset.\n",
    "  \"\"\"\n",
    "\n",
    "  # Read hotel reviews data\n",
    "  Hotel_Reviews = pd.read_csv(\"../Data/Hotel_Reviews.csv\")\n",
    "\n",
    "  # Read country data\n",
    "  countries = pd.read_csv(\"../Data/countries.csv\")\n",
    "\n",
    "  # Add a \"Country\" column with NA values\n",
    "  Hotel_Reviews[\"Country\"] = pd.NA\n",
    "\n",
    "  # Assign country based on pattern matching in Hotel_Address\n",
    "  for country_name in countries[\"name\"]:\n",
    "    pattern = re.compile(country_name, re.IGNORECASE)  # Case-insensitive matching\n",
    "    Hotel_Reviews.loc[Hotel_Reviews[\"Hotel_Address\"].str.contains(pattern), \"Country\"] = country_name\n",
    "\n",
    " \n",
    "  # Convert Review_Date to datetime and extract features\n",
    "  Hotel_Reviews[\"date_object\"] = pd.to_datetime(Hotel_Reviews[\"Review_Date\"], format=\"%m/%d/%Y\")\n",
    "  #Hotel_Reviews[\"time\"] = Hotel_Reviews[\"date_object\"].astype(int) / 10**9  # Convert to Unix timestamp\n",
    "  Hotel_Reviews[\"month\"] = Hotel_Reviews[\"date_object\"].dt.month\n",
    "  Hotel_Reviews[\"num_date_object\"] = Hotel_Reviews[\"date_object\"].dt.day_of_year / 365  # Normalize by days in a year\n",
    "\n",
    "  return Hotel_Reviews\n",
    "\n",
    "# Load the processed data\n",
    "Hotel_Reviews = data_loader()"
   ]
  },
  {
   "cell_type": "markdown",
   "metadata": {},
   "source": [
    "#### INDEXING ####\n",
    "\n",
    "# Load blog\n",
    "import bs4\n",
    "from langchain_community.document_loaders import WebBaseLoader\n",
    "loader = WebBaseLoader(\n",
    "    web_paths=(\"https://lilianweng.github.io/posts/2023-06-23-agent/\",),\n",
    "    bs_kwargs=dict(\n",
    "        parse_only=bs4.SoupStrainer(\n",
    "            class_=(\"post-content\", \"post-title\", \"post-header\")\n",
    "        )\n",
    "    ),\n",
    ")\n",
    "blog_docs = loader.load()\n",
    "\n",
    "# Split\n",
    "from langchain.text_splitter import RecursiveCharacterTextSplitter\n",
    "text_splitter = RecursiveCharacterTextSplitter.from_tiktoken_encoder(\n",
    "    chunk_size=300, \n",
    "    chunk_overlap=50)\n",
    "\n",
    "# Make splits\n",
    "splits = text_splitter.split_documents(blog_docs)\n",
    "\n",
    "# Index\n",
    "from langchain_openai import OpenAIEmbeddings\n",
    "from langchain_community.vectorstores import Chroma\n",
    "vectorstore = Chroma.from_documents(documents=splits, \n",
    "                                    embedding=OpenAIEmbeddings())\n",
    "\n",
    "retriever = vectorstore.as_retriever()"
   ]
  },
  {
   "cell_type": "code",
   "execution_count": 3,
   "metadata": {},
   "outputs": [],
   "source": [
    "from langchain_text_splitters import RecursiveCharacterTextSplitter\n",
    "\n",
    "\n",
    "\n",
    "# Merge the columns using string concatenation\n",
    "Hotel_Reviews['MergedColumn_topic'] = (\n",
    "    Hotel_Reviews['Positive_Review'] + \n",
    "    '. ' + Hotel_Reviews['Negative_Review'] \n",
    ")\n",
    "# Select the first 100 rows of the merged column\n",
    "Hotel_Reviews_UK =Hotel_Reviews[Hotel_Reviews[\"Country\"]== \"United Kingdom\"]\n",
    "used_data = Hotel_Reviews_UK['Positive_Review']#Hotel_Reviews['MergedColumn_topic']#[:2000]\n",
    "\n",
    "# Specify the file name\n",
    "file_name = \"used_data.txt\"\n",
    "\n",
    "# Save the data to a text file\n",
    "with open(file_name, 'w') as f:\n",
    "    for line in used_data:\n",
    "        f.write(line + '\\n')\n",
    "\n",
    "    "
   ]
  },
  {
   "cell_type": "code",
   "execution_count": 4,
   "metadata": {},
   "outputs": [],
   "source": [
    "docs = used_data.tolist()\n"
   ]
  },
  {
   "cell_type": "markdown",
   "metadata": {},
   "source": [
    "Define get_embeddings Function: This function takes a text input, tokenizes it, passes it through the BERT model, and returns the mean of the last hidden state as the text's embedding.\n",
    "Define Topics and Keywords: It defines a dictionary of topics, each associated with a list of relevant keywords.\n",
    "Example Texts: It assumes docs[:5] contains example texts to be classified.\n",
    "Similarity Threshold: A threshold of 0.25 is set to determine if a text is similar enough to a topic.\n",
    "Classify Texts: For each text:\n",
    "It computes the embedding of the text.\n",
    "For each topic, it computes the average embedding of its keywords.\n",
    "It calculates the cosine similarity between the text's embedding and each topic's average keyword embedding.\n",
    "It assigns the text to topics where the similarity exceeds the threshold.\n",
    "Output: It prints the topics under which each text is classified or indicates if no topics match above the threshold"
   ]
  },
  {
   "cell_type": "code",
   "execution_count": 11,
   "metadata": {},
   "outputs": [
    {
     "name": "stdout",
     "output_type": "stream",
     "text": [
      "{'Room and Service': 0.36707085, 'Food and Drinks': 0.35206914, 'Location': 0.3383775, 'Internet and Work': 0.36096442, 'Surprise': 0.30324674}\n",
      "The text ' Very comfortable beds smart bathroom good shower Lovely facilities garden an absolute delight friendly staff quiet location' is classified under the topics: Room and Service, Food and Drinks, Location, Internet and Work, Surprise\n",
      "{'Room and Service': 0.7171439, 'Food and Drinks': 0.6949233, 'Location': 0.7138995, 'Internet and Work': 0.7179507, 'Surprise': 0.69527644}\n",
      "The text 'No Positive' is classified under the topics: Room and Service, Food and Drinks, Location, Internet and Work, Surprise\n",
      "{'Room and Service': 0.31756565, 'Food and Drinks': 0.3407111, 'Location': 0.3211431, 'Internet and Work': 0.3200249, 'Surprise': 0.2940263}\n",
      "The text ' The staff was very friendly and helpful in organizing our daytime activities Hotel located in a quiet area but very close to subway and restaurants ' is classified under the topics: Room and Service, Food and Drinks, Location, Internet and Work, Surprise\n",
      "{'Room and Service': 0.21203467, 'Food and Drinks': 0.22853859, 'Location': 0.19395187, 'Internet and Work': 0.20425965, 'Surprise': 0.18445769}\n",
      "The text ' We stayed at the hotel at a friend s recommendation It has great access to public transport and plenty of shops and places to eat close by Laundrette around the corner is also a bonus for long term travellers who need to freshen things up having access to the back garden was an added bonus for lovely summer evenings Would definitely stay there again ' does not match any topic above the threshold.\n",
      "{'Room and Service': 0.26189438, 'Food and Drinks': 0.25614363, 'Location': 0.24095732, 'Internet and Work': 0.25809884, 'Surprise': 0.22057758}\n",
      "The text ' Super location on Division underground line direct to Heathrow and central London Older facility but very accommodating staff Good breakfast many restaurant stores 1 2 block away Bathroom was tiny with no fan or ventilation so it got warmish Quite comfy but small rooms Beautiful garden in back Overall a great value for London Would stay here again ' is classified under the topics: Room and Service, Food and Drinks, Internet and Work\n",
      "{'Room and Service': 0.2373043, 'Food and Drinks': 0.23856032, 'Location': 0.2092977, 'Internet and Work': 0.23576096, 'Surprise': 0.20177937}\n",
      "The text ' Breakfast buffet was more than satisfactory Plenty of choices for all Bed was very comfortable Bathroom shower was powerful and plenty of hot water Location could not have been better Very short walk to underground Beautiful gardens at the rear of hotel Very quiet in spite of being close to Earl s Court Rd Staff was friendly and helpful Everyone was very easy to deal with ' does not match any topic above the threshold.\n",
      "{'Room and Service': 0.28216213, 'Food and Drinks': 0.30618447, 'Location': 0.27045155, 'Internet and Work': 0.27341717, 'Surprise': 0.25209218}\n",
      "The text ' There was a beautiful garden at the back of the property where guests could relax in the sunshine read order a drink etc A great location very close to Earls Court restaurants and tube Good breakfast ' is classified under the topics: Room and Service, Food and Drinks, Location, Internet and Work, Surprise\n",
      "{'Room and Service': 0.33649588, 'Food and Drinks': 0.35118756, 'Location': 0.30431464, 'Internet and Work': 0.32959884, 'Surprise': 0.30194122}\n",
      "The text ' Fantastic location very clean room someone called Leanne I think on reception was helpful and kind Breakfast was lovely great choice ' is classified under the topics: Room and Service, Food and Drinks, Location, Internet and Work, Surprise\n",
      "{'Room and Service': 0.29940277, 'Food and Drinks': 0.3424422, 'Location': 0.29280245, 'Internet and Work': 0.2918295, 'Surprise': 0.28338766}\n",
      "The text ' Breakfast was excellent Staff in the restaurant were very pleasant especially the lady who took our room numbers showed us to our table ' is classified under the topics: Room and Service, Food and Drinks, Location, Internet and Work, Surprise\n",
      "{'Room and Service': 0.27906203, 'Food and Drinks': 0.2918899, 'Location': 0.26071373, 'Internet and Work': 0.26539245, 'Surprise': 0.24282634}\n",
      "The text ' The garden was a bonus Lovely area to have some quiet time and enjoy a drink Secure parking was also a good feature ' is classified under the topics: Room and Service, Food and Drinks, Location, Internet and Work\n"
     ]
    }
   ],
   "source": [
    "from transformers import AutoTokenizer, AutoModel\n",
    "import torch\n",
    "from sklearn.metrics.pairwise import cosine_similarity\n",
    "import numpy as np\n",
    "\n",
    "# Load pre-trained model and tokenizer\n",
    "model_name = \"bert-base-uncased\"\n",
    "tokenizer = AutoTokenizer.from_pretrained(model_name)\n",
    "model = AutoModel.from_pretrained(model_name)\n",
    "\n",
    "def get_embeddings(text):\n",
    "    inputs = tokenizer(text, return_tensors=\"pt\", truncation=True, padding=True)\n",
    "    outputs = model(**inputs)\n",
    "    return outputs.last_hidden_state.mean(dim=1).detach().numpy()\n",
    "\n",
    "# Define your topics and keywords\n",
    "topics = {\n",
    "    \"Room and Service\": [\"room\", \"rooms\", \"upgrade\", \"clean\", \"tidy\", \"smell\", \"large\",\"bathroom\", \"bed\", \"beds\", \"TV\", \"bar\", \"conditioner\",\"shower\", \"Service\",\"friendly\"],\n",
    "    \"Food and Drinks\": [\"drinks\", \"cocktails\", \"champagne\", \"bottle\", \"breakfast\", \"dinner\", \"menu\", \"caffee\", \"tee\", \"delicious\", \"continental\", \"waiter\"],\n",
    "    \"Location\": [\"close\", \"far\", \"next\", \"park\", \"train\", \"bicicle\", \"car\", \"walk\", \"tee\", \"building\", \"neighborhood\",\"cab service\",\"airport\", \"underground\",\"stairs\"],\n",
    "    \"Internet and Work\": [\"wifi\", \"Internet\", \"connection\", \"work\", \"password\", \"computer\", \"meeting\", \"signal\"],\n",
    "    \"Surprise\": [\"everything\", \"honestly\", \"surprising\", \"change\", \"unfortunately\", \"refund\",\"loud\"],\n",
    "}\n",
    "\n",
    "\n",
    "\n",
    "# Example texts\n",
    "texts = docs[:10]\n",
    "\n",
    "# Define a similarity threshold\n",
    "similarity_threshold = 0.25\n",
    "\n",
    "# Classify each text\n",
    "for text in texts:\n",
    "    text_embedding = get_embeddings(text)\n",
    "    similarities = {}\n",
    "    for topic, keywords in topics.items():\n",
    "        keyword_embeddings = [get_embeddings(keyword) for keyword in keywords]\n",
    "        avg_keyword_embedding = np.mean(keyword_embeddings, axis=0)\n",
    "        similarity = cosine_similarity(text_embedding, avg_keyword_embedding.reshape(1, -1))\n",
    "        similarities[topic] = similarity[0][0]\n",
    "\n",
    "    # Assign topics with similarity above the threshold\n",
    "    assigned_topics = [topic for topic, similarity in similarities.items() if similarity > similarity_threshold]\n",
    "    print(similarities)\n",
    "    if assigned_topics:\n",
    "        print(f\"The text '{text}' is classified under the topics: {', '.join(assigned_topics)}\")\n",
    "    else:\n",
    "        print(f\"The text '{text}' does not match any topic above the threshold.\")"
   ]
  },
  {
   "cell_type": "code",
   "execution_count": null,
   "metadata": {},
   "outputs": [
    {
     "data": {
      "text/plain": [
       "{'Room': 0.28226188,\n",
       " 'Food and Drinks': 0.2918899,\n",
       " 'Location': 0.26071373,\n",
       " 'Internet and Work': 0.26539245,\n",
       " 'Surprise': 0.23990743}"
      ]
     },
     "execution_count": 9,
     "metadata": {},
     "output_type": "execute_result"
    }
   ],
   "source": []
  },
  {
   "cell_type": "code",
   "execution_count": 13,
   "metadata": {},
   "outputs": [
    {
     "name": "stdout",
     "output_type": "stream",
     "text": [
      "The text ' Very comfortable beds smart bathroom good shower Lovely facilities garden an absolute delight friendly staff quiet location' is classified under the topic: Room and Service\n",
      "The text 'No Positive' is classified under the topic: Room and Service\n",
      "The text ' The staff was very friendly and helpful in organizing our daytime activities Hotel located in a quiet area but very close to subway and restaurants ' is classified under the topic: Location\n",
      "The text ' We stayed at the hotel at a friend s recommendation It has great access to public transport and plenty of shops and places to eat close by Laundrette around the corner is also a bonus for long term travellers who need to freshen things up having access to the back garden was an added bonus for lovely summer evenings Would definitely stay there again ' is classified under the topic: Food and Drinks\n",
      "The text ' Super location on Division underground line direct to Heathrow and central London Older facility but very accommodating staff Good breakfast many restaurant stores 1 2 block away Bathroom was tiny with no fan or ventilation so it got warmish Quite comfy but small rooms Beautiful garden in back Overall a great value for London Would stay here again ' is classified under the topic: Room and Service\n",
      "The text ' Breakfast buffet was more than satisfactory Plenty of choices for all Bed was very comfortable Bathroom shower was powerful and plenty of hot water Location could not have been better Very short walk to underground Beautiful gardens at the rear of hotel Very quiet in spite of being close to Earl s Court Rd Staff was friendly and helpful Everyone was very easy to deal with ' is classified under the topic: Room and Service\n",
      "The text ' There was a beautiful garden at the back of the property where guests could relax in the sunshine read order a drink etc A great location very close to Earls Court restaurants and tube Good breakfast ' is classified under the topic: Room and Service\n",
      "The text ' Fantastic location very clean room someone called Leanne I think on reception was helpful and kind Breakfast was lovely great choice ' is classified under the topic: Room and Service\n",
      "The text ' Breakfast was excellent Staff in the restaurant were very pleasant especially the lady who took our room numbers showed us to our table ' is classified under the topic: Food and Drinks\n",
      "The text ' The garden was a bonus Lovely area to have some quiet time and enjoy a drink Secure parking was also a good feature ' is classified under the topic: Room and Service\n"
     ]
    }
   ],
   "source": [
    "from transformers import BertTokenizer, BertModel\n",
    "import torch\n",
    "from sklearn.metrics.pairwise import cosine_similarity\n",
    "import numpy as np\n",
    "\n",
    "# Load pre-trained BERT model and tokenizer\n",
    "model_name = \"bert-base-uncased\"\n",
    "tokenizer = BertTokenizer.from_pretrained(model_name)\n",
    "model = BertModel.from_pretrained(model_name)\n",
    "\n",
    "def get_embeddings(text):\n",
    "    inputs = tokenizer(text, return_tensors=\"pt\", truncation=True, padding=True)\n",
    "    outputs = model(**inputs)\n",
    "    # Use the [CLS] token representation for sentence embedding\n",
    "    cls_embedding = outputs.last_hidden_state[:, 0, :].detach().numpy()\n",
    "    return cls_embedding\n",
    "\n",
    "# Define your topics and keywords\n",
    "topics = {\n",
    "    \"Room and Service\": [\"room\", \"rooms\", \"upgrade\", \"clean\", \"tidy\", \"smell\", \"large\",\"bathroom\", \"bed\", \"beds\", \"TV\", \"bar\", \"conditioner\",\"shower\", \"Service\",\"friendly\"],\n",
    "    \"Food and Drinks\": [\"drinks\", \"cocktails\", \"champagne\", \"bottle\", \"breakfast\", \"dinner\", \"menu\", \"caffee\", \"tee\", \"delicious\", \"continental\", \"waiter\"],\n",
    "    \"Location\": [\"close\", \"far\", \"next\", \"park\", \"train\", \"bicicle\", \"car\", \"walk\", \"tee\", \"building\", \"neighborhood\",\"cab service\",\"airport\", \"underground\",\"stairs\"],\n",
    "    \"Internet and Work\": [\"wifi\", \"Internet\", \"connection\", \"work\", \"password\", \"computer\", \"meeting\", \"signal\"],\n",
    "    \"Surprise\": [\"everything\", \"honestly\", \"surprising\", \"change\", \"unfortunately\", \"refund\",\"loud\"],\n",
    "    #general\n",
    "}\n",
    "\n",
    "\n",
    "# Example texts\n",
    "#texts = [\"The room was clean and the bed was comfortable.\", \"The cocktails at the bar were delicious.\", \"The hotel is close to the airport and has a cab service.\", \"The wifi connection was strong and perfect for work.\", \"Honestly, the refund process was surprisingly smooth.\"]\n",
    "texts = docs[:10]\n",
    "\n",
    "# Define a similarity threshold\n",
    "similarity_threshold = 0.5\n",
    "\n",
    "# Classify each text\n",
    "for text in texts:\n",
    "    text_embedding = get_embeddings(text)\n",
    "    similarities = {}\n",
    "    for topic, keywords in topics.items():\n",
    "        keyword_embeddings = [get_embeddings(keyword) for keyword in keywords]\n",
    "        avg_keyword_embedding = np.mean(keyword_embeddings, axis=0)\n",
    "        similarity = cosine_similarity(text_embedding, avg_keyword_embedding.reshape(1, -1))\n",
    "        similarities[topic] = similarity[0][0]\n",
    "\n",
    "    # Assign topics with similarity above the threshold\n",
    "    assigned_topic = max(similarities, key=similarities.get)\n",
    "    \n",
    "    print(f\"The text '{text}' is classified under the topic: {assigned_topic}\")\n"
   ]
  },
  {
   "cell_type": "code",
   "execution_count": 14,
   "metadata": {},
   "outputs": [
    {
     "data": {
      "text/plain": [
       "{'Room and Service': 0.8793073,\n",
       " 'Food and Drinks': 0.8721471,\n",
       " 'Location': 0.87640905,\n",
       " 'Internet and Work': 0.8762084,\n",
       " 'Surprise': 0.85498583}"
      ]
     },
     "execution_count": 14,
     "metadata": {},
     "output_type": "execute_result"
    }
   ],
   "source": [
    "similarities #pick softmax"
   ]
  }
 ],
 "metadata": {
  "kernelspec": {
   "display_name": "Collective_LLM",
   "language": "python",
   "name": "python3"
  },
  "language_info": {
   "codemirror_mode": {
    "name": "ipython",
    "version": 3
   },
   "file_extension": ".py",
   "mimetype": "text/x-python",
   "name": "python",
   "nbconvert_exporter": "python",
   "pygments_lexer": "ipython3",
   "version": "3.11.10"
  }
 },
 "nbformat": 4,
 "nbformat_minor": 2
}
