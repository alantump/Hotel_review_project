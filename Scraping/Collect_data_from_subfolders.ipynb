{
 "cells": [
  {
   "cell_type": "code",
   "execution_count": 15,
   "metadata": {},
   "outputs": [
    {
     "name": "stdout",
     "output_type": "stream",
     "text": [
      "chateau-royal-gmbh-berlin62\n",
      "hostel-near-the-brandenburg-gate\n",
      "marriott-am-potsdamer-platz\n",
      "nexliving-berlin-brandenburger-tor\n",
      "      username    user_country            room_view stay_duration stay_type  \\\n",
      "0        Chloe  United Kingdom  Standard Queen Room      2 nights    Couple   \n",
      "1         Hani          Canada   Deluxe Double Room      4 nights    Couple   \n",
      "2     Catriona  United Kingdom   Deluxe Double Room      2 nights     Group   \n",
      "3       Yerkic   United States          Family Room      3 nights    Family   \n",
      "4        Chris     Switzerland   Deluxe Double Room      4 nights    Couple   \n",
      "...        ...             ...                  ...           ...       ...   \n",
      "5004      Ilse         Germany         Deluxe Suite      4 nights    Couple   \n",
      "5005    Stella         Germany         Deluxe Suite       1 night    Family   \n",
      "5006    Ulrike         Germany         Deluxe Suite      4 nights    Family   \n",
      "5007    Milena         Germany         Deluxe Suite       1 night    Family   \n",
      "5008     Junxi           China         Deluxe Suite      4 nights    Family   \n",
      "\n",
      "         review_post_date                                       review_title  \\\n",
      "0     04-05-2024 00:00:00  Stylish, Calm, beautifully designed, and perfe...   \n",
      "1     11-24-2024 00:00:00      Excellent location & Very nice charming hotel   \n",
      "2     11-17-2024 00:00:00                                              Great   \n",
      "3     10-07-2024 00:00:00                                       Exceptional!   \n",
      "4     10-06-2024 00:00:00                                    Simply the best   \n",
      "...                   ...                                                ...   \n",
      "5004  12-02-2024 00:00:00                                          Very good   \n",
      "5005  12-02-2024 00:00:00  Grandiose Lage, quasi mitten in Berlins Wohnzi...   \n",
      "5006  11-20-2024 00:00:00        Außergewöhnlich und eine einmalige Aussicht   \n",
      "5007  11-10-2024 00:00:00                                        Exceptional   \n",
      "5008  09-15-2024 00:00:00                                        Exceptional   \n",
      "\n",
      "      rating original_lang                                  review_text_liked  \\\n",
      "0       10.0         en-us  Calm and perfect location for the film festiva...   \n",
      "1        9.0         en-us  Location, customer satisfaction oriented staff...   \n",
      "2        9.0            en                          Bar staff excellent hosts   \n",
      "3       10.0         en-us  An absolute stunning hotel mixing classic old ...   \n",
      "4       10.0         en-us  Great location, very friendly and professional...   \n",
      "...      ...           ...                                                ...   \n",
      "5004     8.0            de                                                NaN   \n",
      "5005    10.0            de                                                NaN   \n",
      "5006    10.0            de                                                NaN   \n",
      "5007    10.0            de                                                NaN   \n",
      "5008    10.0            zh                                                NaN   \n",
      "\n",
      "                                   review_text_disliked  \\\n",
      "0                                                   NaN   \n",
      "1     Room needs more / better lighting. A bit too d...   \n",
      "2                                                   NaN   \n",
      "3     Being from the US I found it a bit confusing t...   \n",
      "4                                               Nothing   \n",
      "...                                                 ...   \n",
      "5004                                                NaN   \n",
      "5005                                                NaN   \n",
      "5006                                                NaN   \n",
      "5007                                                NaN   \n",
      "5008                                                NaN   \n",
      "\n",
      "                                            full_review  \\\n",
      "0     title: Stylish, Calm, beautifully designed, an...   \n",
      "1     title: Excellent location & Very nice charming...   \n",
      "2       title: Great. liked: Bar staff excellent hosts.   \n",
      "3     title: Exceptional! liked: An absolute stunnin...   \n",
      "4     title: Simply the best. liked: Great location,...   \n",
      "...                                                 ...   \n",
      "5004                                  title: Very good.   \n",
      "5005  title: Grandiose Lage, quasi mitten in Berlins...   \n",
      "5006  title: Außergewöhnlich und eine einmalige Auss...   \n",
      "5007                                title: Exceptional.   \n",
      "5008                                title: Exceptional.   \n",
      "\n",
      "                                         en_full_review  found_helpful  \\\n",
      "0     title: Stylish, Calm, beautifully designed, an...              0   \n",
      "1     title: Excellent location & Very nice charming...              1   \n",
      "2       title: Great. liked: Bar staff excellent hosts.              0   \n",
      "3     title: Exceptional! liked: An absolute stunnin...              0   \n",
      "4     title: Simply the best. liked: Great location,...              0   \n",
      "...                                                 ...            ...   \n",
      "5004                                                NaN              0   \n",
      "5005                                                NaN              0   \n",
      "5006                                                NaN              0   \n",
      "5007                                                NaN              0   \n",
      "5008                                                NaN              0   \n",
      "\n",
      "      found_unhelpful                                    owner_resp_text  \\\n",
      "0                   0                                                NaN   \n",
      "1                   0                                                NaN   \n",
      "2                   0  Dear Jane, Thank you very much for your splend...   \n",
      "3                   0                                                NaN   \n",
      "4                   0                                                NaN   \n",
      "...               ...                                                ...   \n",
      "5004                0                                                NaN   \n",
      "5005                0                                                NaN   \n",
      "5006                0                                                NaN   \n",
      "5007                0                                                NaN   \n",
      "5008                0                                                NaN   \n",
      "\n",
      "                               Hotel_key  \n",
      "0            chateau-royal-gmbh-berlin62  \n",
      "1            chateau-royal-gmbh-berlin62  \n",
      "2            chateau-royal-gmbh-berlin62  \n",
      "3            chateau-royal-gmbh-berlin62  \n",
      "4            chateau-royal-gmbh-berlin62  \n",
      "...                                  ...  \n",
      "5004  nexliving-berlin-brandenburger-tor  \n",
      "5005  nexliving-berlin-brandenburger-tor  \n",
      "5006  nexliving-berlin-brandenburger-tor  \n",
      "5007  nexliving-berlin-brandenburger-tor  \n",
      "5008  nexliving-berlin-brandenburger-tor  \n",
      "\n",
      "[5009 rows x 17 columns]\n"
     ]
    }
   ],
   "source": [
    "import os\n",
    "import pandas as pd\n",
    "import re\n",
    "\n",
    "# Path to the main folder\n",
    "main_folder_path = 'output/'\n",
    "# List to store DataFrames\n",
    "dataframes = []\n",
    "\n",
    "dataframes = []\n",
    "\n",
    "for subdir, _, files in os.walk(main_folder_path):\n",
    "    for file in files:\n",
    "        if file == 'reviews_most_relevant.csv':\n",
    "            file_path = os.path.join(subdir, file)\n",
    "            # Read the CSV file\n",
    "            df = pd.read_csv(file_path)\n",
    "            # Add a new column with the file path\n",
    "            match = re.search(r'output/(.*?)_2024', subdir)\n",
    "\n",
    "            df['Hotel_key'] = match.group(1)\n",
    "            print(match.group(1))\n",
    "            # Append the DataFrame to the list\n",
    "            dataframes.append(df)\n",
    "\n",
    "#Concatenate all DataFrames\n",
    "concatenated_df = pd.concat(dataframes, ignore_index=True)\n",
    "\n",
    "# Display the concatenated DataFrame\n",
    "print(concatenated_df)\n"
   ]
  },
  {
   "cell_type": "code",
   "execution_count": 16,
   "metadata": {},
   "outputs": [
    {
     "name": "stdout",
     "output_type": "stream",
     "text": [
      "Number of rows: 5001\n",
      "Number of columns: 17\n"
     ]
    }
   ],
   "source": [
    "# Remove duplicate rows\n",
    "concatenated_df = concatenated_df.drop_duplicates()\n",
    "\n",
    "# Get the size of the DataFrame\n",
    "rows, columns = concatenated_df.shape\n",
    "\n",
    "# Display the size\n",
    "print(f\"Number of rows: {rows}\")\n",
    "print(f\"Number of columns: {columns}\")"
   ]
  },
  {
   "cell_type": "code",
   "execution_count": 17,
   "metadata": {},
   "outputs": [
    {
     "data": {
      "text/plain": [
       "username                   0\n",
       "user_country               2\n",
       "room_view                 88\n",
       "stay_duration              0\n",
       "stay_type                  0\n",
       "review_post_date           0\n",
       "review_title               1\n",
       "rating                     0\n",
       "original_lang              0\n",
       "review_text_liked       2590\n",
       "review_text_disliked    3318\n",
       "full_review                0\n",
       "en_full_review          3367\n",
       "found_helpful              0\n",
       "found_unhelpful            0\n",
       "owner_resp_text         4519\n",
       "Hotel_key                  0\n",
       "dtype: int64"
      ]
     },
     "execution_count": 17,
     "metadata": {},
     "output_type": "execute_result"
    }
   ],
   "source": [
    "concatenated_df\n",
    "concatenated_df.isna().sum() \n",
    "\n",
    "\n"
   ]
  },
  {
   "cell_type": "code",
   "execution_count": null,
   "metadata": {},
   "outputs": [
    {
     "data": {
      "text/plain": [
       "Index(['username', 'user_country', 'room_view', 'stay_duration', 'stay_type',\n",
       "       'review_post_date', 'review_title', 'rating', 'original_lang',\n",
       "       'review_text_liked', 'review_text_disliked', 'full_review',\n",
       "       'en_full_review', 'found_helpful', 'found_unhelpful', 'owner_resp_text',\n",
       "       'Hotel_key', 'url', 'image', 'title', 'address', 'distance',\n",
       "       'review_score', 'review_count', 'decription', 'original_price',\n",
       "       'price'],\n",
       "      dtype='object')"
      ]
     },
     "execution_count": 23,
     "metadata": {},
     "output_type": "execute_result"
    }
   ],
   "source": [
    "properties_df = pd.read_json('properties.json', orient='records', lines=True)\n",
    "full_data = pd.merge(concatenated_df, properties_df, on='Hotel_key', how='left') \n"
   ]
  },
  {
   "cell_type": "code",
   "execution_count": 26,
   "metadata": {},
   "outputs": [],
   "source": [
    "# Rename columns\n",
    "full_data = full_data.rename(columns={\n",
    "    'title': 'Hotel_Name',\n",
    "    'review_post_date': 'Review_Date',\n",
    "    'review_text_liked': 'Positive_Review',\n",
    "    'review_text_disliked': 'Negative_Review',\n",
    "    'rating': 'Reviewer_Score'\n",
    "    \n",
    "})\n",
    "full_data.to_json('all_data_04_12_2024.json', orient='records', lines=True)\n"
   ]
  }
 ],
 "metadata": {
  "kernelspec": {
   "display_name": "Scraping",
   "language": "python",
   "name": "python3"
  },
  "language_info": {
   "codemirror_mode": {
    "name": "ipython",
    "version": 3
   },
   "file_extension": ".py",
   "mimetype": "text/x-python",
   "name": "python",
   "nbconvert_exporter": "python",
   "pygments_lexer": "ipython3",
   "version": "3.11.10"
  }
 },
 "nbformat": 4,
 "nbformat_minor": 2
}
