{
 "cells": [
  {
   "cell_type": "markdown",
   "metadata": {},
   "source": [
    "## Code to scrape and prepare the data for the Hotel Review App"
   ]
  },
  {
   "cell_type": "markdown",
   "metadata": {},
   "source": [
    "Please install Ollama and download llama3 and llama3.2 (https://ollama.com/blog/llama3.2)"
   ]
  },
  {
   "cell_type": "code",
   "execution_count": 1,
   "metadata": {},
   "outputs": [
    {
     "name": "stdout",
     "output_type": "stream",
     "text": [
      "Sign-in modal did not appear, continuing...\n",
      "Found 71 property items.\n",
      "Start scraping Hotel Website\n"
     ]
    },
    {
     "name": "stderr",
     "output_type": "stream",
     "text": [
      "Processing Hotels: 100%|██████████| 71/71 [18:03<00:00, 15.25s/it]\n"
     ]
    }
   ],
   "source": [
    "from functions.scrape1 import scrape_properties, data_loader\n",
    "\n",
    "# Example usage\n",
    "url = \"https://www.booking.com/searchresults.de.html?label=gen173nr-1BCAEoggI46AdIM1gEaDuIAQGYAQe4ARfIAQzYAQHoAQGIAgGoAgO4AuSg57oGwAIB0gIkN2YxNzc5MjMtNDhlNy00MzBiLWFhODgtMjllZWEyMGQ0ZThk2AIF4AIB&sid=4daa01aeadda31e7f02b8ddc59e9f35f&aid=304142&ss=Kreta&ssne=Kreta&ssne_untouched=Kreta&efdco=1&lang=de&src=searchresults&dest_id=811&dest_type=region&checkin=2025-03-24&checkout=2025-03-29&ltfd=%3A%3A8-2025%3A1%3A&group_adults=2&no_rooms=1&group_children=0&nflt=ht_id%3D204\"\n",
    "max_button_clicks = 0#30 #Clickig the \"Load more Hotels\" button. The more often it clicks the more hotels are loaded and scraped. \n",
    "country_short = \"gr\"\n",
    "data_name = \"test2\"\n",
    "scrape_properties(url, max_button_clicks,data_name, country_short)"
   ]
  },
  {
   "cell_type": "code",
   "execution_count": null,
   "metadata": {},
   "outputs": [
    {
     "name": "stderr",
     "output_type": "stream",
     "text": [
      "c:\\Users\\alan_\\anaconda3\\envs\\Hotel_env\\Lib\\site-packages\\tqdm\\auto.py:21: TqdmWarning: IProgress not found. Please update jupyter and ipywidgets. See https://ipywidgets.readthedocs.io/en/stable/user_install.html\n",
      "  from .autonotebook import tqdm as notebook_tqdm\n",
      "c:\\Users\\alan_\\anaconda3\\envs\\Hotel_env\\Lib\\site-packages\\transformers\\models\\marian\\tokenization_marian.py:175: UserWarning: Recommended: pip install sacremoses.\n",
      "  warnings.warn(\"Recommended: pip install sacremoses.\")\n"
     ]
    },
    {
     "name": "stdout",
     "output_type": "stream",
     "text": [
      "Number of rows: 68043\n",
      "Number of columns: 17\n"
     ]
    },
    {
     "name": "stderr",
     "output_type": "stream",
     "text": [
      "c:\\GitHub Projects\\Hotel_review_project\\functions\\scrape2.py:75: FutureWarning: DataFrame.applymap has been deprecated. Use DataFrame.map instead.\n",
      "  return slim_data.applymap(clean_for_csv)\n"
     ]
    },
    {
     "name": "stdout",
     "output_type": "stream",
     "text": [
      "Load translater: en\n"
     ]
    },
    {
     "name": "stderr",
     "output_type": "stream",
     "text": [
      "Translating Reviews:   2%|▏         | 1244/68043 [02:07<51:19, 21.69it/s] "
     ]
    },
    {
     "name": "stdout",
     "output_type": "stream",
     "text": [
      "Error: No features in text., Review: /\n",
      "Error: No features in text., Review: .\n"
     ]
    },
    {
     "name": "stderr",
     "output_type": "stream",
     "text": [
      "Translating Reviews:   2%|▏         | 1266/68043 [02:11<1:05:22, 17.02it/s]"
     ]
    },
    {
     "name": "stdout",
     "output_type": "stream",
     "text": [
      "Error: No features in text., Review: /\n"
     ]
    },
    {
     "name": "stderr",
     "output_type": "stream",
     "text": [
      "Translating Reviews:   3%|▎         | 2097/68043 [03:37<1:35:47, 11.47it/s]"
     ]
    },
    {
     "name": "stdout",
     "output_type": "stream",
     "text": [
      "Error: No features in text., Review: ?\n",
      "Error: No features in text., Review: ///\n",
      "Error: No features in text., Review: ...\n"
     ]
    },
    {
     "name": "stderr",
     "output_type": "stream",
     "text": [
      "Translating Reviews:   5%|▌         | 3543/68043 [04:19<18:03, 59.51it/s]  "
     ]
    },
    {
     "name": "stdout",
     "output_type": "stream",
     "text": [
      "Error: No features in text., Review: .\n"
     ]
    },
    {
     "name": "stderr",
     "output_type": "stream",
     "text": [
      "Translating Reviews:   6%|▌         | 3805/68043 [05:19<2:14:07,  7.98it/s]"
     ]
    },
    {
     "name": "stdout",
     "output_type": "stream",
     "text": [
      "Error: No features in text., Review: —\n"
     ]
    },
    {
     "name": "stderr",
     "output_type": "stream",
     "text": [
      "Translating Reviews:   6%|▌         | 3808/68043 [05:41<5:54:18,  3.02it/s]"
     ]
    },
    {
     "name": "stdout",
     "output_type": "stream",
     "text": [
      "Error: No features in text., Review: /\n",
      "Error: No features in text., Review: .\n",
      "Error: No features in text., Review: .\n",
      "Error: No features in text., Review: .\n"
     ]
    },
    {
     "name": "stderr",
     "output_type": "stream",
     "text": [
      "Translating Reviews:   8%|▊         | 5487/68043 [07:48<3:16:37,  5.30it/s]"
     ]
    },
    {
     "name": "stdout",
     "output_type": "stream",
     "text": [
      "Error: No features in text., Review: .\n"
     ]
    },
    {
     "name": "stderr",
     "output_type": "stream",
     "text": [
      "Translating Reviews:   8%|▊         | 5642/68043 [08:20<3:03:43,  5.66it/s]"
     ]
    },
    {
     "name": "stdout",
     "output_type": "stream",
     "text": [
      "Error: No features in text., Review: .\n",
      "Error: No features in text., Review: .\n"
     ]
    },
    {
     "name": "stderr",
     "output_type": "stream",
     "text": [
      "Translating Reviews:   9%|▉         | 6263/68043 [10:06<2:24:50,  7.11it/s]"
     ]
    },
    {
     "name": "stdout",
     "output_type": "stream",
     "text": [
      "Error: No features in text., Review: ..\n",
      "Error: No features in text., Review: .....\n"
     ]
    },
    {
     "name": "stderr",
     "output_type": "stream",
     "text": [
      "Translating Reviews:   9%|▉         | 6413/68043 [10:30<2:38:18,  6.49it/s]"
     ]
    },
    {
     "name": "stdout",
     "output_type": "stream",
     "text": [
      "Error: No features in text., Review: .\n",
      "Error: No features in text., Review: /\n",
      "Error: No features in text., Review: ()\n"
     ]
    },
    {
     "name": "stderr",
     "output_type": "stream",
     "text": [
      "Translating Reviews:   9%|▉         | 6419/68043 [11:51<27:05:34,  1.58s/it]"
     ]
    },
    {
     "name": "stdout",
     "output_type": "stream",
     "text": [
      "Error: No features in text., Review: …\n",
      "Error: No features in text., Review: .\n"
     ]
    },
    {
     "name": "stderr",
     "output_type": "stream",
     "text": [
      "Translating Reviews:  10%|█         | 6867/68043 [11:55<2:18:59,  7.34it/s] "
     ]
    },
    {
     "name": "stdout",
     "output_type": "stream",
     "text": [
      "Error: No features in text., Review: .\n",
      "Error: No features in text., Review: .\n"
     ]
    },
    {
     "name": "stderr",
     "output_type": "stream",
     "text": [
      "Translating Reviews:  17%|█▋        | 11297/68043 [15:06<2:40:31,  5.89it/s]"
     ]
    },
    {
     "name": "stdout",
     "output_type": "stream",
     "text": [
      "Error: No features in text., Review: —\n"
     ]
    },
    {
     "name": "stderr",
     "output_type": "stream",
     "text": [
      "Translating Reviews:  17%|█▋        | 11398/68043 [15:18<2:07:57,  7.38it/s]"
     ]
    },
    {
     "name": "stdout",
     "output_type": "stream",
     "text": [
      "Error: No features in text., Review: _\n"
     ]
    },
    {
     "name": "stderr",
     "output_type": "stream",
     "text": [
      "Translating Reviews:  17%|█▋        | 11541/68043 [15:49<2:25:18,  6.48it/s]"
     ]
    },
    {
     "name": "stdout",
     "output_type": "stream",
     "text": [
      "Error: No features in text., Review: .\n"
     ]
    },
    {
     "name": "stderr",
     "output_type": "stream",
     "text": [
      "Translating Reviews:  17%|█▋        | 11783/68043 [16:36<3:06:41,  5.02it/s]"
     ]
    },
    {
     "name": "stdout",
     "output_type": "stream",
     "text": [
      "Error: No features in text., Review: .\n",
      "Error: No features in text., Review: .\n"
     ]
    },
    {
     "name": "stderr",
     "output_type": "stream",
     "text": [
      "Translating Reviews:  20%|█▉        | 13526/68043 [17:43<56:23, 16.11it/s]  "
     ]
    },
    {
     "name": "stdout",
     "output_type": "stream",
     "text": [
      "Error: No features in text., Review: .\n"
     ]
    },
    {
     "name": "stderr",
     "output_type": "stream",
     "text": [
      "Translating Reviews:  22%|██▏       | 14634/68043 [18:07<10:28, 85.03it/s]  "
     ]
    },
    {
     "name": "stdout",
     "output_type": "stream",
     "text": [
      "Error: No features in text., Review: .\n"
     ]
    },
    {
     "name": "stderr",
     "output_type": "stream",
     "text": [
      "Translating Reviews:  22%|██▏       | 14634/68043 [18:21<10:28, 85.03it/s]"
     ]
    },
    {
     "name": "stdout",
     "output_type": "stream",
     "text": [
      "Error: No features in text., Review: /\n"
     ]
    },
    {
     "name": "stderr",
     "output_type": "stream",
     "text": [
      "Translating Reviews:  22%|██▏       | 15020/68043 [19:11<1:52:59,  7.82it/s]"
     ]
    },
    {
     "name": "stdout",
     "output_type": "stream",
     "text": [
      "Error: No features in text., Review: 👍\n"
     ]
    },
    {
     "name": "stderr",
     "output_type": "stream",
     "text": [
      "Translating Reviews:  22%|██▏       | 15163/68043 [19:30<1:21:55, 10.76it/s]"
     ]
    },
    {
     "name": "stdout",
     "output_type": "stream",
     "text": [
      "Error: No features in text., Review: /\n"
     ]
    },
    {
     "name": "stderr",
     "output_type": "stream",
     "text": [
      "Translating Reviews:  23%|██▎       | 15362/68043 [20:10<1:57:14,  7.49it/s]"
     ]
    },
    {
     "name": "stdout",
     "output_type": "stream",
     "text": [
      "Error: No features in text., Review: .\n"
     ]
    },
    {
     "name": "stderr",
     "output_type": "stream",
     "text": [
      "Translating Reviews:  26%|██▌       | 17471/68043 [21:21<28:08, 29.94it/s]  "
     ]
    },
    {
     "name": "stdout",
     "output_type": "stream",
     "text": [
      "Error: No features in text., Review: .\n",
      "Error: No features in text., Review: /\n"
     ]
    },
    {
     "name": "stderr",
     "output_type": "stream",
     "text": [
      "Translating Reviews:  27%|██▋       | 18246/68043 [22:33<1:42:17,  8.11it/s]"
     ]
    },
    {
     "name": "stdout",
     "output_type": "stream",
     "text": [
      "Error: No features in text., Review: .\n",
      "Error: No features in text., Review: /\n"
     ]
    },
    {
     "name": "stderr",
     "output_type": "stream",
     "text": [
      "Translating Reviews:  27%|██▋       | 18246/68043 [22:51<1:42:17,  8.11it/s]"
     ]
    },
    {
     "name": "stdout",
     "output_type": "stream",
     "text": [
      "Error: No features in text., Review: .\n"
     ]
    },
    {
     "name": "stderr",
     "output_type": "stream",
     "text": [
      "Translating Reviews:  28%|██▊       | 19203/68043 [23:01<25:47, 31.56it/s]  "
     ]
    },
    {
     "name": "stdout",
     "output_type": "stream",
     "text": [
      "Error: No features in text., Review: /\n"
     ]
    },
    {
     "name": "stderr",
     "output_type": "stream",
     "text": [
      "Translating Reviews:  30%|██▉       | 20192/68043 [24:04<54:25, 14.65it/s]  "
     ]
    },
    {
     "name": "stdout",
     "output_type": "stream",
     "text": [
      "Error: No features in text., Review: .......\n"
     ]
    },
    {
     "name": "stderr",
     "output_type": "stream",
     "text": [
      "Translating Reviews:  30%|███       | 20452/68043 [24:53<1:47:46,  7.36it/s]"
     ]
    },
    {
     "name": "stdout",
     "output_type": "stream",
     "text": [
      "Error: No features in text., Review: .\n",
      "Error: No features in text., Review: .\n"
     ]
    },
    {
     "name": "stderr",
     "output_type": "stream",
     "text": [
      "Translating Reviews:  30%|███       | 20610/68043 [25:30<2:17:39,  5.74it/s]"
     ]
    },
    {
     "name": "stdout",
     "output_type": "stream",
     "text": [
      "Error: No features in text., Review: .\n",
      "Error: No features in text., Review: .\n",
      "Error: No features in text., Review: .\n"
     ]
    },
    {
     "name": "stderr",
     "output_type": "stream",
     "text": [
      "Translating Reviews:  33%|███▎      | 22521/68043 [27:42<51:20, 14.78it/s]  "
     ]
    },
    {
     "name": "stdout",
     "output_type": "stream",
     "text": [
      "Error: No features in text., Review: —\n"
     ]
    },
    {
     "name": "stderr",
     "output_type": "stream",
     "text": [
      "Translating Reviews:  34%|███▍      | 23257/68043 [28:59<3:19:38,  3.74it/s]"
     ]
    },
    {
     "name": "stdout",
     "output_type": "stream",
     "text": [
      "Error: No features in text., Review: ?????\n"
     ]
    },
    {
     "name": "stderr",
     "output_type": "stream",
     "text": [
      "Translating Reviews:  34%|███▍      | 23450/68043 [29:58<4:09:32,  2.98it/s] "
     ]
    },
    {
     "name": "stdout",
     "output_type": "stream",
     "text": [
      "Error: No features in text., Review: /\n"
     ]
    },
    {
     "name": "stderr",
     "output_type": "stream",
     "text": [
      "Translating Reviews:  36%|███▌      | 24352/68043 [30:38<1:38:14,  7.41it/s]"
     ]
    },
    {
     "name": "stdout",
     "output_type": "stream",
     "text": [
      "Error: No features in text., Review: .\n"
     ]
    },
    {
     "name": "stderr",
     "output_type": "stream",
     "text": [
      "Translating Reviews:  36%|███▌      | 24405/68043 [30:54<2:12:16,  5.50it/s]"
     ]
    },
    {
     "name": "stdout",
     "output_type": "stream",
     "text": [
      "Error: No features in text., Review: —\n"
     ]
    },
    {
     "name": "stderr",
     "output_type": "stream",
     "text": [
      "Translating Reviews:  37%|███▋      | 25438/68043 [31:39<33:46, 21.03it/s]  "
     ]
    },
    {
     "name": "stdout",
     "output_type": "stream",
     "text": [
      "Error: No features in text., Review: 0\n",
      "Error: No features in text., Review: .\n"
     ]
    },
    {
     "name": "stderr",
     "output_type": "stream",
     "text": [
      "Translating Reviews:  38%|███▊      | 25566/68043 [31:57<47:06, 15.03it/s]"
     ]
    },
    {
     "name": "stdout",
     "output_type": "stream",
     "text": [
      "Error: No features in text., Review: //\n"
     ]
    },
    {
     "name": "stderr",
     "output_type": "stream",
     "text": [
      "Translating Reviews:  39%|███▉      | 26729/68043 [32:21<16:45, 41.08it/s]  "
     ]
    },
    {
     "name": "stdout",
     "output_type": "stream",
     "text": [
      "Error: No features in text., Review: ———\n"
     ]
    },
    {
     "name": "stderr",
     "output_type": "stream",
     "text": [
      "Translating Reviews:  40%|███▉      | 26931/68043 [33:13<54:11, 12.64it/s]"
     ]
    },
    {
     "name": "stdout",
     "output_type": "stream",
     "text": [
      "Error: No features in text., Review: ——\n"
     ]
    },
    {
     "name": "stderr",
     "output_type": "stream",
     "text": [
      "Translating Reviews:  42%|████▏     | 28655/68043 [35:04<11:40, 56.25it/s]  "
     ]
    },
    {
     "name": "stdout",
     "output_type": "stream",
     "text": [
      "Error: No features in text., Review: .....\n"
     ]
    },
    {
     "name": "stderr",
     "output_type": "stream",
     "text": [
      "Translating Reviews:  42%|████▏     | 28705/68043 [35:16<20:00, 32.77it/s]"
     ]
    },
    {
     "name": "stdout",
     "output_type": "stream",
     "text": [
      "Error: No features in text., Review: .\n",
      "Error: No features in text., Review: .\n"
     ]
    },
    {
     "name": "stderr",
     "output_type": "stream",
     "text": [
      "Translating Reviews:  47%|████▋     | 31733/68043 [39:47<57:22, 10.55it/s]  "
     ]
    },
    {
     "name": "stdout",
     "output_type": "stream",
     "text": [
      "Error: No features in text., Review: .\n"
     ]
    },
    {
     "name": "stderr",
     "output_type": "stream",
     "text": [
      "Translating Reviews:  47%|████▋     | 31925/68043 [40:27<1:36:03,  6.27it/s]"
     ]
    },
    {
     "name": "stdout",
     "output_type": "stream",
     "text": [
      "Error: No features in text., Review: 👎👎👎\n",
      "Error: No features in text., Review: 👎👎👎👎\n"
     ]
    },
    {
     "name": "stderr",
     "output_type": "stream",
     "text": [
      "Translating Reviews:  47%|████▋     | 31972/68043 [40:31<1:09:12,  8.69it/s]"
     ]
    },
    {
     "name": "stdout",
     "output_type": "stream",
     "text": [
      "Error: No features in text., Review: .\n"
     ]
    },
    {
     "name": "stderr",
     "output_type": "stream",
     "text": [
      "Translating Reviews:  50%|█████     | 34225/68043 [41:55<26:15, 21.46it/s]  "
     ]
    },
    {
     "name": "stdout",
     "output_type": "stream",
     "text": [
      "Error: No features in text., Review: .\n",
      "Error: No features in text., Review: .\n"
     ]
    },
    {
     "name": "stderr",
     "output_type": "stream",
     "text": [
      "Translating Reviews:  51%|█████     | 34384/68043 [42:03<28:49, 19.46it/s]"
     ]
    },
    {
     "name": "stdout",
     "output_type": "stream",
     "text": [
      "Error: No features in text., Review: _\n"
     ]
    },
    {
     "name": "stderr",
     "output_type": "stream",
     "text": [
      "Translating Reviews:  51%|█████▏    | 35025/68043 [44:14<1:55:02,  4.78it/s]"
     ]
    },
    {
     "name": "stdout",
     "output_type": "stream",
     "text": [
      "Error: No features in text., Review: /\n"
     ]
    },
    {
     "name": "stderr",
     "output_type": "stream",
     "text": [
      "Translating Reviews:  52%|█████▏    | 35102/68043 [44:33<2:02:44,  4.47it/s]"
     ]
    },
    {
     "name": "stdout",
     "output_type": "stream",
     "text": [
      "Error: No features in text., Review: ___\n"
     ]
    },
    {
     "name": "stderr",
     "output_type": "stream",
     "text": [
      "Translating Reviews:  54%|█████▍    | 37010/68043 [45:29<55:46,  9.27it/s]  "
     ]
    },
    {
     "name": "stdout",
     "output_type": "stream",
     "text": [
      "Error: No features in text., Review: 😁👍\n",
      "Error: No features in text., Review: 😁👍\n"
     ]
    },
    {
     "name": "stderr",
     "output_type": "stream",
     "text": [
      "Translating Reviews:  55%|█████▌    | 37669/68043 [45:54<15:20, 32.99it/s]  "
     ]
    },
    {
     "name": "stdout",
     "output_type": "stream",
     "text": [
      "Error: No features in text., Review: /\n"
     ]
    },
    {
     "name": "stderr",
     "output_type": "stream",
     "text": [
      "Translating Reviews:  58%|█████▊    | 39394/68043 [48:06<59:58,  7.96it/s]  "
     ]
    },
    {
     "name": "stdout",
     "output_type": "stream",
     "text": [
      "Error: No features in text., Review: /\n"
     ]
    },
    {
     "name": "stderr",
     "output_type": "stream",
     "text": [
      "Translating Reviews:  58%|█████▊    | 39708/68043 [49:07<1:17:10,  6.12it/s]"
     ]
    },
    {
     "name": "stdout",
     "output_type": "stream",
     "text": [
      "Error: No features in text., Review: 👍\n"
     ]
    },
    {
     "name": "stderr",
     "output_type": "stream",
     "text": [
      "Translating Reviews:  61%|██████    | 41191/68043 [50:13<19:26, 23.03it/s]  "
     ]
    },
    {
     "name": "stdout",
     "output_type": "stream",
     "text": [
      "Error: No features in text., Review: /\n"
     ]
    },
    {
     "name": "stderr",
     "output_type": "stream",
     "text": [
      "Translating Reviews:  61%|██████▏   | 41821/68043 [50:32<14:21, 30.45it/s]"
     ]
    },
    {
     "name": "stdout",
     "output_type": "stream",
     "text": [
      "Error: No features in text., Review: .\n"
     ]
    },
    {
     "name": "stderr",
     "output_type": "stream",
     "text": [
      "Translating Reviews:  63%|██████▎   | 42560/68043 [52:48<1:10:27,  6.03it/s]"
     ]
    },
    {
     "name": "stdout",
     "output_type": "stream",
     "text": [
      "Error: No features in text., Review: /\n"
     ]
    },
    {
     "name": "stderr",
     "output_type": "stream",
     "text": [
      "Translating Reviews:  69%|██████▉   | 46937/68043 [57:31<1:40:34,  3.50it/s]"
     ]
    },
    {
     "name": "stdout",
     "output_type": "stream",
     "text": [
      "Error: No features in text., Review: .\n"
     ]
    },
    {
     "name": "stderr",
     "output_type": "stream",
     "text": [
      "Translating Reviews:  69%|██████▉   | 47134/68043 [58:14<1:17:13,  4.51it/s]"
     ]
    },
    {
     "name": "stdout",
     "output_type": "stream",
     "text": [
      "Error: No features in text., Review: —\n"
     ]
    },
    {
     "name": "stderr",
     "output_type": "stream",
     "text": [
      "Translating Reviews:  71%|███████   | 48406/68043 [58:35<13:52, 23.57it/s]  "
     ]
    },
    {
     "name": "stdout",
     "output_type": "stream",
     "text": [
      "Error: No features in text., Review: ——\n",
      "Error: No features in text., Review: —\n"
     ]
    },
    {
     "name": "stderr",
     "output_type": "stream",
     "text": [
      "Translating Reviews:  71%|███████▏  | 48513/68043 [59:00<32:28, 10.02it/s]"
     ]
    },
    {
     "name": "stdout",
     "output_type": "stream",
     "text": [
      "Error: No features in text., Review: .\n"
     ]
    },
    {
     "name": "stderr",
     "output_type": "stream",
     "text": [
      "Translating Reviews:  72%|███████▏  | 49186/68043 [1:00:21<1:07:03,  4.69it/s]"
     ]
    },
    {
     "name": "stdout",
     "output_type": "stream",
     "text": [
      "Error: No features in text., Review: .\n",
      "Error: No features in text., Review: .\n"
     ]
    },
    {
     "name": "stderr",
     "output_type": "stream",
     "text": [
      "Translating Reviews:  73%|███████▎  | 49406/68043 [1:01:23<1:04:55,  4.78it/s]"
     ]
    },
    {
     "name": "stdout",
     "output_type": "stream",
     "text": [
      "Error: No features in text., Review: //\n"
     ]
    },
    {
     "name": "stderr",
     "output_type": "stream",
     "text": [
      "Translating Reviews:  73%|███████▎  | 49434/68043 [1:01:24<1:49:49,  2.82it/s]"
     ]
    },
    {
     "name": "stdout",
     "output_type": "stream",
     "text": [
      "Error: No features in text., Review: /\n"
     ]
    },
    {
     "name": "stderr",
     "output_type": "stream",
     "text": [
      "Translating Reviews:  73%|███████▎  | 49699/68043 [1:03:15<1:35:43,  3.19it/s]"
     ]
    },
    {
     "name": "stdout",
     "output_type": "stream",
     "text": [
      "Error: No features in text., Review: —\n"
     ]
    },
    {
     "name": "stderr",
     "output_type": "stream",
     "text": [
      "Translating Reviews:  74%|███████▍  | 50395/68043 [1:03:33<23:09, 12.70it/s]  "
     ]
    },
    {
     "name": "stdout",
     "output_type": "stream",
     "text": [
      "Error: No features in text., Review: /\n"
     ]
    },
    {
     "name": "stderr",
     "output_type": "stream",
     "text": [
      "Translating Reviews:  74%|███████▍  | 50524/68043 [1:03:53<30:18,  9.63it/s]"
     ]
    },
    {
     "name": "stdout",
     "output_type": "stream",
     "text": [
      "Error: No features in text., Review: /\n"
     ]
    },
    {
     "name": "stderr",
     "output_type": "stream",
     "text": [
      "Translating Reviews:  76%|███████▌  | 51691/68043 [1:06:12<43:40,  6.24it/s]  "
     ]
    },
    {
     "name": "stdout",
     "output_type": "stream",
     "text": [
      "Error: No features in text., Review: 👍👍👍\n",
      "Error: No features in text., Review: 👍👍👍\n"
     ]
    },
    {
     "name": "stderr",
     "output_type": "stream",
     "text": [
      "Translating Reviews:  76%|███████▌  | 51796/68043 [1:06:19<32:38,  8.30it/s]"
     ]
    },
    {
     "name": "stdout",
     "output_type": "stream",
     "text": [
      "Error: No features in text., Review: —\n"
     ]
    },
    {
     "name": "stderr",
     "output_type": "stream",
     "text": [
      "Translating Reviews:  77%|███████▋  | 52100/68043 [1:08:06<1:28:52,  2.99it/s]"
     ]
    },
    {
     "name": "stdout",
     "output_type": "stream",
     "text": [
      "Error: No features in text., Review: 👍🏼\n",
      "Error: No features in text., Review: .\n",
      "Error: No features in text., Review: 🤩🤩🤩\n"
     ]
    },
    {
     "name": "stderr",
     "output_type": "stream",
     "text": [
      "Translating Reviews:  79%|███████▉  | 53701/68043 [1:08:48<05:06, 46.72it/s]  "
     ]
    },
    {
     "name": "stdout",
     "output_type": "stream",
     "text": [
      "Error: No features in text., Review: ….\n"
     ]
    },
    {
     "name": "stderr",
     "output_type": "stream",
     "text": [
      "Translating Reviews:  80%|████████  | 54462/68043 [1:09:52<11:53, 19.03it/s]"
     ]
    },
    {
     "name": "stdout",
     "output_type": "stream",
     "text": [
      "Error: No features in text., Review: .\n",
      "Error: No features in text., Review:  \n"
     ]
    },
    {
     "name": "stderr",
     "output_type": "stream",
     "text": [
      "Translating Reviews:  81%|████████  | 54788/68043 [1:10:01<09:01, 24.49it/s]"
     ]
    },
    {
     "name": "stdout",
     "output_type": "stream",
     "text": [
      "Error: No features in text., Review: .\n"
     ]
    },
    {
     "name": "stderr",
     "output_type": "stream",
     "text": [
      "Translating Reviews:  84%|████████▎ | 56836/68043 [1:13:04<19:13,  9.72it/s]  "
     ]
    },
    {
     "name": "stdout",
     "output_type": "stream",
     "text": [
      "Error: No features in text., Review: ÷\n"
     ]
    },
    {
     "name": "stderr",
     "output_type": "stream",
     "text": [
      "Translating Reviews:  84%|████████▎ | 56957/68043 [1:13:25<44:35,  4.14it/s]"
     ]
    },
    {
     "name": "stdout",
     "output_type": "stream",
     "text": [
      "Error: No features in text., Review: /\n"
     ]
    },
    {
     "name": "stderr",
     "output_type": "stream",
     "text": [
      "Translating Reviews:  84%|████████▍ | 57290/68043 [1:13:55<19:44,  9.08it/s]  "
     ]
    },
    {
     "name": "stdout",
     "output_type": "stream",
     "text": [
      "Error: No features in text., Review: —\n"
     ]
    },
    {
     "name": "stderr",
     "output_type": "stream",
     "text": [
      "Translating Reviews:  85%|████████▍ | 57545/68043 [1:14:12<11:42, 14.95it/s]"
     ]
    },
    {
     "name": "stdout",
     "output_type": "stream",
     "text": [
      "Error: No features in text., Review: …\n"
     ]
    },
    {
     "name": "stderr",
     "output_type": "stream",
     "text": [
      "Translating Reviews:  85%|████████▍ | 57617/68043 [1:14:32<24:02,  7.23it/s]"
     ]
    },
    {
     "name": "stdout",
     "output_type": "stream",
     "text": [
      "Error: No features in text., Review: /\n"
     ]
    },
    {
     "name": "stderr",
     "output_type": "stream",
     "text": [
      "Translating Reviews:  87%|████████▋ | 59108/68043 [1:16:47<08:29, 17.53it/s]  "
     ]
    },
    {
     "name": "stdout",
     "output_type": "stream",
     "text": [
      "Error: No features in text., Review: /\n"
     ]
    },
    {
     "name": "stderr",
     "output_type": "stream",
     "text": [
      "Translating Reviews:  87%|████████▋ | 59137/68043 [1:16:49<08:09, 18.20it/s]"
     ]
    },
    {
     "name": "stdout",
     "output_type": "stream",
     "text": [
      "Error: No features in text., Review: /\n"
     ]
    },
    {
     "name": "stderr",
     "output_type": "stream",
     "text": [
      "Translating Reviews:  87%|████████▋ | 59415/68043 [1:16:53<03:58, 36.16it/s]"
     ]
    },
    {
     "name": "stdout",
     "output_type": "stream",
     "text": [
      "Error: No features in text., Review: /\n"
     ]
    },
    {
     "name": "stderr",
     "output_type": "stream",
     "text": [
      "Translating Reviews:  88%|████████▊ | 59908/68043 [1:18:04<14:50,  9.14it/s]"
     ]
    },
    {
     "name": "stdout",
     "output_type": "stream",
     "text": [
      "Error: No features in text., Review: ….\n"
     ]
    },
    {
     "name": "stderr",
     "output_type": "stream",
     "text": [
      "Translating Reviews:  90%|████████▉ | 61024/68043 [1:18:22<02:30, 46.65it/s]"
     ]
    },
    {
     "name": "stdout",
     "output_type": "stream",
     "text": [
      "Error: No features in text., Review: /\n"
     ]
    },
    {
     "name": "stderr",
     "output_type": "stream",
     "text": [
      "Translating Reviews:  90%|████████▉ | 61146/68043 [1:18:58<09:02, 12.71it/s]"
     ]
    },
    {
     "name": "stdout",
     "output_type": "stream",
     "text": [
      "Error: No features in text., Review: /\n"
     ]
    },
    {
     "name": "stderr",
     "output_type": "stream",
     "text": [
      "Translating Reviews:  94%|█████████▍| 63809/68043 [1:23:41<04:56, 14.29it/s]  "
     ]
    },
    {
     "name": "stdout",
     "output_type": "stream",
     "text": [
      "Error: No features in text., Review: /\n"
     ]
    },
    {
     "name": "stderr",
     "output_type": "stream",
     "text": [
      "Translating Reviews:  95%|█████████▍| 64577/68043 [1:25:01<04:17, 13.45it/s]"
     ]
    },
    {
     "name": "stdout",
     "output_type": "stream",
     "text": [
      "Error: No features in text., Review: /\n"
     ]
    },
    {
     "name": "stderr",
     "output_type": "stream",
     "text": [
      "Translating Reviews:  95%|█████████▌| 64705/68043 [1:25:36<08:05,  6.87it/s]"
     ]
    },
    {
     "name": "stdout",
     "output_type": "stream",
     "text": [
      "Error: No features in text., Review: ...\n"
     ]
    },
    {
     "name": "stderr",
     "output_type": "stream",
     "text": [
      "Translating Reviews:  95%|█████████▌| 64976/68043 [1:26:24<12:27,  4.10it/s]"
     ]
    },
    {
     "name": "stdout",
     "output_type": "stream",
     "text": [
      "Error: No features in text., Review: .\n",
      "Error: No features in text., Review: .\n"
     ]
    },
    {
     "name": "stderr",
     "output_type": "stream",
     "text": [
      "Translating Reviews:  96%|█████████▌| 65046/68043 [1:26:47<13:50,  3.61it/s]"
     ]
    },
    {
     "name": "stdout",
     "output_type": "stream",
     "text": [
      "Error: No features in text., Review: ...\n"
     ]
    },
    {
     "name": "stderr",
     "output_type": "stream",
     "text": [
      "Translating Reviews:  96%|█████████▋| 65633/68043 [1:27:07<02:15, 17.81it/s]"
     ]
    },
    {
     "name": "stdout",
     "output_type": "stream",
     "text": [
      "Error: No features in text., Review: —\n"
     ]
    },
    {
     "name": "stderr",
     "output_type": "stream",
     "text": [
      "Translating Reviews:  97%|█████████▋| 65759/68043 [1:27:37<04:38,  8.21it/s]"
     ]
    },
    {
     "name": "stdout",
     "output_type": "stream",
     "text": [
      "Error: No features in text., Review: .\n"
     ]
    },
    {
     "name": "stderr",
     "output_type": "stream",
     "text": [
      "Translating Reviews:  98%|█████████▊| 66424/68043 [1:28:11<02:44,  9.83it/s]"
     ]
    },
    {
     "name": "stdout",
     "output_type": "stream",
     "text": [
      "Error: No features in text., Review: .\n"
     ]
    },
    {
     "name": "stderr",
     "output_type": "stream",
     "text": [
      "Translating Reviews:  99%|█████████▊| 67106/68043 [1:29:08<01:10, 13.30it/s]"
     ]
    },
    {
     "name": "stdout",
     "output_type": "stream",
     "text": [
      "Error: No features in text., Review: —\n"
     ]
    },
    {
     "name": "stderr",
     "output_type": "stream",
     "text": [
      "Translating Reviews:  99%|█████████▉| 67268/68043 [1:30:02<02:44,  4.72it/s]"
     ]
    },
    {
     "name": "stdout",
     "output_type": "stream",
     "text": [
      "Error: No features in text., Review: /\n",
      "Error: No features in text., Review: ./.\n"
     ]
    },
    {
     "name": "stderr",
     "output_type": "stream",
     "text": [
      "Translating Reviews: 100%|██████████| 68043/68043 [1:30:31<00:00, 12.53it/s]\n"
     ]
    }
   ],
   "source": [
    "\n",
    "\n",
    "from functions.scrape2 import process_reviews\n",
    "process_reviews(data_name)"
   ]
  },
  {
   "cell_type": "code",
   "execution_count": 2,
   "metadata": {},
   "outputs": [
    {
     "name": "stderr",
     "output_type": "stream",
     "text": [
      "c:\\GitHub Projects\\Hotel_review_project\\functions\\summerizer.py:53: LangChainDeprecationWarning: The class `LLMChain` was deprecated in LangChain 0.1.17 and will be removed in 1.0. Use :meth:`~RunnableSequence, e.g., `prompt | llm`` instead.\n",
      "  chain_fusion = LLMChain(llm=self.llm, prompt=prompt)\n",
      "c:\\GitHub Projects\\Hotel_review_project\\functions\\summerizer.py:54: LangChainDeprecationWarning: The method `Chain.run` was deprecated in langchain 0.1.0 and will be removed in 1.0. Use :meth:`~invoke` instead.\n",
      "  return chain_fusion.run(input_text)\n",
      "Classifying Reviews:   0%|          | 102/68043 [00:07<1:00:35, 18.69it/s]"
     ]
    },
    {
     "name": "stdout",
     "output_type": "stream",
     "text": [
      "AI error\n"
     ]
    },
    {
     "name": "stderr",
     "output_type": "stream",
     "text": [
      "Classifying Reviews:   1%|          | 487/68043 [00:34<1:05:27, 17.20it/s]"
     ]
    },
    {
     "name": "stdout",
     "output_type": "stream",
     "text": [
      "AI error\n"
     ]
    },
    {
     "name": "stderr",
     "output_type": "stream",
     "text": [
      "Classifying Reviews:   1%|          | 640/68043 [00:42<40:10, 27.97it/s]  "
     ]
    },
    {
     "name": "stdout",
     "output_type": "stream",
     "text": [
      "AI error\n"
     ]
    },
    {
     "name": "stderr",
     "output_type": "stream",
     "text": [
      "Classifying Reviews:   1%|          | 800/68043 [00:52<58:51, 19.04it/s]  "
     ]
    },
    {
     "name": "stdout",
     "output_type": "stream",
     "text": [
      "AI error\n"
     ]
    },
    {
     "name": "stderr",
     "output_type": "stream",
     "text": [
      "Classifying Reviews:   3%|▎         | 2137/68043 [02:06<1:12:46, 15.09it/s]"
     ]
    },
    {
     "name": "stdout",
     "output_type": "stream",
     "text": [
      "AI error\n"
     ]
    },
    {
     "name": "stderr",
     "output_type": "stream",
     "text": [
      "Classifying Reviews:   4%|▍         | 2802/68043 [02:33<1:14:24, 14.61it/s]"
     ]
    },
    {
     "name": "stdout",
     "output_type": "stream",
     "text": [
      "AI error\n"
     ]
    },
    {
     "name": "stderr",
     "output_type": "stream",
     "text": [
      "Classifying Reviews:   4%|▍         | 2961/68043 [02:39<44:25, 24.42it/s]  "
     ]
    },
    {
     "name": "stdout",
     "output_type": "stream",
     "text": [
      "AI error\n"
     ]
    },
    {
     "name": "stderr",
     "output_type": "stream",
     "text": [
      "Classifying Reviews:   5%|▍         | 3357/68043 [02:42<04:23, 245.50it/s] "
     ]
    },
    {
     "name": "stdout",
     "output_type": "stream",
     "text": [
      "AI error\n"
     ]
    },
    {
     "name": "stderr",
     "output_type": "stream",
     "text": [
      "Classifying Reviews:   5%|▌         | 3717/68043 [03:15<1:24:58, 12.62it/s]"
     ]
    },
    {
     "name": "stdout",
     "output_type": "stream",
     "text": [
      "AI error\n"
     ]
    },
    {
     "name": "stderr",
     "output_type": "stream",
     "text": [
      "Classifying Reviews:   7%|▋         | 4924/68043 [04:31<2:04:34,  8.44it/s]"
     ]
    },
    {
     "name": "stdout",
     "output_type": "stream",
     "text": [
      "AI error\n"
     ]
    },
    {
     "name": "stderr",
     "output_type": "stream",
     "text": [
      "Classifying Reviews:   8%|▊         | 5233/68043 [04:55<46:03, 22.73it/s]  "
     ]
    },
    {
     "name": "stdout",
     "output_type": "stream",
     "text": [
      "AI error\n"
     ]
    },
    {
     "name": "stderr",
     "output_type": "stream",
     "text": [
      "Classifying Reviews:   8%|▊         | 5508/68043 [05:17<1:07:00, 15.55it/s]"
     ]
    },
    {
     "name": "stdout",
     "output_type": "stream",
     "text": [
      "AI error\n"
     ]
    },
    {
     "name": "stderr",
     "output_type": "stream",
     "text": [
      "Classifying Reviews:   8%|▊         | 5520/68043 [05:19<2:03:52,  8.41it/s]"
     ]
    },
    {
     "name": "stdout",
     "output_type": "stream",
     "text": [
      "AI error\n",
      "AI error\n"
     ]
    },
    {
     "name": "stderr",
     "output_type": "stream",
     "text": [
      "Classifying Reviews:   8%|▊         | 5647/68043 [05:31<1:07:53, 15.32it/s]"
     ]
    },
    {
     "name": "stdout",
     "output_type": "stream",
     "text": [
      "AI error\n"
     ]
    },
    {
     "name": "stderr",
     "output_type": "stream",
     "text": [
      "Classifying Reviews:   8%|▊         | 5783/68043 [05:42<50:25, 20.58it/s]  "
     ]
    },
    {
     "name": "stdout",
     "output_type": "stream",
     "text": [
      "AI error\n"
     ]
    },
    {
     "name": "stderr",
     "output_type": "stream",
     "text": [
      "Classifying Reviews:   9%|▊         | 5917/68043 [05:52<1:44:29,  9.91it/s]"
     ]
    },
    {
     "name": "stdout",
     "output_type": "stream",
     "text": [
      "AI error\n"
     ]
    },
    {
     "name": "stderr",
     "output_type": "stream",
     "text": [
      "Classifying Reviews:   9%|▉         | 6016/68043 [06:00<1:20:06, 12.90it/s]"
     ]
    },
    {
     "name": "stdout",
     "output_type": "stream",
     "text": [
      "AI error\n"
     ]
    },
    {
     "name": "stderr",
     "output_type": "stream",
     "text": [
      "Classifying Reviews:  10%|▉         | 6628/68043 [06:41<1:41:35, 10.08it/s]"
     ]
    },
    {
     "name": "stdout",
     "output_type": "stream",
     "text": [
      "AI error\n",
      "AI error\n"
     ]
    },
    {
     "name": "stderr",
     "output_type": "stream",
     "text": [
      "Classifying Reviews:  10%|█         | 6950/68043 [07:03<1:21:14, 12.53it/s]"
     ]
    },
    {
     "name": "stdout",
     "output_type": "stream",
     "text": [
      "AI error\n"
     ]
    },
    {
     "name": "stderr",
     "output_type": "stream",
     "text": [
      "Classifying Reviews:  14%|█▎        | 9191/68043 [07:06<00:45, 1306.74it/s]"
     ]
    },
    {
     "name": "stdout",
     "output_type": "stream",
     "text": [
      "AI error\n"
     ]
    },
    {
     "name": "stderr",
     "output_type": "stream",
     "text": [
      "Classifying Reviews:  14%|█▍        | 9800/68043 [08:04<49:41, 19.54it/s]  "
     ]
    },
    {
     "name": "stdout",
     "output_type": "stream",
     "text": [
      "AI error\n"
     ]
    },
    {
     "name": "stderr",
     "output_type": "stream",
     "text": [
      "Classifying Reviews:  16%|█▌        | 10645/68043 [08:29<30:16, 31.59it/s] "
     ]
    },
    {
     "name": "stdout",
     "output_type": "stream",
     "text": [
      "AI error\n"
     ]
    },
    {
     "name": "stderr",
     "output_type": "stream",
     "text": [
      "Classifying Reviews:  16%|█▌        | 10815/68043 [08:48<1:05:04, 14.66it/s]"
     ]
    },
    {
     "name": "stdout",
     "output_type": "stream",
     "text": [
      "AI error\n"
     ]
    },
    {
     "name": "stderr",
     "output_type": "stream",
     "text": [
      "Classifying Reviews:  16%|█▋        | 11167/68043 [09:17<40:41, 23.29it/s]  "
     ]
    },
    {
     "name": "stdout",
     "output_type": "stream",
     "text": [
      "AI error\n"
     ]
    },
    {
     "name": "stderr",
     "output_type": "stream",
     "text": [
      "Classifying Reviews:  17%|█▋        | 11638/68043 [09:52<1:18:44, 11.94it/s]"
     ]
    },
    {
     "name": "stdout",
     "output_type": "stream",
     "text": [
      "AI error\n"
     ]
    },
    {
     "name": "stderr",
     "output_type": "stream",
     "text": [
      "Classifying Reviews:  19%|█▉        | 12975/68043 [10:30<20:41, 44.34it/s]  "
     ]
    },
    {
     "name": "stdout",
     "output_type": "stream",
     "text": [
      "AI error\n",
      "AI error\n",
      "AI error\n"
     ]
    },
    {
     "name": "stderr",
     "output_type": "stream",
     "text": [
      "Classifying Reviews:  19%|█▉        | 13187/68043 [10:57<59:54, 15.26it/s]"
     ]
    },
    {
     "name": "stdout",
     "output_type": "stream",
     "text": [
      "AI error\n"
     ]
    },
    {
     "name": "stderr",
     "output_type": "stream",
     "text": [
      "Classifying Reviews:  21%|██        | 14310/68043 [11:53<1:47:11,  8.35it/s]"
     ]
    },
    {
     "name": "stdout",
     "output_type": "stream",
     "text": [
      "AI error\n"
     ]
    },
    {
     "name": "stderr",
     "output_type": "stream",
     "text": [
      "Classifying Reviews:  22%|██▏       | 14747/68043 [12:34<48:52, 18.17it/s]  "
     ]
    },
    {
     "name": "stdout",
     "output_type": "stream",
     "text": [
      "AI error\n"
     ]
    },
    {
     "name": "stderr",
     "output_type": "stream",
     "text": [
      "Classifying Reviews:  22%|██▏       | 14904/68043 [12:42<31:49, 27.82it/s]  "
     ]
    },
    {
     "name": "stdout",
     "output_type": "stream",
     "text": [
      "AI error\n"
     ]
    },
    {
     "name": "stderr",
     "output_type": "stream",
     "text": [
      "Classifying Reviews:  27%|██▋       | 18239/68043 [14:48<34:39, 23.95it/s]  "
     ]
    },
    {
     "name": "stdout",
     "output_type": "stream",
     "text": [
      "AI error\n"
     ]
    },
    {
     "name": "stderr",
     "output_type": "stream",
     "text": [
      "Classifying Reviews:  28%|██▊       | 19031/68043 [14:56<00:45, 1067.02it/s]"
     ]
    },
    {
     "name": "stdout",
     "output_type": "stream",
     "text": [
      "AI error\n"
     ]
    },
    {
     "name": "stderr",
     "output_type": "stream",
     "text": [
      "Classifying Reviews:  28%|██▊       | 19162/68043 [15:12<21:27, 37.96it/s]  "
     ]
    },
    {
     "name": "stdout",
     "output_type": "stream",
     "text": [
      "AI error\n"
     ]
    },
    {
     "name": "stderr",
     "output_type": "stream",
     "text": [
      "Classifying Reviews:  29%|██▊       | 19520/68043 [15:25<28:11, 28.69it/s]"
     ]
    },
    {
     "name": "stdout",
     "output_type": "stream",
     "text": [
      "AI error\n"
     ]
    },
    {
     "name": "stderr",
     "output_type": "stream",
     "text": [
      "Classifying Reviews:  30%|██▉       | 20189/68043 [16:26<41:05, 19.41it/s]  "
     ]
    },
    {
     "name": "stdout",
     "output_type": "stream",
     "text": [
      "AI error\n"
     ]
    },
    {
     "name": "stderr",
     "output_type": "stream",
     "text": [
      "Classifying Reviews:  32%|███▏      | 21649/68043 [17:04<09:02, 85.58it/s]  "
     ]
    },
    {
     "name": "stdout",
     "output_type": "stream",
     "text": [
      "AI error\n",
      "AI error\n"
     ]
    },
    {
     "name": "stderr",
     "output_type": "stream",
     "text": [
      "Classifying Reviews:  32%|███▏      | 21793/68043 [17:16<22:28, 34.30it/s]"
     ]
    },
    {
     "name": "stdout",
     "output_type": "stream",
     "text": [
      "AI error\n"
     ]
    },
    {
     "name": "stderr",
     "output_type": "stream",
     "text": [
      "Classifying Reviews:  32%|███▏      | 22095/68043 [17:38<52:44, 14.52it/s]  "
     ]
    },
    {
     "name": "stdout",
     "output_type": "stream",
     "text": [
      "AI error\n"
     ]
    },
    {
     "name": "stderr",
     "output_type": "stream",
     "text": [
      "Classifying Reviews:  33%|███▎      | 22547/68043 [17:43<08:04, 93.99it/s]  "
     ]
    },
    {
     "name": "stdout",
     "output_type": "stream",
     "text": [
      "AI error\n"
     ]
    },
    {
     "name": "stderr",
     "output_type": "stream",
     "text": [
      "Classifying Reviews:  33%|███▎      | 22717/68043 [17:55<10:49, 69.74it/s]"
     ]
    },
    {
     "name": "stdout",
     "output_type": "stream",
     "text": [
      "AI error\n"
     ]
    },
    {
     "name": "stderr",
     "output_type": "stream",
     "text": [
      "Classifying Reviews:  34%|███▍      | 23017/68043 [18:25<54:46, 13.70it/s]  "
     ]
    },
    {
     "name": "stdout",
     "output_type": "stream",
     "text": [
      "AI error\n"
     ]
    },
    {
     "name": "stderr",
     "output_type": "stream",
     "text": [
      "Classifying Reviews:  34%|███▍      | 23086/68043 [18:31<51:03, 14.67it/s]  "
     ]
    },
    {
     "name": "stdout",
     "output_type": "stream",
     "text": [
      "AI error\n"
     ]
    },
    {
     "name": "stderr",
     "output_type": "stream",
     "text": [
      "Classifying Reviews:  36%|███▌      | 24175/68043 [19:18<34:32, 21.17it/s]  "
     ]
    },
    {
     "name": "stdout",
     "output_type": "stream",
     "text": [
      "AI error\n",
      "AI error\n"
     ]
    },
    {
     "name": "stderr",
     "output_type": "stream",
     "text": [
      "Classifying Reviews:  36%|███▌      | 24313/68043 [19:28<42:08, 17.29it/s]"
     ]
    },
    {
     "name": "stdout",
     "output_type": "stream",
     "text": [
      "AI error\n"
     ]
    },
    {
     "name": "stderr",
     "output_type": "stream",
     "text": [
      "Classifying Reviews:  36%|███▋      | 24707/68043 [19:48<42:29, 17.00it/s]  "
     ]
    },
    {
     "name": "stdout",
     "output_type": "stream",
     "text": [
      "AI error\n"
     ]
    },
    {
     "name": "stderr",
     "output_type": "stream",
     "text": [
      "Classifying Reviews:  37%|███▋      | 25112/68043 [20:05<1:30:43,  7.89it/s]"
     ]
    },
    {
     "name": "stdout",
     "output_type": "stream",
     "text": [
      "AI error\n"
     ]
    },
    {
     "name": "stderr",
     "output_type": "stream",
     "text": [
      "Classifying Reviews:  37%|███▋      | 25268/68043 [20:22<1:02:51, 11.34it/s]"
     ]
    },
    {
     "name": "stdout",
     "output_type": "stream",
     "text": [
      "AI error\n"
     ]
    },
    {
     "name": "stderr",
     "output_type": "stream",
     "text": [
      "Classifying Reviews:  38%|███▊      | 25623/68043 [20:41<29:17, 24.14it/s]  "
     ]
    },
    {
     "name": "stdout",
     "output_type": "stream",
     "text": [
      "AI error\n"
     ]
    },
    {
     "name": "stderr",
     "output_type": "stream",
     "text": [
      "Classifying Reviews:  38%|███▊      | 25626/68043 [20:43<2:23:50,  4.91it/s]"
     ]
    },
    {
     "name": "stdout",
     "output_type": "stream",
     "text": [
      "AI error\n"
     ]
    },
    {
     "name": "stderr",
     "output_type": "stream",
     "text": [
      "Classifying Reviews:  39%|███▊      | 26270/68043 [20:45<03:01, 230.72it/s] "
     ]
    },
    {
     "name": "stdout",
     "output_type": "stream",
     "text": [
      "AI error\n",
      "AI error\n"
     ]
    },
    {
     "name": "stderr",
     "output_type": "stream",
     "text": [
      "Classifying Reviews:  39%|███▉      | 26675/68043 [21:33<1:01:52, 11.14it/s]"
     ]
    },
    {
     "name": "stdout",
     "output_type": "stream",
     "text": [
      "AI error\n"
     ]
    },
    {
     "name": "stderr",
     "output_type": "stream",
     "text": [
      "Classifying Reviews:  39%|███▉      | 26729/68043 [21:38<1:00:46, 11.33it/s]"
     ]
    },
    {
     "name": "stdout",
     "output_type": "stream",
     "text": [
      "AI error\n",
      "AI error\n"
     ]
    },
    {
     "name": "stderr",
     "output_type": "stream",
     "text": [
      "Classifying Reviews:  40%|███▉      | 27013/68043 [21:58<41:43, 16.39it/s]  "
     ]
    },
    {
     "name": "stdout",
     "output_type": "stream",
     "text": [
      "AI error\n"
     ]
    },
    {
     "name": "stderr",
     "output_type": "stream",
     "text": [
      "Classifying Reviews:  40%|███▉      | 27169/68043 [22:07<46:29, 14.65it/s]  "
     ]
    },
    {
     "name": "stdout",
     "output_type": "stream",
     "text": [
      "AI error\n"
     ]
    },
    {
     "name": "stderr",
     "output_type": "stream",
     "text": [
      "Classifying Reviews:  44%|████▍     | 29986/68043 [23:55<54:17, 11.68it/s]  "
     ]
    },
    {
     "name": "stdout",
     "output_type": "stream",
     "text": [
      "AI error\n"
     ]
    },
    {
     "name": "stderr",
     "output_type": "stream",
     "text": [
      "Classifying Reviews:  44%|████▍     | 30021/68043 [24:00<1:05:43,  9.64it/s]"
     ]
    },
    {
     "name": "stdout",
     "output_type": "stream",
     "text": [
      "AI error\n"
     ]
    },
    {
     "name": "stderr",
     "output_type": "stream",
     "text": [
      "Classifying Reviews:  45%|████▍     | 30594/68043 [24:27<46:53, 13.31it/s]  "
     ]
    },
    {
     "name": "stdout",
     "output_type": "stream",
     "text": [
      "AI error\n"
     ]
    },
    {
     "name": "stderr",
     "output_type": "stream",
     "text": [
      "Classifying Reviews:  45%|████▌     | 30670/68043 [24:36<59:50, 10.41it/s]  "
     ]
    },
    {
     "name": "stdout",
     "output_type": "stream",
     "text": [
      "AI error\n"
     ]
    },
    {
     "name": "stderr",
     "output_type": "stream",
     "text": [
      "Classifying Reviews:  45%|████▌     | 30800/68043 [24:51<1:04:34,  9.61it/s]"
     ]
    },
    {
     "name": "stdout",
     "output_type": "stream",
     "text": [
      "AI error\n"
     ]
    },
    {
     "name": "stderr",
     "output_type": "stream",
     "text": [
      "Classifying Reviews:  46%|████▌     | 31153/68043 [25:29<28:41, 21.43it/s]  "
     ]
    },
    {
     "name": "stdout",
     "output_type": "stream",
     "text": [
      "AI error\n"
     ]
    },
    {
     "name": "stderr",
     "output_type": "stream",
     "text": [
      "Classifying Reviews:  46%|████▋     | 31634/68043 [25:50<28:22, 21.38it/s]  "
     ]
    },
    {
     "name": "stdout",
     "output_type": "stream",
     "text": [
      "AI error\n"
     ]
    },
    {
     "name": "stderr",
     "output_type": "stream",
     "text": [
      "Classifying Reviews:  49%|████▉     | 33411/68043 [26:29<08:35, 67.16it/s]  "
     ]
    },
    {
     "name": "stdout",
     "output_type": "stream",
     "text": [
      "AI error\n"
     ]
    },
    {
     "name": "stderr",
     "output_type": "stream",
     "text": [
      "Classifying Reviews:  49%|████▉     | 33617/68043 [26:53<33:24, 17.17it/s]"
     ]
    },
    {
     "name": "stdout",
     "output_type": "stream",
     "text": [
      "AI error\n"
     ]
    },
    {
     "name": "stderr",
     "output_type": "stream",
     "text": [
      "Classifying Reviews:  50%|████▉     | 33711/68043 [27:04<48:19, 11.84it/s]"
     ]
    },
    {
     "name": "stdout",
     "output_type": "stream",
     "text": [
      "AI error\n"
     ]
    },
    {
     "name": "stderr",
     "output_type": "stream",
     "text": [
      "Classifying Reviews:  50%|████▉     | 33890/68043 [27:26<1:26:57,  6.55it/s]"
     ]
    },
    {
     "name": "stdout",
     "output_type": "stream",
     "text": [
      "AI error\n"
     ]
    },
    {
     "name": "stderr",
     "output_type": "stream",
     "text": [
      "Classifying Reviews:  50%|█████     | 34038/68043 [27:43<31:28, 18.01it/s]  "
     ]
    },
    {
     "name": "stdout",
     "output_type": "stream",
     "text": [
      "AI error\n"
     ]
    },
    {
     "name": "stderr",
     "output_type": "stream",
     "text": [
      "Classifying Reviews:  51%|█████     | 34769/68043 [28:26<39:39, 13.98it/s]  "
     ]
    },
    {
     "name": "stdout",
     "output_type": "stream",
     "text": [
      "AI error\n"
     ]
    },
    {
     "name": "stderr",
     "output_type": "stream",
     "text": [
      "Classifying Reviews:  51%|█████▏    | 34905/68043 [28:33<14:56, 36.98it/s]  "
     ]
    },
    {
     "name": "stdout",
     "output_type": "stream",
     "text": [
      "AI error\n"
     ]
    },
    {
     "name": "stderr",
     "output_type": "stream",
     "text": [
      "Classifying Reviews:  51%|█████▏    | 34986/68043 [28:40<59:23,  9.28it/s]  "
     ]
    },
    {
     "name": "stdout",
     "output_type": "stream",
     "text": [
      "AI error\n"
     ]
    },
    {
     "name": "stderr",
     "output_type": "stream",
     "text": [
      "Classifying Reviews:  51%|█████▏    | 35028/68043 [28:44<42:09, 13.05it/s]  "
     ]
    },
    {
     "name": "stdout",
     "output_type": "stream",
     "text": [
      "AI error\n"
     ]
    },
    {
     "name": "stderr",
     "output_type": "stream",
     "text": [
      "Classifying Reviews:  52%|█████▏    | 35102/68043 [28:50<52:11, 10.52it/s]  "
     ]
    },
    {
     "name": "stdout",
     "output_type": "stream",
     "text": [
      "AI error\n"
     ]
    },
    {
     "name": "stderr",
     "output_type": "stream",
     "text": [
      "Classifying Reviews:  54%|█████▍    | 36704/68043 [29:11<00:26, 1204.86it/s]"
     ]
    },
    {
     "name": "stdout",
     "output_type": "stream",
     "text": [
      "AI error\n"
     ]
    },
    {
     "name": "stderr",
     "output_type": "stream",
     "text": [
      "Classifying Reviews:  54%|█████▍    | 36945/68043 [29:13<08:28, 61.10it/s]  "
     ]
    },
    {
     "name": "stdout",
     "output_type": "stream",
     "text": [
      "AI error\n"
     ]
    },
    {
     "name": "stderr",
     "output_type": "stream",
     "text": [
      "Classifying Reviews:  55%|█████▍    | 37180/68043 [29:24<12:32, 41.02it/s]"
     ]
    },
    {
     "name": "stdout",
     "output_type": "stream",
     "text": [
      "AI error\n"
     ]
    },
    {
     "name": "stderr",
     "output_type": "stream",
     "text": [
      "Classifying Reviews:  55%|█████▌    | 37457/68043 [29:40<17:19, 29.43it/s]"
     ]
    },
    {
     "name": "stdout",
     "output_type": "stream",
     "text": [
      "AI error\n",
      "AI error\n"
     ]
    },
    {
     "name": "stderr",
     "output_type": "stream",
     "text": [
      "Classifying Reviews:  56%|█████▌    | 37777/68043 [30:09<32:30, 15.51it/s]"
     ]
    },
    {
     "name": "stdout",
     "output_type": "stream",
     "text": [
      "AI error\n"
     ]
    },
    {
     "name": "stderr",
     "output_type": "stream",
     "text": [
      "Classifying Reviews:  56%|█████▌    | 38108/68043 [30:28<18:34, 26.87it/s]"
     ]
    },
    {
     "name": "stdout",
     "output_type": "stream",
     "text": [
      "AI error\n"
     ]
    },
    {
     "name": "stderr",
     "output_type": "stream",
     "text": [
      "Classifying Reviews:  56%|█████▌    | 38179/68043 [30:33<25:46, 19.30it/s]  "
     ]
    },
    {
     "name": "stdout",
     "output_type": "stream",
     "text": [
      "AI error\n"
     ]
    },
    {
     "name": "stderr",
     "output_type": "stream",
     "text": [
      "Classifying Reviews:  57%|█████▋    | 38963/68043 [30:35<01:20, 359.65it/s] "
     ]
    },
    {
     "name": "stdout",
     "output_type": "stream",
     "text": [
      "AI error\n"
     ]
    },
    {
     "name": "stderr",
     "output_type": "stream",
     "text": [
      "Classifying Reviews:  57%|█████▋    | 39053/68043 [30:47<09:31, 50.76it/s] "
     ]
    },
    {
     "name": "stdout",
     "output_type": "stream",
     "text": [
      "AI error\n"
     ]
    },
    {
     "name": "stderr",
     "output_type": "stream",
     "text": [
      "Classifying Reviews:  58%|█████▊    | 39465/68043 [31:19<30:45, 15.48it/s]"
     ]
    },
    {
     "name": "stdout",
     "output_type": "stream",
     "text": [
      "AI error\n"
     ]
    },
    {
     "name": "stderr",
     "output_type": "stream",
     "text": [
      "Classifying Reviews:  60%|██████    | 41098/68043 [32:09<12:32, 35.80it/s]  "
     ]
    },
    {
     "name": "stdout",
     "output_type": "stream",
     "text": [
      "AI error\n"
     ]
    },
    {
     "name": "stderr",
     "output_type": "stream",
     "text": [
      "Classifying Reviews:  61%|██████▏   | 41700/68043 [32:47<51:49,  8.47it/s]  "
     ]
    },
    {
     "name": "stdout",
     "output_type": "stream",
     "text": [
      "AI error\n"
     ]
    },
    {
     "name": "stderr",
     "output_type": "stream",
     "text": [
      "Classifying Reviews:  61%|██████▏   | 41783/68043 [32:56<22:42, 19.27it/s]  "
     ]
    },
    {
     "name": "stdout",
     "output_type": "stream",
     "text": [
      "AI error\n"
     ]
    },
    {
     "name": "stderr",
     "output_type": "stream",
     "text": [
      "Classifying Reviews:  62%|██████▏   | 41956/68043 [33:09<35:29, 12.25it/s]  "
     ]
    },
    {
     "name": "stdout",
     "output_type": "stream",
     "text": [
      "AI error\n"
     ]
    },
    {
     "name": "stderr",
     "output_type": "stream",
     "text": [
      "Classifying Reviews:  62%|██████▏   | 42021/68043 [33:13<16:09, 26.83it/s]  "
     ]
    },
    {
     "name": "stdout",
     "output_type": "stream",
     "text": [
      "AI error\n"
     ]
    },
    {
     "name": "stderr",
     "output_type": "stream",
     "text": [
      "Classifying Reviews:  62%|██████▏   | 42151/68043 [33:22<32:17, 13.37it/s]"
     ]
    },
    {
     "name": "stdout",
     "output_type": "stream",
     "text": [
      "AI error\n"
     ]
    },
    {
     "name": "stderr",
     "output_type": "stream",
     "text": [
      "Classifying Reviews:  62%|██████▏   | 42323/68043 [33:32<21:36, 19.84it/s]  "
     ]
    },
    {
     "name": "stdout",
     "output_type": "stream",
     "text": [
      "AI error\n"
     ]
    },
    {
     "name": "stderr",
     "output_type": "stream",
     "text": [
      "Classifying Reviews:  63%|██████▎   | 42546/68043 [33:46<39:14, 10.83it/s]  "
     ]
    },
    {
     "name": "stdout",
     "output_type": "stream",
     "text": [
      "AI error\n"
     ]
    },
    {
     "name": "stderr",
     "output_type": "stream",
     "text": [
      "Classifying Reviews:  63%|██████▎   | 42602/68043 [33:50<18:24, 23.02it/s]  "
     ]
    },
    {
     "name": "stdout",
     "output_type": "stream",
     "text": [
      "AI error\n"
     ]
    },
    {
     "name": "stderr",
     "output_type": "stream",
     "text": [
      "Classifying Reviews:  63%|██████▎   | 42637/68043 [33:54<34:18, 12.34it/s]  "
     ]
    },
    {
     "name": "stdout",
     "output_type": "stream",
     "text": [
      "AI error\n"
     ]
    },
    {
     "name": "stderr",
     "output_type": "stream",
     "text": [
      "Classifying Reviews:  69%|██████▉   | 46833/68043 [36:50<22:56, 15.40it/s]  "
     ]
    },
    {
     "name": "stdout",
     "output_type": "stream",
     "text": [
      "AI error\n"
     ]
    },
    {
     "name": "stderr",
     "output_type": "stream",
     "text": [
      "Classifying Reviews:  69%|██████▉   | 46906/68043 [36:56<28:23, 12.41it/s]  "
     ]
    },
    {
     "name": "stdout",
     "output_type": "stream",
     "text": [
      "AI error\n"
     ]
    },
    {
     "name": "stderr",
     "output_type": "stream",
     "text": [
      "Classifying Reviews:  71%|███████   | 48242/68043 [37:35<10:40, 30.92it/s]  "
     ]
    },
    {
     "name": "stdout",
     "output_type": "stream",
     "text": [
      "AI error\n",
      "AI error\n"
     ]
    },
    {
     "name": "stderr",
     "output_type": "stream",
     "text": [
      "Classifying Reviews:  76%|███████▌  | 51595/68043 [41:17<19:27, 14.09it/s]  "
     ]
    },
    {
     "name": "stdout",
     "output_type": "stream",
     "text": [
      "AI error\n"
     ]
    },
    {
     "name": "stderr",
     "output_type": "stream",
     "text": [
      "Classifying Reviews:  76%|███████▋  | 51993/68043 [41:49<18:18, 14.61it/s]  "
     ]
    },
    {
     "name": "stdout",
     "output_type": "stream",
     "text": [
      "AI error\n"
     ]
    },
    {
     "name": "stderr",
     "output_type": "stream",
     "text": [
      "Classifying Reviews:  81%|████████  | 55175/68043 [43:46<13:57, 15.36it/s]  "
     ]
    },
    {
     "name": "stdout",
     "output_type": "stream",
     "text": [
      "AI error\n"
     ]
    },
    {
     "name": "stderr",
     "output_type": "stream",
     "text": [
      "Classifying Reviews:  82%|████████▏ | 55676/68043 [44:02<07:46, 26.50it/s] "
     ]
    },
    {
     "name": "stdout",
     "output_type": "stream",
     "text": [
      "AI error\n"
     ]
    },
    {
     "name": "stderr",
     "output_type": "stream",
     "text": [
      "Classifying Reviews:  83%|████████▎ | 56777/68043 [45:07<03:45, 49.97it/s] "
     ]
    },
    {
     "name": "stdout",
     "output_type": "stream",
     "text": [
      "AI error\n",
      "AI error\n"
     ]
    },
    {
     "name": "stderr",
     "output_type": "stream",
     "text": [
      "Classifying Reviews:  84%|████████▎ | 56914/68043 [45:19<12:11, 15.21it/s]"
     ]
    },
    {
     "name": "stdout",
     "output_type": "stream",
     "text": [
      "AI error\n"
     ]
    },
    {
     "name": "stderr",
     "output_type": "stream",
     "text": [
      "Classifying Reviews:  85%|████████▌ | 57985/68043 [46:16<07:11, 23.33it/s] "
     ]
    },
    {
     "name": "stdout",
     "output_type": "stream",
     "text": [
      "AI error\n"
     ]
    },
    {
     "name": "stderr",
     "output_type": "stream",
     "text": [
      "Classifying Reviews:  86%|████████▌ | 58269/68043 [46:36<13:09, 12.38it/s]"
     ]
    },
    {
     "name": "stdout",
     "output_type": "stream",
     "text": [
      "AI error\n"
     ]
    },
    {
     "name": "stderr",
     "output_type": "stream",
     "text": [
      "Classifying Reviews:  86%|████████▌ | 58642/68043 [46:38<00:52, 179.75it/s]"
     ]
    },
    {
     "name": "stdout",
     "output_type": "stream",
     "text": [
      "AI error\n"
     ]
    },
    {
     "name": "stderr",
     "output_type": "stream",
     "text": [
      "Classifying Reviews:  87%|████████▋ | 59346/68043 [47:14<05:00, 28.92it/s] "
     ]
    },
    {
     "name": "stdout",
     "output_type": "stream",
     "text": [
      "AI error\n"
     ]
    },
    {
     "name": "stderr",
     "output_type": "stream",
     "text": [
      "Classifying Reviews:  88%|████████▊ | 59734/68043 [47:43<14:17,  9.69it/s] "
     ]
    },
    {
     "name": "stdout",
     "output_type": "stream",
     "text": [
      "AI error\n"
     ]
    },
    {
     "name": "stderr",
     "output_type": "stream",
     "text": [
      "Classifying Reviews:  88%|████████▊ | 59888/68043 [47:53<11:14, 12.10it/s]"
     ]
    },
    {
     "name": "stdout",
     "output_type": "stream",
     "text": [
      "AI error\n"
     ]
    },
    {
     "name": "stderr",
     "output_type": "stream",
     "text": [
      "Classifying Reviews:  89%|████████▉ | 60497/68043 [48:07<01:54, 65.74it/s] "
     ]
    },
    {
     "name": "stdout",
     "output_type": "stream",
     "text": [
      "AI error\n"
     ]
    },
    {
     "name": "stderr",
     "output_type": "stream",
     "text": [
      "Classifying Reviews:  89%|████████▉ | 60664/68043 [48:28<15:37,  7.87it/s]"
     ]
    },
    {
     "name": "stdout",
     "output_type": "stream",
     "text": [
      "AI error\n"
     ]
    },
    {
     "name": "stderr",
     "output_type": "stream",
     "text": [
      "Classifying Reviews:  89%|████████▉ | 60851/68043 [48:52<14:25,  8.31it/s]  "
     ]
    },
    {
     "name": "stdout",
     "output_type": "stream",
     "text": [
      "AI error\n"
     ]
    },
    {
     "name": "stderr",
     "output_type": "stream",
     "text": [
      "Classifying Reviews:  91%|█████████ | 61639/68043 [49:56<05:24, 19.73it/s]  "
     ]
    },
    {
     "name": "stdout",
     "output_type": "stream",
     "text": [
      "AI error\n"
     ]
    },
    {
     "name": "stderr",
     "output_type": "stream",
     "text": [
      "Classifying Reviews:  92%|█████████▏| 62894/68043 [50:22<01:09, 74.43it/s]  "
     ]
    },
    {
     "name": "stdout",
     "output_type": "stream",
     "text": [
      "AI error\n"
     ]
    },
    {
     "name": "stderr",
     "output_type": "stream",
     "text": [
      "Classifying Reviews:  93%|█████████▎| 63177/68043 [50:39<03:48, 21.27it/s]"
     ]
    },
    {
     "name": "stdout",
     "output_type": "stream",
     "text": [
      "AI error\n"
     ]
    },
    {
     "name": "stderr",
     "output_type": "stream",
     "text": [
      "Classifying Reviews:  93%|█████████▎| 63454/68043 [50:42<00:20, 227.81it/s]"
     ]
    },
    {
     "name": "stdout",
     "output_type": "stream",
     "text": [
      "AI error\n"
     ]
    },
    {
     "name": "stderr",
     "output_type": "stream",
     "text": [
      "Classifying Reviews:  94%|█████████▎| 63779/68043 [51:04<03:47, 18.72it/s] "
     ]
    },
    {
     "name": "stdout",
     "output_type": "stream",
     "text": [
      "AI error\n"
     ]
    },
    {
     "name": "stderr",
     "output_type": "stream",
     "text": [
      "Classifying Reviews:  94%|█████████▍| 64127/68043 [51:22<04:12, 15.50it/s] "
     ]
    },
    {
     "name": "stdout",
     "output_type": "stream",
     "text": [
      "AI error\n"
     ]
    },
    {
     "name": "stderr",
     "output_type": "stream",
     "text": [
      "Classifying Reviews:  94%|█████████▍| 64241/68043 [51:28<03:32, 17.88it/s]"
     ]
    },
    {
     "name": "stdout",
     "output_type": "stream",
     "text": [
      "AI error\n"
     ]
    },
    {
     "name": "stderr",
     "output_type": "stream",
     "text": [
      "Classifying Reviews:  96%|█████████▌| 65404/68043 [52:25<04:07, 10.67it/s] "
     ]
    },
    {
     "name": "stdout",
     "output_type": "stream",
     "text": [
      "AI error\n"
     ]
    },
    {
     "name": "stderr",
     "output_type": "stream",
     "text": [
      "Classifying Reviews:  97%|█████████▋| 65680/68043 [52:48<02:12, 17.87it/s]"
     ]
    },
    {
     "name": "stdout",
     "output_type": "stream",
     "text": [
      "AI error\n"
     ]
    },
    {
     "name": "stderr",
     "output_type": "stream",
     "text": [
      "Classifying Reviews:  97%|█████████▋| 66199/68043 [53:09<01:40, 18.33it/s] "
     ]
    },
    {
     "name": "stdout",
     "output_type": "stream",
     "text": [
      "AI error\n"
     ]
    },
    {
     "name": "stderr",
     "output_type": "stream",
     "text": [
      "Classifying Reviews:  99%|█████████▊| 67067/68043 [53:50<00:44, 22.05it/s] "
     ]
    },
    {
     "name": "stdout",
     "output_type": "stream",
     "text": [
      "AI error\n"
     ]
    },
    {
     "name": "stderr",
     "output_type": "stream",
     "text": [
      "Classifying Reviews:  99%|█████████▉| 67415/68043 [54:05<00:03, 179.86it/s]"
     ]
    },
    {
     "name": "stdout",
     "output_type": "stream",
     "text": [
      "AI error\n"
     ]
    },
    {
     "name": "stderr",
     "output_type": "stream",
     "text": [
      "Classifying Reviews: 100%|█████████▉| 67854/68043 [54:31<00:08, 22.79it/s] "
     ]
    },
    {
     "name": "stdout",
     "output_type": "stream",
     "text": [
      "AI error\n"
     ]
    },
    {
     "name": "stderr",
     "output_type": "stream",
     "text": [
      "Classifying Reviews: 100%|██████████| 68043/68043 [54:37<00:00, 20.76it/s]\n"
     ]
    }
   ],
   "source": [
    "\n",
    "from functions.summerizer import summarize_reviews\n",
    "from functions.scrape1 import data_loader\n",
    "\n",
    "data_name = \"test2\"\n",
    "\n",
    "\n",
    "Hotel_Reviews = data_loader(data_name)\n",
    "\n",
    "# Done using llama3.2\n",
    "summarize_reviews(Hotel_Reviews)"
   ]
  },
  {
   "cell_type": "code",
   "execution_count": 3,
   "metadata": {},
   "outputs": [
    {
     "name": "stdout",
     "output_type": "stream",
     "text": [
      "Make embeddings\n"
     ]
    }
   ],
   "source": [
    "from functions.Rag_functions import save_vectorstore\n",
    "\n",
    "Hotel_Reviews = data_loader(data_name)\n",
    "\n",
    "# run: ollama run llamma3 to get embedding model locally\n",
    "\n",
    "retriever = save_vectorstore(Hotel_Reviews,data_name)\n",
    "\n",
    "\n"
   ]
  },
  {
   "cell_type": "markdown",
   "metadata": {},
   "source": [
    "Make plots to use later:\n"
   ]
  },
  {
   "cell_type": "code",
   "execution_count": null,
   "metadata": {},
   "outputs": [
    {
     "name": "stderr",
     "output_type": "stream",
     "text": [
      "C:\\Users\\alan_\\AppData\\Local\\Temp\\ipykernel_30600\\701247818.py:29: SettingWithCopyWarning: \n",
      "A value is trying to be set on a copy of a slice from a DataFrame.\n",
      "Try using .loc[row_indexer,col_indexer] = value instead\n",
      "\n",
      "See the caveats in the documentation: https://pandas.pydata.org/pandas-docs/stable/user_guide/indexing.html#returning-a-view-versus-a-copy\n",
      "  singel_Hotel_Reviews['days_since'] = (max_date - singel_Hotel_Reviews['date_object']).dt.days\n",
      "C:\\Users\\alan_\\AppData\\Local\\Temp\\ipykernel_30600\\701247818.py:30: SettingWithCopyWarning: \n",
      "A value is trying to be set on a copy of a slice from a DataFrame.\n",
      "Try using .loc[row_indexer,col_indexer] = value instead\n",
      "\n",
      "See the caveats in the documentation: https://pandas.pydata.org/pandas-docs/stable/user_guide/indexing.html#returning-a-view-versus-a-copy\n",
      "  singel_Hotel_Reviews['weight'] = np.exp(-singel_Hotel_Reviews['days_since'] / (365 / 2.5))\n",
      "C:\\Users\\alan_\\AppData\\Local\\Temp\\ipykernel_30600\\701247818.py:33: RuntimeWarning: invalid value encountered in scalar divide\n",
      "  recency_weighted_average = (singel_Hotel_Reviews['Reviewer_Score'] * singel_Hotel_Reviews['weight']).sum() / singel_Hotel_Reviews['weight'].sum()\n"
     ]
    },
    {
     "ename": "ValueError",
     "evalue": "Axis limits cannot be NaN or Inf",
     "output_type": "error",
     "traceback": [
      "\u001b[1;31m---------------------------------------------------------------------------\u001b[0m",
      "\u001b[1;31mValueError\u001b[0m                                Traceback (most recent call last)",
      "Cell \u001b[1;32mIn[5], line 51\u001b[0m\n\u001b[0;32m     49\u001b[0m plt\u001b[38;5;241m.\u001b[39mxlabel(\u001b[38;5;124m\"\u001b[39m\u001b[38;5;124mRatings\u001b[39m\u001b[38;5;124m\"\u001b[39m)\n\u001b[0;32m     50\u001b[0m plt\u001b[38;5;241m.\u001b[39mylabel(\u001b[38;5;124m\"\u001b[39m\u001b[38;5;124mNumber of Ratings\u001b[39m\u001b[38;5;124m\"\u001b[39m)\n\u001b[1;32m---> 51\u001b[0m \u001b[43mplt\u001b[49m\u001b[38;5;241;43m.\u001b[39;49m\u001b[43mylim\u001b[49m\u001b[43m(\u001b[49m\u001b[38;5;241;43m0\u001b[39;49m\u001b[43m,\u001b[49m\u001b[43m \u001b[49m\u001b[43mmax_y\u001b[49m\u001b[43m \u001b[49m\u001b[38;5;241;43m*\u001b[39;49m\u001b[43m \u001b[49m\u001b[38;5;241;43m1.4\u001b[39;49m\u001b[43m)\u001b[49m\n\u001b[0;32m     52\u001b[0m plt\u001b[38;5;241m.\u001b[39mxticks(np\u001b[38;5;241m.\u001b[39marange(\u001b[38;5;241m1\u001b[39m, \u001b[38;5;241m12\u001b[39m, \u001b[38;5;241m1\u001b[39m))\n\u001b[0;32m     53\u001b[0m plt\u001b[38;5;241m.\u001b[39mtitle(singel_Hotel_Reviews[\u001b[38;5;124m'\u001b[39m\u001b[38;5;124mHotel_Name\u001b[39m\u001b[38;5;124m'\u001b[39m]\u001b[38;5;241m.\u001b[39miloc[\u001b[38;5;241m0\u001b[39m], fontsize\u001b[38;5;241m=\u001b[39m\u001b[38;5;241m25\u001b[39m)\n",
      "File \u001b[1;32mc:\\Users\\alan_\\anaconda3\\envs\\Hotel_env\\Lib\\site-packages\\matplotlib\\pyplot.py:2160\u001b[0m, in \u001b[0;36mylim\u001b[1;34m(*args, **kwargs)\u001b[0m\n\u001b[0;32m   2158\u001b[0m \u001b[38;5;28;01mif\u001b[39;00m \u001b[38;5;129;01mnot\u001b[39;00m args \u001b[38;5;129;01mand\u001b[39;00m \u001b[38;5;129;01mnot\u001b[39;00m kwargs:\n\u001b[0;32m   2159\u001b[0m     \u001b[38;5;28;01mreturn\u001b[39;00m ax\u001b[38;5;241m.\u001b[39mget_ylim()\n\u001b[1;32m-> 2160\u001b[0m ret \u001b[38;5;241m=\u001b[39m \u001b[43max\u001b[49m\u001b[38;5;241;43m.\u001b[39;49m\u001b[43mset_ylim\u001b[49m\u001b[43m(\u001b[49m\u001b[38;5;241;43m*\u001b[39;49m\u001b[43margs\u001b[49m\u001b[43m,\u001b[49m\u001b[43m \u001b[49m\u001b[38;5;241;43m*\u001b[39;49m\u001b[38;5;241;43m*\u001b[39;49m\u001b[43mkwargs\u001b[49m\u001b[43m)\u001b[49m\n\u001b[0;32m   2161\u001b[0m \u001b[38;5;28;01mreturn\u001b[39;00m ret\n",
      "File \u001b[1;32mc:\\Users\\alan_\\anaconda3\\envs\\Hotel_env\\Lib\\site-packages\\matplotlib\\axes\\_base.py:4017\u001b[0m, in \u001b[0;36m_AxesBase.set_ylim\u001b[1;34m(self, bottom, top, emit, auto, ymin, ymax)\u001b[0m\n\u001b[0;32m   4015\u001b[0m         \u001b[38;5;28;01mraise\u001b[39;00m \u001b[38;5;167;01mTypeError\u001b[39;00m(\u001b[38;5;124m\"\u001b[39m\u001b[38;5;124mCannot pass both \u001b[39m\u001b[38;5;124m'\u001b[39m\u001b[38;5;124mtop\u001b[39m\u001b[38;5;124m'\u001b[39m\u001b[38;5;124m and \u001b[39m\u001b[38;5;124m'\u001b[39m\u001b[38;5;124mymax\u001b[39m\u001b[38;5;124m'\u001b[39m\u001b[38;5;124m\"\u001b[39m)\n\u001b[0;32m   4016\u001b[0m     top \u001b[38;5;241m=\u001b[39m ymax\n\u001b[1;32m-> 4017\u001b[0m \u001b[38;5;28;01mreturn\u001b[39;00m \u001b[38;5;28;43mself\u001b[39;49m\u001b[38;5;241;43m.\u001b[39;49m\u001b[43myaxis\u001b[49m\u001b[38;5;241;43m.\u001b[39;49m\u001b[43m_set_lim\u001b[49m\u001b[43m(\u001b[49m\u001b[43mbottom\u001b[49m\u001b[43m,\u001b[49m\u001b[43m \u001b[49m\u001b[43mtop\u001b[49m\u001b[43m,\u001b[49m\u001b[43m \u001b[49m\u001b[43memit\u001b[49m\u001b[38;5;241;43m=\u001b[39;49m\u001b[43memit\u001b[49m\u001b[43m,\u001b[49m\u001b[43m \u001b[49m\u001b[43mauto\u001b[49m\u001b[38;5;241;43m=\u001b[39;49m\u001b[43mauto\u001b[49m\u001b[43m)\u001b[49m\n",
      "File \u001b[1;32mc:\\Users\\alan_\\anaconda3\\envs\\Hotel_env\\Lib\\site-packages\\matplotlib\\axis.py:1228\u001b[0m, in \u001b[0;36mAxis._set_lim\u001b[1;34m(self, v0, v1, emit, auto)\u001b[0m\n\u001b[0;32m   1226\u001b[0m \u001b[38;5;28mself\u001b[39m\u001b[38;5;241m.\u001b[39maxes\u001b[38;5;241m.\u001b[39m_process_unit_info([(name, (v0, v1))], convert\u001b[38;5;241m=\u001b[39m\u001b[38;5;28;01mFalse\u001b[39;00m)\n\u001b[0;32m   1227\u001b[0m v0 \u001b[38;5;241m=\u001b[39m \u001b[38;5;28mself\u001b[39m\u001b[38;5;241m.\u001b[39maxes\u001b[38;5;241m.\u001b[39m_validate_converted_limits(v0, \u001b[38;5;28mself\u001b[39m\u001b[38;5;241m.\u001b[39mconvert_units)\n\u001b[1;32m-> 1228\u001b[0m v1 \u001b[38;5;241m=\u001b[39m \u001b[38;5;28;43mself\u001b[39;49m\u001b[38;5;241;43m.\u001b[39;49m\u001b[43maxes\u001b[49m\u001b[38;5;241;43m.\u001b[39;49m\u001b[43m_validate_converted_limits\u001b[49m\u001b[43m(\u001b[49m\u001b[43mv1\u001b[49m\u001b[43m,\u001b[49m\u001b[43m \u001b[49m\u001b[38;5;28;43mself\u001b[39;49m\u001b[38;5;241;43m.\u001b[39;49m\u001b[43mconvert_units\u001b[49m\u001b[43m)\u001b[49m\n\u001b[0;32m   1230\u001b[0m \u001b[38;5;28;01mif\u001b[39;00m v0 \u001b[38;5;129;01mis\u001b[39;00m \u001b[38;5;28;01mNone\u001b[39;00m \u001b[38;5;129;01mor\u001b[39;00m v1 \u001b[38;5;129;01mis\u001b[39;00m \u001b[38;5;28;01mNone\u001b[39;00m:\n\u001b[0;32m   1231\u001b[0m     \u001b[38;5;66;03m# Axes init calls set_xlim(0, 1) before get_xlim() can be called,\u001b[39;00m\n\u001b[0;32m   1232\u001b[0m     \u001b[38;5;66;03m# so only grab the limits if we really need them.\u001b[39;00m\n\u001b[0;32m   1233\u001b[0m     old0, old1 \u001b[38;5;241m=\u001b[39m \u001b[38;5;28mself\u001b[39m\u001b[38;5;241m.\u001b[39mget_view_interval()\n",
      "File \u001b[1;32mc:\\Users\\alan_\\anaconda3\\envs\\Hotel_env\\Lib\\site-packages\\matplotlib\\axes\\_base.py:3704\u001b[0m, in \u001b[0;36m_AxesBase._validate_converted_limits\u001b[1;34m(self, limit, convert)\u001b[0m\n\u001b[0;32m   3701\u001b[0m     converted_limit \u001b[38;5;241m=\u001b[39m converted_limit\u001b[38;5;241m.\u001b[39msqueeze()\n\u001b[0;32m   3702\u001b[0m \u001b[38;5;28;01mif\u001b[39;00m (\u001b[38;5;28misinstance\u001b[39m(converted_limit, Real)\n\u001b[0;32m   3703\u001b[0m         \u001b[38;5;129;01mand\u001b[39;00m \u001b[38;5;129;01mnot\u001b[39;00m np\u001b[38;5;241m.\u001b[39misfinite(converted_limit)):\n\u001b[1;32m-> 3704\u001b[0m     \u001b[38;5;28;01mraise\u001b[39;00m \u001b[38;5;167;01mValueError\u001b[39;00m(\u001b[38;5;124m\"\u001b[39m\u001b[38;5;124mAxis limits cannot be NaN or Inf\u001b[39m\u001b[38;5;124m\"\u001b[39m)\n\u001b[0;32m   3705\u001b[0m \u001b[38;5;28;01mreturn\u001b[39;00m converted_limit\n",
      "\u001b[1;31mValueError\u001b[0m: Axis limits cannot be NaN or Inf"
     ]
    },
    {
     "data": {
      "image/png": "[encoded data removed]",
      "text/plain": [
       "<Figure size 600x300 with 1 Axes>"
      ]
     },
     "metadata": {},
     "output_type": "display_data"
    }
   ],
   "source": [
    "\n",
    "import pandas as pd\n",
    "import os\n",
    "import numpy as np\n",
    "import matplotlib.pyplot as plt\n",
    "from matplotlib.patches import FancyArrowPatch\n",
    "\n",
    "\n",
    "Hotel_Reviews = data_loader(data_name)\n",
    "\n",
    "try:\n",
    "    os.makedirs(f\"Data/Histograms/{data_name}\")\n",
    "except FileExistsError:\n",
    "    print(f\"Directory already exists\")\n",
    "\n",
    "# Assuming Hotel_Reviews is a pandas DataFrame\n",
    "for hotel_name in Hotel_Reviews['Hotel_Name'].unique():\n",
    "    #hotel_name =  Hotel_Reviews['Hotel_Name'][99]\n",
    "    singel_Hotel_Reviews = Hotel_Reviews[Hotel_Reviews['Hotel_Name'] == hotel_name]\n",
    "\n",
    "    num_hotels = len(singel_Hotel_Reviews)\n",
    "    mean_rating = round(singel_Hotel_Reviews['Reviewer_Score'].mean(), 1)\n",
    "    max_y = singel_Hotel_Reviews['Reviewer_Score'].round().value_counts().max()\n",
    "    text_size = 8\n",
    "\n",
    "\n",
    "    # Calculate the recency weights\n",
    "    max_date = singel_Hotel_Reviews['date_object'].max()\n",
    "    singel_Hotel_Reviews['days_since'] = (max_date - singel_Hotel_Reviews['date_object']).dt.days\n",
    "    singel_Hotel_Reviews['weight'] = np.exp(-singel_Hotel_Reviews['days_since'] / (365 / 2.5))\n",
    "\n",
    "    # Calculate the recency-weighted average\n",
    "    recency_weighted_average = (singel_Hotel_Reviews['Reviewer_Score'] * singel_Hotel_Reviews['weight']).sum() / singel_Hotel_Reviews['weight'].sum()\n",
    "\n",
    "    overall_label_hight = 1.25\n",
    "    change_label_hight = 1.15\n",
    "    label_nudge = -4\n",
    "\n",
    "    # Plotting\n",
    "    plt.figure(figsize=(6, 3))\n",
    "    plt.hist(singel_Hotel_Reviews['Reviewer_Score'], bins=np.arange(0.5, 11.5), color='#CA9552', alpha=0.3, edgecolor='#CA9552')\n",
    "    plt.axvline(mean_rating, linestyle='--', linewidth=1, color='#BC3751')\n",
    "\n",
    "    plt.text(mean_rating + label_nudge, max_y * overall_label_hight, f\"Average rating: {mean_rating}\",\n",
    "                size=text_size, color='#BC3751', fontstyle='italic')\n",
    "    plt.text(1, max_y * 1.0, f\"Number of Ratings: {num_hotels}\",\n",
    "                size=text_size, color='black', fontstyle='italic')\n",
    "\n",
    "    plt.xlabel(\"Ratings\")\n",
    "    plt.ylabel(\"Number of Ratings\")\n",
    "    plt.ylim(0, max_y * 1.4)\n",
    "    plt.xticks(np.arange(1, 12, 1))\n",
    "    plt.title(singel_Hotel_Reviews['Hotel_Name'].iloc[0], fontsize=25)\n",
    "\n",
    "    if abs(recency_weighted_average - mean_rating) > 0.15:\n",
    "        plt.gca().add_patch(FancyArrowPatch((mean_rating, max_y * (change_label_hight - 0.08)),\n",
    "                                            (recency_weighted_average, max_y * (change_label_hight - 0.08)),\n",
    "                                            arrowstyle='->', color='lightblue', linewidth=1.1))\n",
    "        plt.text(mean_rating + label_nudge, max_y * change_label_hight,\n",
    "                    f\"Recency weighted: {round(recency_weighted_average, 1)}\",\n",
    "                    size=text_size, color='lightblue', fontstyle='italic')\n",
    "        plt.axvline(recency_weighted_average, linestyle='--', linewidth=1, color='lightblue')\n",
    "\n",
    "    plt.tight_layout()\n",
    "\n",
    "    # Save the plot\n",
    "    no_spaces = hotel_name.replace(\" \", \"\")\n",
    "    plt.savefig(f\"Data/Histograms/{data_name}/{no_spaces}.png\", dpi=400)\n",
    "    plt.close()"
   ]
  },
  {
   "cell_type": "code",
   "execution_count": 7,
   "metadata": {},
   "outputs": [
    {
     "data": {
      "text/html": [
       "<div>\n",
       "<style scoped>\n",
       "    .dataframe tbody tr th:only-of-type {\n",
       "        vertical-align: middle;\n",
       "    }\n",
       "\n",
       "    .dataframe tbody tr th {\n",
       "        vertical-align: top;\n",
       "    }\n",
       "\n",
       "    .dataframe thead th {\n",
       "        text-align: right;\n",
       "    }\n",
       "</style>\n",
       "<table border=\"1\" class=\"dataframe\">\n",
       "  <thead>\n",
       "    <tr style=\"text-align: right;\">\n",
       "      <th></th>\n",
       "      <th>Hotel_Name</th>\n",
       "      <th>Review_Date</th>\n",
       "      <th>Positive_Review</th>\n",
       "      <th>Negative_Review</th>\n",
       "      <th>Reviewer_Score</th>\n",
       "      <th>Reviewer_Nationality</th>\n",
       "      <th>address</th>\n",
       "      <th>price</th>\n",
       "      <th>Original_Positive_Review</th>\n",
       "      <th>Original_Negative_Review</th>\n",
       "      <th>date_object</th>\n",
       "      <th>month</th>\n",
       "      <th>num_date_object</th>\n",
       "      <th>days_since</th>\n",
       "      <th>weight</th>\n",
       "    </tr>\n",
       "  </thead>\n",
       "  <tbody>\n",
       "  </tbody>\n",
       "</table>\n",
       "</div>"
      ],
      "text/plain": [
       "Empty DataFrame\n",
       "Columns: [Hotel_Name, Review_Date, Positive_Review, Negative_Review, Reviewer_Score, Reviewer_Nationality, address, price, Original_Positive_Review, Original_Negative_Review, date_object, month, num_date_object, days_since, weight]\n",
       "Index: []"
      ]
     },
     "execution_count": 7,
     "metadata": {},
     "output_type": "execute_result"
    }
   ],
   "source": [
    "singel_Hotel_Reviews"
   ]
  }
 ],
 "metadata": {
  "kernelspec": {
   "display_name": "Hotel_env",
   "language": "python",
   "name": "python3"
  },
  "language_info": {
   "codemirror_mode": {
    "name": "ipython",
    "version": 3
   },
   "file_extension": ".py",
   "mimetype": "text/x-python",
   "name": "python",
   "nbconvert_exporter": "python",
   "pygments_lexer": "ipython3",
   "version": "3.11.11"
  }
 },
 "nbformat": 4,
 "nbformat_minor": 2
}
