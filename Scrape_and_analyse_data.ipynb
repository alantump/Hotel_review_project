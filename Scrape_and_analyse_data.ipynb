{
 "cells": [
  {
   "cell_type": "markdown",
   "metadata": {},
   "source": [
    "## Code to scrape and prepare the data for the Hotel Review App"
   ]
  },
  {
   "cell_type": "markdown",
   "metadata": {},
   "source": [
    "Please install Ollama and download llama3 and llama3.2 (https://ollama.com/blog/llama3.2)"
   ]
  },
  {
   "cell_type": "code",
   "execution_count": 1,
   "metadata": {},
   "outputs": [
    {
     "name": "stdout",
     "output_type": "stream",
     "text": [
      "Sign-in modal did not appear, continuing...\n",
      "Found 70 property items.\n",
      "None\n",
      "None\n",
      "None\n",
      "None\n",
      "None\n",
      "None\n",
      "None\n",
      "None\n",
      "None\n",
      "None\n",
      "None\n",
      "None\n",
      "None\n",
      "None\n",
      "None\n",
      "None\n",
      "None\n",
      "None\n",
      "None\n",
      "None\n",
      "None\n",
      "None\n",
      "None\n",
      "None\n",
      "None\n",
      "None\n",
      "Ελαία, Δημοτική Ενότητα Γουβών, Δήμος Χερσονήσου, Περιφερειακή Ενότητα Ηρακλείου, Περιφέρεια Κρήτης, Αποκεντρωμένη Διοίκηση Κρήτης, 700 08, Ελλάς\n",
      "None\n",
      "None\n",
      "None\n",
      "None\n",
      "None\n",
      "None\n",
      "None\n",
      "None\n",
      "None\n",
      "None\n",
      "None\n",
      "None\n",
      "None\n",
      "None\n",
      "AGIOS STEFANOS, Κωνσταντίνου Καραμανλή, Χανιά, Δήμος Χανίων, Περιφερειακή Ενότητα Χανίων, Περιφέρεια Κρήτης, Αποκεντρωμένη Διοίκηση Κρήτης, 733 00, Ελλάς\n",
      "None\n",
      "None\n",
      "None\n",
      "None\n",
      "None\n",
      "None\n",
      "Ψαρρού, Καλλιθέα, Ρέθυμνο, Δήμος Ρεθύμνης, Περιφερειακή Ενότητα Ρεθύμνης, Περιφέρεια Κρήτης, Αποκεντρωμένη Διοίκηση Κρήτης, 741 23, Ελλάς\n",
      "None\n",
      "None\n",
      "None\n",
      "None\n",
      "Ψαρρού, Καλλιθέα, Ρέθυμνο, Δήμος Ρεθύμνης, Περιφερειακή Ενότητα Ρεθύμνης, Περιφέρεια Κρήτης, Αποκεντρωμένη Διοίκηση Κρήτης, 741 23, Ελλάς\n",
      "None\n",
      "None\n",
      "None\n",
      "None\n",
      "None\n",
      "None\n",
      "None\n",
      "None\n",
      "None\n",
      "None\n",
      "None\n",
      "None\n",
      "None\n",
      "None\n",
      "None\n",
      "None\n",
      "None\n",
      "None\n",
      "None\n",
      "None\n",
      "None\n",
      "None\n",
      "None\n",
      "None\n",
      "None\n",
      "None\n",
      "None\n",
      "None\n",
      "None\n",
      "None\n",
      "None\n",
      "None\n",
      "None\n",
      "None\n",
      "None\n",
      "None\n",
      "None\n",
      "None\n",
      "None\n",
      "None\n",
      "None\n",
      "None\n",
      "None\n",
      "None\n",
      "None\n",
      "None\n",
      "None\n",
      "None\n",
      "None\n",
      "None\n",
      "None\n",
      "None\n",
      "None\n",
      "None\n",
      "None\n",
      "None\n",
      "None\n",
      "None\n",
      "None\n",
      "None\n",
      "None\n",
      "None\n",
      "None\n",
      "None\n",
      "Ελαία, Δημοτική Ενότητα Γουβών, Δήμος Χερσονήσου, Περιφερειακή Ενότητα Ηρακλείου, Περιφέρεια Κρήτης, Αποκεντρωμένη Διοίκηση Κρήτης, 700 08, Ελλάς\n",
      "None\n",
      "None\n",
      "None\n",
      "None\n",
      "None\n",
      "None\n",
      "Ψαρρού, Καλλιθέα, Ρέθυμνο, Δήμος Ρεθύμνης, Περιφερειακή Ενότητα Ρεθύμνης, Περιφέρεια Κρήτης, Αποκεντρωμένη Διοίκηση Κρήτης, 741 23, Ελλάς\n",
      "None\n",
      "None\n",
      "AGIOS STEFANOS, Κωνσταντίνου Καραμανλή, Χανιά, Δήμος Χανίων, Περιφερειακή Ενότητα Χανίων, Περιφέρεια Κρήτης, Αποκεντρωμένη Διοίκηση Κρήτης, 733 00, Ελλάς\n",
      "None\n",
      "None\n",
      "None\n",
      "None\n",
      "Start scraping Hotel Website\n"
     ]
    },
    {
     "name": "stderr",
     "output_type": "stream",
     "text": [
      "Processing Hotels: 100%|██████████| 70/70 [10:31<00:00,  9.02s/it]\n"
     ]
    }
   ],
   "source": [
    "from functions.scrape1 import scrape_properties, data_loader\n",
    "\n",
    "# Example usage\n",
    "#Crete\n",
    "url = \"https://www.booking.com/searchresults.de.html?label=gen173nr-1BCAEoggI46AdIM1gEaDuIAQGYAQe4ARfIAQzYAQHoAQGIAgGoAgO4AuSg57oGwAIB0gIkN2YxNzc5MjMtNDhlNy00MzBiLWFhODgtMjllZWEyMGQ0ZThk2AIF4AIB&sid=4daa01aeadda31e7f02b8ddc59e9f35f&aid=304142&ss=Kreta&ssne=Kreta&ssne_untouched=Kreta&efdco=1&lang=de&src=searchresults&dest_id=811&dest_type=region&checkin=2025-03-24&checkout=2025-03-29&ltfd=%3A%3A8-2025%3A1%3A&group_adults=2&no_rooms=1&group_children=0&nflt=ht_id%3D204\"\n",
    "#Mykonos\n",
    "url = \"https://www.booking.com/searchresults.de.html?ss=Mykonos%2C+Griechenland&ssne=Creta+Maris+Resort&ssne_untouched=Creta+Maris+Resort&label=gen173nr-1BCAEoggI46AdIM1gEaDuIAQGYAQe4ARfIAQzYAQHoAQGIAgGoAgO4ApeRkrsGwAIB0gIkNWY2OWRjM2YtZTBkOC00MjBjLTg3NTEtNTQyNTQyNTBlNTcy2AIF4AIB&sid=4daa01aeadda31e7f02b8ddc59e9f35f&aid=304142&lang=de&sb=1&src_elem=sb&src=index&dest_id=2813&dest_type=region&place_id=region%2F2813&ac_position=0&ac_click_type=b&ac_langcode=de&ac_suggestion_list_length=5&search_selected=true&search_pageview_id=1a21934be57c0020&ac_meta=GhA1MjUyOTM1ZDhhOGMwMWUyIAAoATICZGU6B015a29ub3NAAEoAUAA%3D&checkin=2025-03-24&checkout=2025-03-29&group_adults=2&no_rooms=1&group_children=0\"\n",
    "#Pitztal\n",
    "url = \"https://www.booking.com/searchresults.de.html?ss=Pitztal%2C+%C3%96sterreich&ssne=Mykonos&ssne_untouched=Mykonos&efdco=1&label=gen173nr-1BCAEoggI46AdIM1gEaDuIAQGYAQe4ARfIAQzYAQHoAQGIAgGoAgO4Av6wlLsGwAIB0gIkNmFhNGE3YWEtZWYwZC00MGE1LWE0MTctNjhkYWI1N2RjOTYx2AIF4AIB&sid=4daa01aeadda31e7f02b8ddc59e9f35f&aid=304142&lang=de&sb=1&src_elem=sb&src=index&dest_id=1750&dest_type=region&place_id=region%2F1750&ac_position=0&ac_click_type=b&ac_langcode=de&ac_suggestion_list_length=5&search_selected=true&search_pageview_id=b4ed327f9a30015e&ac_meta=GhBlMTljMzI4MWFkM2MwMzIyIAAoATICZGU6BHBpdHpAAEoAUAA%3D&checkin=2025-03-24&checkout=2025-03-29&ltfd=1%3A5%3A4-2025%3A1%3A&group_adults=1&no_rooms=1&group_children=0\"\n",
    "\n",
    "\n",
    "max_button_clicks = 1#30 #Clickig the \"Load more Hotels\" button. The more often it clicks the more hotels are loaded and scraped. \n",
    "country_short = \"gr\"\n",
    "data_name = \"Pitztal\"\n",
    "scrape_properties(url, max_button_clicks,data_name, country_short)"
   ]
  },
  {
   "cell_type": "code",
   "execution_count": 2,
   "metadata": {},
   "outputs": [
    {
     "name": "stderr",
     "output_type": "stream",
     "text": [
      "c:\\Users\\alan_\\anaconda3\\envs\\Hotel_env\\Lib\\site-packages\\tqdm\\auto.py:21: TqdmWarning: IProgress not found. Please update jupyter and ipywidgets. See https://ipywidgets.readthedocs.io/en/stable/user_install.html\n",
      "  from .autonotebook import tqdm as notebook_tqdm\n",
      "c:\\Users\\alan_\\anaconda3\\envs\\Hotel_env\\Lib\\site-packages\\transformers\\models\\marian\\tokenization_marian.py:175: UserWarning: Recommended: pip install sacremoses.\n",
      "  warnings.warn(\"Recommended: pip install sacremoses.\")\n"
     ]
    },
    {
     "name": "stdout",
     "output_type": "stream",
     "text": [
      "        username   user_country                                   room_view  \\\n",
      "0         Joseph  United States                          Deluxe Double Room   \n",
      "1          Cyril       Bulgaria                          Deluxe Double Room   \n",
      "2        Saidrkr    Netherlands                          Deluxe Double Room   \n",
      "3         Marnix    Netherlands                          Deluxe Double Room   \n",
      "4         Marnix      Argentina                          Deluxe Double Room   \n",
      "...          ...            ...                                         ...   \n",
      "20359   Gertraud        Austria  Superior Double or Twin Room with Sea View   \n",
      "20360  Anonymous         Turkey                                         NaN   \n",
      "20361  Anonymous          Italy                                         NaN   \n",
      "20362  Anonymous          Italy                                         NaN   \n",
      "20363  Anonymous         France                                         NaN   \n",
      "\n",
      "      stay_duration       stay_type     review_post_date  \\\n",
      "0           1 night          Couple  09-26-2024 00:00:00   \n",
      "1           1 night  Solo traveller  11-06-2024 00:00:00   \n",
      "2           1 night  Solo traveller  10-08-2024 00:00:00   \n",
      "3           1 night  Solo traveller  09-28-2024 00:00:00   \n",
      "4           1 night          Couple  09-21-2024 00:00:00   \n",
      "...             ...             ...                  ...   \n",
      "20359       1 night          Couple  05-30-2022 00:00:00   \n",
      "20360       1 night          Couple  07-02-2023 00:00:00   \n",
      "20361       1 night          Couple  08-06-2022 00:00:00   \n",
      "20362       1 night          Couple  06-23-2022 00:00:00   \n",
      "20363       1 night          Family  09-20-2022 00:00:00   \n",
      "\n",
      "                                            review_title  rating  \\\n",
      "0      Perfect stay near the airport. If we ever come...    10.0   \n",
      "1                                            Exceptional    10.0   \n",
      "2      make sure you read the email with instructions...     9.0   \n",
      "3                                              Very good     8.0   \n",
      "4                                                 Superb     9.0   \n",
      "...                                                  ...     ...   \n",
      "20359                                               Good     7.0   \n",
      "20360                                        Exceptional    10.0   \n",
      "20361                                          Very good     8.0   \n",
      "20362                                        Exceptional    10.0   \n",
      "20363                                               Good     7.0   \n",
      "\n",
      "      original_lang                                  review_text_liked  \\\n",
      "0             en-us  Convenient to the airport and truly unique acc...   \n",
      "1                en  The location is just perfect - 2 minutes from ...   \n",
      "2                en  great location if you have an early flight nex...   \n",
      "3                en  The room was very spacious with nice furniture...   \n",
      "4                en  Excellent rooms, very spacious with all servic...   \n",
      "...             ...                                                ...   \n",
      "20359            de                                                NaN   \n",
      "20360            tr                                                NaN   \n",
      "20361            it                                                NaN   \n",
      "20362            it                                                NaN   \n",
      "20363            fr                                                NaN   \n",
      "\n",
      "                                    review_text_disliked  \\\n",
      "0                                               Nothing.   \n",
      "1                                                    NaN   \n",
      "2                                                    NaN   \n",
      "3      The water of the shower didn't get warm. That'...   \n",
      "4      It’s a 5 minute walk from the Airport, not ver...   \n",
      "...                                                  ...   \n",
      "20359                                                NaN   \n",
      "20360                                                NaN   \n",
      "20361                                                NaN   \n",
      "20362                                                NaN   \n",
      "20363                                                NaN   \n",
      "\n",
      "                                             full_review  \\\n",
      "0      title: Perfect stay near the airport. If we ev...   \n",
      "1      title: Exceptional. liked: The location is jus...   \n",
      "2      title: make sure you read the email with instr...   \n",
      "3      title: Very good. liked: The room was very spa...   \n",
      "4      title: Superb. liked: Excellent rooms, very sp...   \n",
      "...                                                  ...   \n",
      "20359                                       title: Good.   \n",
      "20360                                title: Exceptional.   \n",
      "20361                                  title: Very good.   \n",
      "20362                                title: Exceptional.   \n",
      "20363                                       title: Good.   \n",
      "\n",
      "                                          en_full_review  found_helpful  \\\n",
      "0      title: Perfect stay near the airport. If we ev...              0   \n",
      "1      title: Exceptional. liked: The location is jus...              0   \n",
      "2      title: make sure you read the email with instr...              0   \n",
      "3      title: Very good. liked: The room was very spa...              0   \n",
      "4      title: Superb. liked: Excellent rooms, very sp...              0   \n",
      "...                                                  ...            ...   \n",
      "20359                                                NaN              0   \n",
      "20360                                                NaN              0   \n",
      "20361                                                NaN              0   \n",
      "20362                                                NaN              0   \n",
      "20363                                                NaN              0   \n",
      "\n",
      "       found_unhelpful                                    owner_resp_text  \\\n",
      "0                    0                                                NaN   \n",
      "1                    0                                                NaN   \n",
      "2                    0                                                NaN   \n",
      "3                    0                                                NaN   \n",
      "4                    0  Dear Marnix, Thank you for your feedback! We'r...   \n",
      "...                ...                                                ...   \n",
      "20359                0                                                NaN   \n",
      "20360                0                                                NaN   \n",
      "20361                0                                                NaN   \n",
      "20362                0                                                NaN   \n",
      "20363                0                                                NaN   \n",
      "\n",
      "              Hotel_key  \n",
      "0      aerostay-mykonos  \n",
      "1      aerostay-mykonos  \n",
      "2      aerostay-mykonos  \n",
      "3      aerostay-mykonos  \n",
      "4      aerostay-mykonos  \n",
      "...                 ...  \n",
      "20359          with-inn  \n",
      "20360          with-inn  \n",
      "20361          with-inn  \n",
      "20362          with-inn  \n",
      "20363          with-inn  \n",
      "\n",
      "[20356 rows x 17 columns]\n",
      "username                    0\n",
      "user_country               17\n",
      "room_view                 403\n",
      "stay_duration               0\n",
      "stay_type                   0\n",
      "review_post_date            0\n",
      "review_title               15\n",
      "rating                      0\n",
      "original_lang               0\n",
      "review_text_liked        7202\n",
      "review_text_disliked    12267\n",
      "full_review                 0\n",
      "en_full_review          11318\n",
      "found_helpful               0\n",
      "found_unhelpful             0\n",
      "owner_resp_text         17092\n",
      "Hotel_key                   0\n",
      "dtype: int64\n",
      "Number of rows: 20356\n",
      "Number of columns: 17\n"
     ]
    },
    {
     "name": "stderr",
     "output_type": "stream",
     "text": [
      "c:\\GitHub Projects\\Hotel_review_project\\functions\\scrape2.py:78: FutureWarning: DataFrame.applymap has been deprecated. Use DataFrame.map instead.\n",
      "  return slim_data.applymap(clean_for_csv)\n"
     ]
    },
    {
     "name": "stdout",
     "output_type": "stream",
     "text": [
      "Load translater: en\n"
     ]
    },
    {
     "name": "stderr",
     "output_type": "stream",
     "text": [
      "Translating Reviews:   3%|▎         | 649/20356 [01:16<15:51, 20.72it/s]  "
     ]
    },
    {
     "name": "stdout",
     "output_type": "stream",
     "text": [
      "Error: No features in text., Review: .\n",
      "Error: No features in text., Review: 🙏🏻🙏🏻🙏🏻🙏🏻\n",
      "Error: No features in text., Review: .\n"
     ]
    },
    {
     "name": "stderr",
     "output_type": "stream",
     "text": [
      "Translating Reviews:   7%|▋         | 1485/20356 [02:22<19:53, 15.81it/s] "
     ]
    },
    {
     "name": "stdout",
     "output_type": "stream",
     "text": [
      "Error: No features in text., Review: .\n"
     ]
    },
    {
     "name": "stderr",
     "output_type": "stream",
     "text": [
      "Translating Reviews:  12%|█▏        | 2455/20356 [03:56<17:28, 17.07it/s]  "
     ]
    },
    {
     "name": "stdout",
     "output_type": "stream",
     "text": [
      "Error: No features in text., Review: .\n",
      "Error: No features in text., Review: .\n",
      "Error: No features in text., Review: 🌺\n"
     ]
    },
    {
     "name": "stderr",
     "output_type": "stream",
     "text": [
      "Translating Reviews:  13%|█▎        | 2704/20356 [04:09<25:03, 11.74it/s]"
     ]
    },
    {
     "name": "stdout",
     "output_type": "stream",
     "text": [
      "Error: No features in text., Review: .\n"
     ]
    },
    {
     "name": "stderr",
     "output_type": "stream",
     "text": [
      "Translating Reviews:  14%|█▎        | 2792/20356 [04:15<22:46, 12.86it/s]"
     ]
    },
    {
     "name": "stdout",
     "output_type": "stream",
     "text": [
      "Error: No features in text., Review: .\n"
     ]
    },
    {
     "name": "stderr",
     "output_type": "stream",
     "text": [
      "Translating Reviews:  20%|██        | 4153/20356 [06:34<33:10,  8.14it/s]  "
     ]
    },
    {
     "name": "stdout",
     "output_type": "stream",
     "text": [
      "Error: No features in text., Review: .\n"
     ]
    },
    {
     "name": "stderr",
     "output_type": "stream",
     "text": [
      "Translating Reviews:  35%|███▌      | 7226/20356 [09:56<25:23,  8.62it/s]"
     ]
    },
    {
     "name": "stdout",
     "output_type": "stream",
     "text": [
      "Error: No features in text., Review: ❤️\n",
      "Error: No features in text., Review: ❤️\n"
     ]
    },
    {
     "name": "stderr",
     "output_type": "stream",
     "text": [
      "Translating Reviews:  41%|████▏     | 8445/20356 [11:14<12:51, 15.44it/s]  "
     ]
    },
    {
     "name": "stdout",
     "output_type": "stream",
     "text": [
      "Error: No features in text., Review: —\n"
     ]
    },
    {
     "name": "stderr",
     "output_type": "stream",
     "text": [
      "Translating Reviews:  42%|████▏     | 8484/20356 [11:29<26:28,  7.47it/s]"
     ]
    },
    {
     "name": "stdout",
     "output_type": "stream",
     "text": [
      "Error: No features in text., Review: .\n"
     ]
    },
    {
     "name": "stderr",
     "output_type": "stream",
     "text": [
      "Translating Reviews:  42%|████▏     | 8570/20356 [12:20<1:36:27,  2.04it/s]"
     ]
    },
    {
     "name": "stdout",
     "output_type": "stream",
     "text": [
      "Error: No features in text., Review: ——\n",
      "Error: No features in text., Review: :(\n"
     ]
    },
    {
     "name": "stderr",
     "output_type": "stream",
     "text": [
      "Translating Reviews:  48%|████▊     | 9838/20356 [14:04<40:37,  4.32it/s]  "
     ]
    },
    {
     "name": "stdout",
     "output_type": "stream",
     "text": [
      "Error: No features in text., Review: 👍🏽\n",
      "Error: No features in text., Review: 👍🏽\n"
     ]
    },
    {
     "name": "stderr",
     "output_type": "stream",
     "text": [
      "Translating Reviews:  50%|████▉     | 10147/20356 [15:18<36:05,  4.71it/s]"
     ]
    },
    {
     "name": "stdout",
     "output_type": "stream",
     "text": [
      "Error: No features in text., Review: —\n",
      "Error: No features in text., Review: ⭐️⭐️⭐️⭐️⭐️⭐️⭐️⭐️⭐️⭐️ Breakfast 👌\n"
     ]
    },
    {
     "name": "stderr",
     "output_type": "stream",
     "text": [
      "Translating Reviews:  58%|█████▊    | 11798/20356 [17:00<09:09, 15.59it/s]  "
     ]
    },
    {
     "name": "stdout",
     "output_type": "stream",
     "text": [
      "Error: No features in text., Review: .\n"
     ]
    },
    {
     "name": "stderr",
     "output_type": "stream",
     "text": [
      "Translating Reviews:  59%|█████▉    | 12021/20356 [17:18<08:31, 16.29it/s]"
     ]
    },
    {
     "name": "stdout",
     "output_type": "stream",
     "text": [
      "Error: No features in text., Review: .\n"
     ]
    },
    {
     "name": "stderr",
     "output_type": "stream",
     "text": [
      "Translating Reviews:  62%|██████▏   | 12622/20356 [18:10<07:19, 17.60it/s]"
     ]
    },
    {
     "name": "stdout",
     "output_type": "stream",
     "text": [
      "Error: No features in text., Review: …..\n"
     ]
    },
    {
     "name": "stderr",
     "output_type": "stream",
     "text": [
      "Translating Reviews:  79%|███████▉  | 16133/20356 [23:17<11:25,  6.16it/s]"
     ]
    },
    {
     "name": "stdout",
     "output_type": "stream",
     "text": [
      "Error: No features in text., Review: :)\n"
     ]
    },
    {
     "name": "stderr",
     "output_type": "stream",
     "text": [
      "Translating Reviews:  80%|███████▉  | 16271/20356 [24:01<17:24,  3.91it/s]"
     ]
    },
    {
     "name": "stdout",
     "output_type": "stream",
     "text": [
      "Error: No features in text., Review: .\n",
      "Error: No features in text., Review: .\n"
     ]
    },
    {
     "name": "stderr",
     "output_type": "stream",
     "text": [
      "Translating Reviews: 100%|██████████| 20356/20356 [28:48<00:00, 11.78it/s]\n"
     ]
    }
   ],
   "source": [
    "\n",
    "\n",
    "from functions.scrape2 import process_reviews\n",
    "process_reviews(data_name)"
   ]
  },
  {
   "cell_type": "code",
   "execution_count": 3,
   "metadata": {},
   "outputs": [
    {
     "name": "stdout",
     "output_type": "stream",
     "text": [
      "True\n"
     ]
    },
    {
     "name": "stderr",
     "output_type": "stream",
     "text": [
      "Classifying Reviews:   0%|          | 0/20356 [00:00<?, ?it/s]c:\\GitHub Projects\\Hotel_review_project\\functions\\summerizer.py:53: LangChainDeprecationWarning: The class `LLMChain` was deprecated in LangChain 0.1.17 and will be removed in 1.0. Use :meth:`~RunnableSequence, e.g., `prompt | llm`` instead.\n",
      "  chain_fusion = LLMChain(llm=self.llm, prompt=prompt)\n",
      "c:\\GitHub Projects\\Hotel_review_project\\functions\\summerizer.py:54: LangChainDeprecationWarning: The method `Chain.run` was deprecated in langchain 0.1.0 and will be removed in 1.0. Use :meth:`~invoke` instead.\n",
      "  return chain_fusion.run(input_text)\n",
      "c:\\GitHub Projects\\Hotel_review_project\\functions\\summerizer.py:53: LangChainDeprecationWarning: The class `LLMChain` was deprecated in LangChain 0.1.17 and will be removed in 1.0. Use :meth:`~RunnableSequence, e.g., `prompt | llm`` instead.\n",
      "  chain_fusion = LLMChain(llm=self.llm, prompt=prompt)\n",
      "Classifying Reviews:   2%|▏         | 334/20356 [00:26<27:55, 11.95it/s] "
     ]
    },
    {
     "name": "stdout",
     "output_type": "stream",
     "text": [
      "AI error\n"
     ]
    },
    {
     "name": "stderr",
     "output_type": "stream",
     "text": [
      "Classifying Reviews:   2%|▏         | 366/20356 [00:29<23:34, 14.13it/s]  "
     ]
    },
    {
     "name": "stdout",
     "output_type": "stream",
     "text": [
      "AI error\n"
     ]
    },
    {
     "name": "stderr",
     "output_type": "stream",
     "text": [
      "Classifying Reviews:   4%|▎         | 738/20356 [00:58<28:24, 11.51it/s]  "
     ]
    },
    {
     "name": "stdout",
     "output_type": "stream",
     "text": [
      "AI error\n"
     ]
    },
    {
     "name": "stderr",
     "output_type": "stream",
     "text": [
      "Classifying Reviews:   4%|▍         | 811/20356 [01:01<14:14, 22.87it/s]  "
     ]
    },
    {
     "name": "stdout",
     "output_type": "stream",
     "text": [
      "AI error\n"
     ]
    },
    {
     "name": "stderr",
     "output_type": "stream",
     "text": [
      "Classifying Reviews:   9%|▉         | 1822/20356 [01:43<35:16,  8.76it/s] "
     ]
    },
    {
     "name": "stdout",
     "output_type": "stream",
     "text": [
      "AI error\n"
     ]
    },
    {
     "name": "stderr",
     "output_type": "stream",
     "text": [
      "Classifying Reviews:  10%|█         | 2040/20356 [02:06<20:44, 14.71it/s]  "
     ]
    },
    {
     "name": "stdout",
     "output_type": "stream",
     "text": [
      "AI error\n"
     ]
    },
    {
     "name": "stderr",
     "output_type": "stream",
     "text": [
      "Classifying Reviews:  15%|█▌        | 3132/20356 [03:19<25:10, 11.40it/s]  "
     ]
    },
    {
     "name": "stdout",
     "output_type": "stream",
     "text": [
      "AI error\n"
     ]
    },
    {
     "name": "stderr",
     "output_type": "stream",
     "text": [
      "Classifying Reviews:  16%|█▋        | 3357/20356 [03:35<16:07, 17.57it/s]  "
     ]
    },
    {
     "name": "stdout",
     "output_type": "stream",
     "text": [
      "AI error\n"
     ]
    },
    {
     "name": "stderr",
     "output_type": "stream",
     "text": [
      "Classifying Reviews:  20%|█▉        | 4007/20356 [03:52<00:32, 508.54it/s] "
     ]
    },
    {
     "name": "stdout",
     "output_type": "stream",
     "text": [
      "AI error\n"
     ]
    },
    {
     "name": "stderr",
     "output_type": "stream",
     "text": [
      "Classifying Reviews:  20%|██        | 4097/20356 [04:02<08:08, 33.31it/s] "
     ]
    },
    {
     "name": "stdout",
     "output_type": "stream",
     "text": [
      "AI error\n"
     ]
    },
    {
     "name": "stderr",
     "output_type": "stream",
     "text": [
      "Classifying Reviews:  21%|██        | 4183/20356 [04:10<14:10, 19.01it/s]"
     ]
    },
    {
     "name": "stdout",
     "output_type": "stream",
     "text": [
      "AI error\n"
     ]
    },
    {
     "name": "stderr",
     "output_type": "stream",
     "text": [
      "Classifying Reviews:  21%|██        | 4205/20356 [04:12<17:19, 15.54it/s]"
     ]
    },
    {
     "name": "stdout",
     "output_type": "stream",
     "text": [
      "AI error\n"
     ]
    },
    {
     "name": "stderr",
     "output_type": "stream",
     "text": [
      "Classifying Reviews:  29%|██▉       | 5976/20356 [05:37<29:41,  8.07it/s] "
     ]
    },
    {
     "name": "stdout",
     "output_type": "stream",
     "text": [
      "AI error\n",
      "AI error\n"
     ]
    },
    {
     "name": "stderr",
     "output_type": "stream",
     "text": [
      "Classifying Reviews:  30%|███       | 6112/20356 [05:49<13:42, 17.32it/s]  "
     ]
    },
    {
     "name": "stdout",
     "output_type": "stream",
     "text": [
      "AI error\n"
     ]
    },
    {
     "name": "stderr",
     "output_type": "stream",
     "text": [
      "Classifying Reviews:  32%|███▏      | 6615/20356 [06:20<17:08, 13.36it/s]  "
     ]
    },
    {
     "name": "stdout",
     "output_type": "stream",
     "text": [
      "AI error\n"
     ]
    },
    {
     "name": "stderr",
     "output_type": "stream",
     "text": [
      "Classifying Reviews:  37%|███▋      | 7574/20356 [07:05<00:40, 318.31it/s] "
     ]
    },
    {
     "name": "stdout",
     "output_type": "stream",
     "text": [
      "AI error\n"
     ]
    },
    {
     "name": "stderr",
     "output_type": "stream",
     "text": [
      "Classifying Reviews:  37%|███▋      | 7627/20356 [07:11<06:33, 32.38it/s] "
     ]
    },
    {
     "name": "stdout",
     "output_type": "stream",
     "text": [
      "AI error\n"
     ]
    },
    {
     "name": "stderr",
     "output_type": "stream",
     "text": [
      "Classifying Reviews:  38%|███▊      | 7751/20356 [07:24<11:45, 17.88it/s]"
     ]
    },
    {
     "name": "stdout",
     "output_type": "stream",
     "text": [
      "AI error\n"
     ]
    },
    {
     "name": "stderr",
     "output_type": "stream",
     "text": [
      "Classifying Reviews:  42%|████▏     | 8457/20356 [08:17<17:53, 11.08it/s]"
     ]
    },
    {
     "name": "stdout",
     "output_type": "stream",
     "text": [
      "AI error\n",
      "AI error\n"
     ]
    },
    {
     "name": "stderr",
     "output_type": "stream",
     "text": [
      "Classifying Reviews:  42%|████▏     | 8627/20356 [08:31<13:40, 14.29it/s]  "
     ]
    },
    {
     "name": "stdout",
     "output_type": "stream",
     "text": [
      "AI error\n"
     ]
    },
    {
     "name": "stderr",
     "output_type": "stream",
     "text": [
      "Classifying Reviews:  43%|████▎     | 8758/20356 [08:42<17:34, 11.00it/s]  "
     ]
    },
    {
     "name": "stdout",
     "output_type": "stream",
     "text": [
      "AI error\n",
      "AI error\n"
     ]
    },
    {
     "name": "stderr",
     "output_type": "stream",
     "text": [
      "Classifying Reviews:  50%|█████     | 10218/20356 [10:29<13:54, 12.14it/s] "
     ]
    },
    {
     "name": "stdout",
     "output_type": "stream",
     "text": [
      "AI error\n",
      "AI error\n"
     ]
    },
    {
     "name": "stderr",
     "output_type": "stream",
     "text": [
      "Classifying Reviews:  55%|█████▍    | 11102/20356 [10:48<17:10,  8.98it/s] "
     ]
    },
    {
     "name": "stdout",
     "output_type": "stream",
     "text": [
      "AI error\n"
     ]
    },
    {
     "name": "stderr",
     "output_type": "stream",
     "text": [
      "Classifying Reviews:  55%|█████▍    | 11140/20356 [10:53<17:20,  8.86it/s]  "
     ]
    },
    {
     "name": "stdout",
     "output_type": "stream",
     "text": [
      "AI error\n"
     ]
    },
    {
     "name": "stderr",
     "output_type": "stream",
     "text": [
      "Classifying Reviews:  59%|█████▉    | 12069/20356 [11:41<05:01, 27.49it/s]  "
     ]
    },
    {
     "name": "stdout",
     "output_type": "stream",
     "text": [
      "AI error\n"
     ]
    },
    {
     "name": "stderr",
     "output_type": "stream",
     "text": [
      "Classifying Reviews:  61%|██████    | 12356/20356 [12:04<04:10, 31.99it/s]"
     ]
    },
    {
     "name": "stdout",
     "output_type": "stream",
     "text": [
      "AI error\n"
     ]
    },
    {
     "name": "stderr",
     "output_type": "stream",
     "text": [
      "Classifying Reviews:  64%|██████▎   | 12960/20356 [12:37<02:24, 51.09it/s]"
     ]
    },
    {
     "name": "stdout",
     "output_type": "stream",
     "text": [
      "AI error\n"
     ]
    },
    {
     "name": "stderr",
     "output_type": "stream",
     "text": [
      "Classifying Reviews:  64%|██████▍   | 13110/20356 [12:53<12:38,  9.55it/s]"
     ]
    },
    {
     "name": "stdout",
     "output_type": "stream",
     "text": [
      "AI error\n"
     ]
    },
    {
     "name": "stderr",
     "output_type": "stream",
     "text": [
      "Classifying Reviews:  71%|███████▏  | 14517/20356 [14:16<04:08, 23.54it/s] "
     ]
    },
    {
     "name": "stdout",
     "output_type": "stream",
     "text": [
      "AI error\n"
     ]
    },
    {
     "name": "stderr",
     "output_type": "stream",
     "text": [
      "Classifying Reviews:  71%|███████▏  | 14520/20356 [14:18<23:18,  4.17it/s]"
     ]
    },
    {
     "name": "stdout",
     "output_type": "stream",
     "text": [
      "AI error\n"
     ]
    },
    {
     "name": "stderr",
     "output_type": "stream",
     "text": [
      "Classifying Reviews:  74%|███████▎  | 15012/20356 [14:40<04:23, 20.28it/s] "
     ]
    },
    {
     "name": "stdout",
     "output_type": "stream",
     "text": [
      "AI error\n"
     ]
    },
    {
     "name": "stderr",
     "output_type": "stream",
     "text": [
      "Classifying Reviews:  77%|███████▋  | 15657/20356 [15:19<09:19,  8.40it/s] "
     ]
    },
    {
     "name": "stdout",
     "output_type": "stream",
     "text": [
      "AI error\n"
     ]
    },
    {
     "name": "stderr",
     "output_type": "stream",
     "text": [
      "Classifying Reviews:  78%|███████▊  | 15931/20356 [15:45<04:53, 15.09it/s]"
     ]
    },
    {
     "name": "stdout",
     "output_type": "stream",
     "text": [
      "AI error\n"
     ]
    },
    {
     "name": "stderr",
     "output_type": "stream",
     "text": [
      "Classifying Reviews:  78%|███████▊  | 15977/20356 [15:49<05:48, 12.55it/s]"
     ]
    },
    {
     "name": "stdout",
     "output_type": "stream",
     "text": [
      "AI error\n"
     ]
    },
    {
     "name": "stderr",
     "output_type": "stream",
     "text": [
      "Classifying Reviews:  83%|████████▎ | 16977/20356 [16:28<01:42, 32.99it/s] "
     ]
    },
    {
     "name": "stdout",
     "output_type": "stream",
     "text": [
      "AI error\n"
     ]
    },
    {
     "name": "stderr",
     "output_type": "stream",
     "text": [
      "Classifying Reviews:  85%|████████▍ | 17218/20356 [16:51<05:10, 10.10it/s]"
     ]
    },
    {
     "name": "stdout",
     "output_type": "stream",
     "text": [
      "AI error\n"
     ]
    },
    {
     "name": "stderr",
     "output_type": "stream",
     "text": [
      "Classifying Reviews:  88%|████████▊ | 17873/20356 [17:26<01:42, 24.17it/s] "
     ]
    },
    {
     "name": "stdout",
     "output_type": "stream",
     "text": [
      "AI error\n"
     ]
    },
    {
     "name": "stderr",
     "output_type": "stream",
     "text": [
      "Classifying Reviews:  89%|████████▉ | 18136/20356 [17:57<04:41,  7.88it/s]"
     ]
    },
    {
     "name": "stdout",
     "output_type": "stream",
     "text": [
      "AI error\n"
     ]
    },
    {
     "name": "stderr",
     "output_type": "stream",
     "text": [
      "Classifying Reviews:  90%|████████▉ | 18304/20356 [18:09<01:26, 23.64it/s]"
     ]
    },
    {
     "name": "stdout",
     "output_type": "stream",
     "text": [
      "AI error\n"
     ]
    },
    {
     "name": "stderr",
     "output_type": "stream",
     "text": [
      "Classifying Reviews:  95%|█████████▌| 19397/20356 [19:05<01:40,  9.54it/s] "
     ]
    },
    {
     "name": "stdout",
     "output_type": "stream",
     "text": [
      "AI error\n"
     ]
    },
    {
     "name": "stderr",
     "output_type": "stream",
     "text": [
      "Classifying Reviews:  97%|█████████▋| 19651/20356 [19:16<00:04, 146.72it/s]"
     ]
    },
    {
     "name": "stdout",
     "output_type": "stream",
     "text": [
      "AI error\n"
     ]
    },
    {
     "name": "stderr",
     "output_type": "stream",
     "text": [
      "Classifying Reviews:  98%|█████████▊| 19940/20356 [19:46<00:28, 14.40it/s] "
     ]
    },
    {
     "name": "stdout",
     "output_type": "stream",
     "text": [
      "AI error\n"
     ]
    },
    {
     "name": "stderr",
     "output_type": "stream",
     "text": [
      "Classifying Reviews: 100%|██████████| 20356/20356 [20:01<00:00, 16.94it/s]\n"
     ]
    }
   ],
   "source": [
    "\n",
    "from functions.summerizer import categorize_reviews\n",
    "from functions.scrape1 import data_loader\n",
    "\n",
    "\n",
    "\n",
    "Hotel_Reviews = data_loader(data_name)\n",
    "\n",
    "# Done using llama3.2\n",
    "categorize_reviews(Hotel_Reviews,data_name)\n",
    "\n"
   ]
  },
  {
   "cell_type": "code",
   "execution_count": 7,
   "metadata": {},
   "outputs": [],
   "source": [
    "\n",
    "from functions.summerizer import summarize_reviews,categorize_reviews\n",
    "from functions.scrape1 import data_loader\n",
    "\n",
    "\n",
    "\n",
    "Hotel_Reviews = data_loader(data_name)\n",
    "\n",
    "# Done using llama3.2\n",
    "summarize_reviews(Hotel_Reviews,data_name)\n",
    "\n"
   ]
  },
  {
   "cell_type": "code",
   "execution_count": 8,
   "metadata": {},
   "outputs": [
    {
     "name": "stdout",
     "output_type": "stream",
     "text": [
      "Make embeddings. Found splits:3061\n"
     ]
    }
   ],
   "source": [
    "from functions.Rag_functions import save_vectorstore\n",
    "from functions.scrape1 import data_loader\n",
    "\n",
    "Hotel_Reviews = data_loader(data_name)\n",
    "\n",
    "# run: ollama run llamma3 to get embedding model locally\n",
    "\n",
    "retriever = save_vectorstore(Hotel_Reviews,data_name)\n",
    "\n",
    "\n"
   ]
  },
  {
   "cell_type": "markdown",
   "metadata": {},
   "source": [
    "Make plots to use later:\n"
   ]
  },
  {
   "cell_type": "code",
   "execution_count": 9,
   "metadata": {},
   "outputs": [
    {
     "name": "stderr",
     "output_type": "stream",
     "text": [
      "C:\\Users\\alan_\\AppData\\Local\\Temp\\ipykernel_31032\\1124407147.py:28: SettingWithCopyWarning: \n",
      "A value is trying to be set on a copy of a slice from a DataFrame.\n",
      "Try using .loc[row_indexer,col_indexer] = value instead\n",
      "\n",
      "See the caveats in the documentation: https://pandas.pydata.org/pandas-docs/stable/user_guide/indexing.html#returning-a-view-versus-a-copy\n",
      "  singel_Hotel_Reviews['days_since'] = (max_date - singel_Hotel_Reviews['date_object']).dt.days\n",
      "C:\\Users\\alan_\\AppData\\Local\\Temp\\ipykernel_31032\\1124407147.py:29: SettingWithCopyWarning: \n",
      "A value is trying to be set on a copy of a slice from a DataFrame.\n",
      "Try using .loc[row_indexer,col_indexer] = value instead\n",
      "\n",
      "See the caveats in the documentation: https://pandas.pydata.org/pandas-docs/stable/user_guide/indexing.html#returning-a-view-versus-a-copy\n",
      "  singel_Hotel_Reviews['weight'] = np.exp(-singel_Hotel_Reviews['days_since'] / (365 / 2.5))\n",
      "C:\\Users\\alan_\\AppData\\Local\\Temp\\ipykernel_31032\\1124407147.py:28: SettingWithCopyWarning: \n",
      "A value is trying to be set on a copy of a slice from a DataFrame.\n",
      "Try using .loc[row_indexer,col_indexer] = value instead\n",
      "\n",
      "See the caveats in the documentation: https://pandas.pydata.org/pandas-docs/stable/user_guide/indexing.html#returning-a-view-versus-a-copy\n",
      "  singel_Hotel_Reviews['days_since'] = (max_date - singel_Hotel_Reviews['date_object']).dt.days\n",
      "C:\\Users\\alan_\\AppData\\Local\\Temp\\ipykernel_31032\\1124407147.py:29: SettingWithCopyWarning: \n",
      "A value is trying to be set on a copy of a slice from a DataFrame.\n",
      "Try using .loc[row_indexer,col_indexer] = value instead\n",
      "\n",
      "See the caveats in the documentation: https://pandas.pydata.org/pandas-docs/stable/user_guide/indexing.html#returning-a-view-versus-a-copy\n",
      "  singel_Hotel_Reviews['weight'] = np.exp(-singel_Hotel_Reviews['days_since'] / (365 / 2.5))\n",
      "C:\\Users\\alan_\\AppData\\Local\\Temp\\ipykernel_31032\\1124407147.py:28: SettingWithCopyWarning: \n",
      "A value is trying to be set on a copy of a slice from a DataFrame.\n",
      "Try using .loc[row_indexer,col_indexer] = value instead\n",
      "\n",
      "See the caveats in the documentation: https://pandas.pydata.org/pandas-docs/stable/user_guide/indexing.html#returning-a-view-versus-a-copy\n",
      "  singel_Hotel_Reviews['days_since'] = (max_date - singel_Hotel_Reviews['date_object']).dt.days\n",
      "C:\\Users\\alan_\\AppData\\Local\\Temp\\ipykernel_31032\\1124407147.py:29: SettingWithCopyWarning: \n",
      "A value is trying to be set on a copy of a slice from a DataFrame.\n",
      "Try using .loc[row_indexer,col_indexer] = value instead\n",
      "\n",
      "See the caveats in the documentation: https://pandas.pydata.org/pandas-docs/stable/user_guide/indexing.html#returning-a-view-versus-a-copy\n",
      "  singel_Hotel_Reviews['weight'] = np.exp(-singel_Hotel_Reviews['days_since'] / (365 / 2.5))\n",
      "C:\\Users\\alan_\\AppData\\Local\\Temp\\ipykernel_31032\\1124407147.py:28: SettingWithCopyWarning: \n",
      "A value is trying to be set on a copy of a slice from a DataFrame.\n",
      "Try using .loc[row_indexer,col_indexer] = value instead\n",
      "\n",
      "See the caveats in the documentation: https://pandas.pydata.org/pandas-docs/stable/user_guide/indexing.html#returning-a-view-versus-a-copy\n",
      "  singel_Hotel_Reviews['days_since'] = (max_date - singel_Hotel_Reviews['date_object']).dt.days\n",
      "C:\\Users\\alan_\\AppData\\Local\\Temp\\ipykernel_31032\\1124407147.py:29: SettingWithCopyWarning: \n",
      "A value is trying to be set on a copy of a slice from a DataFrame.\n",
      "Try using .loc[row_indexer,col_indexer] = value instead\n",
      "\n",
      "See the caveats in the documentation: https://pandas.pydata.org/pandas-docs/stable/user_guide/indexing.html#returning-a-view-versus-a-copy\n",
      "  singel_Hotel_Reviews['weight'] = np.exp(-singel_Hotel_Reviews['days_since'] / (365 / 2.5))\n",
      "C:\\Users\\alan_\\AppData\\Local\\Temp\\ipykernel_31032\\1124407147.py:28: SettingWithCopyWarning: \n",
      "A value is trying to be set on a copy of a slice from a DataFrame.\n",
      "Try using .loc[row_indexer,col_indexer] = value instead\n",
      "\n",
      "See the caveats in the documentation: https://pandas.pydata.org/pandas-docs/stable/user_guide/indexing.html#returning-a-view-versus-a-copy\n",
      "  singel_Hotel_Reviews['days_since'] = (max_date - singel_Hotel_Reviews['date_object']).dt.days\n",
      "C:\\Users\\alan_\\AppData\\Local\\Temp\\ipykernel_31032\\1124407147.py:29: SettingWithCopyWarning: \n",
      "A value is trying to be set on a copy of a slice from a DataFrame.\n",
      "Try using .loc[row_indexer,col_indexer] = value instead\n",
      "\n",
      "See the caveats in the documentation: https://pandas.pydata.org/pandas-docs/stable/user_guide/indexing.html#returning-a-view-versus-a-copy\n",
      "  singel_Hotel_Reviews['weight'] = np.exp(-singel_Hotel_Reviews['days_since'] / (365 / 2.5))\n",
      "C:\\Users\\alan_\\AppData\\Local\\Temp\\ipykernel_31032\\1124407147.py:28: SettingWithCopyWarning: \n",
      "A value is trying to be set on a copy of a slice from a DataFrame.\n",
      "Try using .loc[row_indexer,col_indexer] = value instead\n",
      "\n",
      "See the caveats in the documentation: https://pandas.pydata.org/pandas-docs/stable/user_guide/indexing.html#returning-a-view-versus-a-copy\n",
      "  singel_Hotel_Reviews['days_since'] = (max_date - singel_Hotel_Reviews['date_object']).dt.days\n",
      "C:\\Users\\alan_\\AppData\\Local\\Temp\\ipykernel_31032\\1124407147.py:29: SettingWithCopyWarning: \n",
      "A value is trying to be set on a copy of a slice from a DataFrame.\n",
      "Try using .loc[row_indexer,col_indexer] = value instead\n",
      "\n",
      "See the caveats in the documentation: https://pandas.pydata.org/pandas-docs/stable/user_guide/indexing.html#returning-a-view-versus-a-copy\n",
      "  singel_Hotel_Reviews['weight'] = np.exp(-singel_Hotel_Reviews['days_since'] / (365 / 2.5))\n",
      "C:\\Users\\alan_\\AppData\\Local\\Temp\\ipykernel_31032\\1124407147.py:28: SettingWithCopyWarning: \n",
      "A value is trying to be set on a copy of a slice from a DataFrame.\n",
      "Try using .loc[row_indexer,col_indexer] = value instead\n",
      "\n",
      "See the caveats in the documentation: https://pandas.pydata.org/pandas-docs/stable/user_guide/indexing.html#returning-a-view-versus-a-copy\n",
      "  singel_Hotel_Reviews['days_since'] = (max_date - singel_Hotel_Reviews['date_object']).dt.days\n",
      "C:\\Users\\alan_\\AppData\\Local\\Temp\\ipykernel_31032\\1124407147.py:29: SettingWithCopyWarning: \n",
      "A value is trying to be set on a copy of a slice from a DataFrame.\n",
      "Try using .loc[row_indexer,col_indexer] = value instead\n",
      "\n",
      "See the caveats in the documentation: https://pandas.pydata.org/pandas-docs/stable/user_guide/indexing.html#returning-a-view-versus-a-copy\n",
      "  singel_Hotel_Reviews['weight'] = np.exp(-singel_Hotel_Reviews['days_since'] / (365 / 2.5))\n",
      "C:\\Users\\alan_\\AppData\\Local\\Temp\\ipykernel_31032\\1124407147.py:28: SettingWithCopyWarning: \n",
      "A value is trying to be set on a copy of a slice from a DataFrame.\n",
      "Try using .loc[row_indexer,col_indexer] = value instead\n",
      "\n",
      "See the caveats in the documentation: https://pandas.pydata.org/pandas-docs/stable/user_guide/indexing.html#returning-a-view-versus-a-copy\n",
      "  singel_Hotel_Reviews['days_since'] = (max_date - singel_Hotel_Reviews['date_object']).dt.days\n",
      "C:\\Users\\alan_\\AppData\\Local\\Temp\\ipykernel_31032\\1124407147.py:29: SettingWithCopyWarning: \n",
      "A value is trying to be set on a copy of a slice from a DataFrame.\n",
      "Try using .loc[row_indexer,col_indexer] = value instead\n",
      "\n",
      "See the caveats in the documentation: https://pandas.pydata.org/pandas-docs/stable/user_guide/indexing.html#returning-a-view-versus-a-copy\n",
      "  singel_Hotel_Reviews['weight'] = np.exp(-singel_Hotel_Reviews['days_since'] / (365 / 2.5))\n",
      "C:\\Users\\alan_\\AppData\\Local\\Temp\\ipykernel_31032\\1124407147.py:28: SettingWithCopyWarning: \n",
      "A value is trying to be set on a copy of a slice from a DataFrame.\n",
      "Try using .loc[row_indexer,col_indexer] = value instead\n",
      "\n",
      "See the caveats in the documentation: https://pandas.pydata.org/pandas-docs/stable/user_guide/indexing.html#returning-a-view-versus-a-copy\n",
      "  singel_Hotel_Reviews['days_since'] = (max_date - singel_Hotel_Reviews['date_object']).dt.days\n",
      "C:\\Users\\alan_\\AppData\\Local\\Temp\\ipykernel_31032\\1124407147.py:29: SettingWithCopyWarning: \n",
      "A value is trying to be set on a copy of a slice from a DataFrame.\n",
      "Try using .loc[row_indexer,col_indexer] = value instead\n",
      "\n",
      "See the caveats in the documentation: https://pandas.pydata.org/pandas-docs/stable/user_guide/indexing.html#returning-a-view-versus-a-copy\n",
      "  singel_Hotel_Reviews['weight'] = np.exp(-singel_Hotel_Reviews['days_since'] / (365 / 2.5))\n",
      "C:\\Users\\alan_\\AppData\\Local\\Temp\\ipykernel_31032\\1124407147.py:28: SettingWithCopyWarning: \n",
      "A value is trying to be set on a copy of a slice from a DataFrame.\n",
      "Try using .loc[row_indexer,col_indexer] = value instead\n",
      "\n",
      "See the caveats in the documentation: https://pandas.pydata.org/pandas-docs/stable/user_guide/indexing.html#returning-a-view-versus-a-copy\n",
      "  singel_Hotel_Reviews['days_since'] = (max_date - singel_Hotel_Reviews['date_object']).dt.days\n",
      "C:\\Users\\alan_\\AppData\\Local\\Temp\\ipykernel_31032\\1124407147.py:29: SettingWithCopyWarning: \n",
      "A value is trying to be set on a copy of a slice from a DataFrame.\n",
      "Try using .loc[row_indexer,col_indexer] = value instead\n",
      "\n",
      "See the caveats in the documentation: https://pandas.pydata.org/pandas-docs/stable/user_guide/indexing.html#returning-a-view-versus-a-copy\n",
      "  singel_Hotel_Reviews['weight'] = np.exp(-singel_Hotel_Reviews['days_since'] / (365 / 2.5))\n",
      "C:\\Users\\alan_\\AppData\\Local\\Temp\\ipykernel_31032\\1124407147.py:28: SettingWithCopyWarning: \n",
      "A value is trying to be set on a copy of a slice from a DataFrame.\n",
      "Try using .loc[row_indexer,col_indexer] = value instead\n",
      "\n",
      "See the caveats in the documentation: https://pandas.pydata.org/pandas-docs/stable/user_guide/indexing.html#returning-a-view-versus-a-copy\n",
      "  singel_Hotel_Reviews['days_since'] = (max_date - singel_Hotel_Reviews['date_object']).dt.days\n",
      "C:\\Users\\alan_\\AppData\\Local\\Temp\\ipykernel_31032\\1124407147.py:29: SettingWithCopyWarning: \n",
      "A value is trying to be set on a copy of a slice from a DataFrame.\n",
      "Try using .loc[row_indexer,col_indexer] = value instead\n",
      "\n",
      "See the caveats in the documentation: https://pandas.pydata.org/pandas-docs/stable/user_guide/indexing.html#returning-a-view-versus-a-copy\n",
      "  singel_Hotel_Reviews['weight'] = np.exp(-singel_Hotel_Reviews['days_since'] / (365 / 2.5))\n",
      "C:\\Users\\alan_\\AppData\\Local\\Temp\\ipykernel_31032\\1124407147.py:28: SettingWithCopyWarning: \n",
      "A value is trying to be set on a copy of a slice from a DataFrame.\n",
      "Try using .loc[row_indexer,col_indexer] = value instead\n",
      "\n",
      "See the caveats in the documentation: https://pandas.pydata.org/pandas-docs/stable/user_guide/indexing.html#returning-a-view-versus-a-copy\n",
      "  singel_Hotel_Reviews['days_since'] = (max_date - singel_Hotel_Reviews['date_object']).dt.days\n",
      "C:\\Users\\alan_\\AppData\\Local\\Temp\\ipykernel_31032\\1124407147.py:29: SettingWithCopyWarning: \n",
      "A value is trying to be set on a copy of a slice from a DataFrame.\n",
      "Try using .loc[row_indexer,col_indexer] = value instead\n",
      "\n",
      "See the caveats in the documentation: https://pandas.pydata.org/pandas-docs/stable/user_guide/indexing.html#returning-a-view-versus-a-copy\n",
      "  singel_Hotel_Reviews['weight'] = np.exp(-singel_Hotel_Reviews['days_since'] / (365 / 2.5))\n",
      "C:\\Users\\alan_\\AppData\\Local\\Temp\\ipykernel_31032\\1124407147.py:28: SettingWithCopyWarning: \n",
      "A value is trying to be set on a copy of a slice from a DataFrame.\n",
      "Try using .loc[row_indexer,col_indexer] = value instead\n",
      "\n",
      "See the caveats in the documentation: https://pandas.pydata.org/pandas-docs/stable/user_guide/indexing.html#returning-a-view-versus-a-copy\n",
      "  singel_Hotel_Reviews['days_since'] = (max_date - singel_Hotel_Reviews['date_object']).dt.days\n",
      "C:\\Users\\alan_\\AppData\\Local\\Temp\\ipykernel_31032\\1124407147.py:29: SettingWithCopyWarning: \n",
      "A value is trying to be set on a copy of a slice from a DataFrame.\n",
      "Try using .loc[row_indexer,col_indexer] = value instead\n",
      "\n",
      "See the caveats in the documentation: https://pandas.pydata.org/pandas-docs/stable/user_guide/indexing.html#returning-a-view-versus-a-copy\n",
      "  singel_Hotel_Reviews['weight'] = np.exp(-singel_Hotel_Reviews['days_since'] / (365 / 2.5))\n",
      "C:\\Users\\alan_\\AppData\\Local\\Temp\\ipykernel_31032\\1124407147.py:28: SettingWithCopyWarning: \n",
      "A value is trying to be set on a copy of a slice from a DataFrame.\n",
      "Try using .loc[row_indexer,col_indexer] = value instead\n",
      "\n",
      "See the caveats in the documentation: https://pandas.pydata.org/pandas-docs/stable/user_guide/indexing.html#returning-a-view-versus-a-copy\n",
      "  singel_Hotel_Reviews['days_since'] = (max_date - singel_Hotel_Reviews['date_object']).dt.days\n",
      "C:\\Users\\alan_\\AppData\\Local\\Temp\\ipykernel_31032\\1124407147.py:29: SettingWithCopyWarning: \n",
      "A value is trying to be set on a copy of a slice from a DataFrame.\n",
      "Try using .loc[row_indexer,col_indexer] = value instead\n",
      "\n",
      "See the caveats in the documentation: https://pandas.pydata.org/pandas-docs/stable/user_guide/indexing.html#returning-a-view-versus-a-copy\n",
      "  singel_Hotel_Reviews['weight'] = np.exp(-singel_Hotel_Reviews['days_since'] / (365 / 2.5))\n",
      "C:\\Users\\alan_\\AppData\\Local\\Temp\\ipykernel_31032\\1124407147.py:28: SettingWithCopyWarning: \n",
      "A value is trying to be set on a copy of a slice from a DataFrame.\n",
      "Try using .loc[row_indexer,col_indexer] = value instead\n",
      "\n",
      "See the caveats in the documentation: https://pandas.pydata.org/pandas-docs/stable/user_guide/indexing.html#returning-a-view-versus-a-copy\n",
      "  singel_Hotel_Reviews['days_since'] = (max_date - singel_Hotel_Reviews['date_object']).dt.days\n",
      "C:\\Users\\alan_\\AppData\\Local\\Temp\\ipykernel_31032\\1124407147.py:29: SettingWithCopyWarning: \n",
      "A value is trying to be set on a copy of a slice from a DataFrame.\n",
      "Try using .loc[row_indexer,col_indexer] = value instead\n",
      "\n",
      "See the caveats in the documentation: https://pandas.pydata.org/pandas-docs/stable/user_guide/indexing.html#returning-a-view-versus-a-copy\n",
      "  singel_Hotel_Reviews['weight'] = np.exp(-singel_Hotel_Reviews['days_since'] / (365 / 2.5))\n",
      "C:\\Users\\alan_\\AppData\\Local\\Temp\\ipykernel_31032\\1124407147.py:28: SettingWithCopyWarning: \n",
      "A value is trying to be set on a copy of a slice from a DataFrame.\n",
      "Try using .loc[row_indexer,col_indexer] = value instead\n",
      "\n",
      "See the caveats in the documentation: https://pandas.pydata.org/pandas-docs/stable/user_guide/indexing.html#returning-a-view-versus-a-copy\n",
      "  singel_Hotel_Reviews['days_since'] = (max_date - singel_Hotel_Reviews['date_object']).dt.days\n",
      "C:\\Users\\alan_\\AppData\\Local\\Temp\\ipykernel_31032\\1124407147.py:29: SettingWithCopyWarning: \n",
      "A value is trying to be set on a copy of a slice from a DataFrame.\n",
      "Try using .loc[row_indexer,col_indexer] = value instead\n",
      "\n",
      "See the caveats in the documentation: https://pandas.pydata.org/pandas-docs/stable/user_guide/indexing.html#returning-a-view-versus-a-copy\n",
      "  singel_Hotel_Reviews['weight'] = np.exp(-singel_Hotel_Reviews['days_since'] / (365 / 2.5))\n",
      "C:\\Users\\alan_\\AppData\\Local\\Temp\\ipykernel_31032\\1124407147.py:28: SettingWithCopyWarning: \n",
      "A value is trying to be set on a copy of a slice from a DataFrame.\n",
      "Try using .loc[row_indexer,col_indexer] = value instead\n",
      "\n",
      "See the caveats in the documentation: https://pandas.pydata.org/pandas-docs/stable/user_guide/indexing.html#returning-a-view-versus-a-copy\n",
      "  singel_Hotel_Reviews['days_since'] = (max_date - singel_Hotel_Reviews['date_object']).dt.days\n",
      "C:\\Users\\alan_\\AppData\\Local\\Temp\\ipykernel_31032\\1124407147.py:29: SettingWithCopyWarning: \n",
      "A value is trying to be set on a copy of a slice from a DataFrame.\n",
      "Try using .loc[row_indexer,col_indexer] = value instead\n",
      "\n",
      "See the caveats in the documentation: https://pandas.pydata.org/pandas-docs/stable/user_guide/indexing.html#returning-a-view-versus-a-copy\n",
      "  singel_Hotel_Reviews['weight'] = np.exp(-singel_Hotel_Reviews['days_since'] / (365 / 2.5))\n",
      "C:\\Users\\alan_\\AppData\\Local\\Temp\\ipykernel_31032\\1124407147.py:28: SettingWithCopyWarning: \n",
      "A value is trying to be set on a copy of a slice from a DataFrame.\n",
      "Try using .loc[row_indexer,col_indexer] = value instead\n",
      "\n",
      "See the caveats in the documentation: https://pandas.pydata.org/pandas-docs/stable/user_guide/indexing.html#returning-a-view-versus-a-copy\n",
      "  singel_Hotel_Reviews['days_since'] = (max_date - singel_Hotel_Reviews['date_object']).dt.days\n",
      "C:\\Users\\alan_\\AppData\\Local\\Temp\\ipykernel_31032\\1124407147.py:29: SettingWithCopyWarning: \n",
      "A value is trying to be set on a copy of a slice from a DataFrame.\n",
      "Try using .loc[row_indexer,col_indexer] = value instead\n",
      "\n",
      "See the caveats in the documentation: https://pandas.pydata.org/pandas-docs/stable/user_guide/indexing.html#returning-a-view-versus-a-copy\n",
      "  singel_Hotel_Reviews['weight'] = np.exp(-singel_Hotel_Reviews['days_since'] / (365 / 2.5))\n",
      "C:\\Users\\alan_\\AppData\\Local\\Temp\\ipykernel_31032\\1124407147.py:28: SettingWithCopyWarning: \n",
      "A value is trying to be set on a copy of a slice from a DataFrame.\n",
      "Try using .loc[row_indexer,col_indexer] = value instead\n",
      "\n",
      "See the caveats in the documentation: https://pandas.pydata.org/pandas-docs/stable/user_guide/indexing.html#returning-a-view-versus-a-copy\n",
      "  singel_Hotel_Reviews['days_since'] = (max_date - singel_Hotel_Reviews['date_object']).dt.days\n",
      "C:\\Users\\alan_\\AppData\\Local\\Temp\\ipykernel_31032\\1124407147.py:29: SettingWithCopyWarning: \n",
      "A value is trying to be set on a copy of a slice from a DataFrame.\n",
      "Try using .loc[row_indexer,col_indexer] = value instead\n",
      "\n",
      "See the caveats in the documentation: https://pandas.pydata.org/pandas-docs/stable/user_guide/indexing.html#returning-a-view-versus-a-copy\n",
      "  singel_Hotel_Reviews['weight'] = np.exp(-singel_Hotel_Reviews['days_since'] / (365 / 2.5))\n",
      "C:\\Users\\alan_\\AppData\\Local\\Temp\\ipykernel_31032\\1124407147.py:28: SettingWithCopyWarning: \n",
      "A value is trying to be set on a copy of a slice from a DataFrame.\n",
      "Try using .loc[row_indexer,col_indexer] = value instead\n",
      "\n",
      "See the caveats in the documentation: https://pandas.pydata.org/pandas-docs/stable/user_guide/indexing.html#returning-a-view-versus-a-copy\n",
      "  singel_Hotel_Reviews['days_since'] = (max_date - singel_Hotel_Reviews['date_object']).dt.days\n",
      "C:\\Users\\alan_\\AppData\\Local\\Temp\\ipykernel_31032\\1124407147.py:29: SettingWithCopyWarning: \n",
      "A value is trying to be set on a copy of a slice from a DataFrame.\n",
      "Try using .loc[row_indexer,col_indexer] = value instead\n",
      "\n",
      "See the caveats in the documentation: https://pandas.pydata.org/pandas-docs/stable/user_guide/indexing.html#returning-a-view-versus-a-copy\n",
      "  singel_Hotel_Reviews['weight'] = np.exp(-singel_Hotel_Reviews['days_since'] / (365 / 2.5))\n",
      "C:\\Users\\alan_\\AppData\\Local\\Temp\\ipykernel_31032\\1124407147.py:28: SettingWithCopyWarning: \n",
      "A value is trying to be set on a copy of a slice from a DataFrame.\n",
      "Try using .loc[row_indexer,col_indexer] = value instead\n",
      "\n",
      "See the caveats in the documentation: https://pandas.pydata.org/pandas-docs/stable/user_guide/indexing.html#returning-a-view-versus-a-copy\n",
      "  singel_Hotel_Reviews['days_since'] = (max_date - singel_Hotel_Reviews['date_object']).dt.days\n",
      "C:\\Users\\alan_\\AppData\\Local\\Temp\\ipykernel_31032\\1124407147.py:29: SettingWithCopyWarning: \n",
      "A value is trying to be set on a copy of a slice from a DataFrame.\n",
      "Try using .loc[row_indexer,col_indexer] = value instead\n",
      "\n",
      "See the caveats in the documentation: https://pandas.pydata.org/pandas-docs/stable/user_guide/indexing.html#returning-a-view-versus-a-copy\n",
      "  singel_Hotel_Reviews['weight'] = np.exp(-singel_Hotel_Reviews['days_since'] / (365 / 2.5))\n",
      "C:\\Users\\alan_\\AppData\\Local\\Temp\\ipykernel_31032\\1124407147.py:28: SettingWithCopyWarning: \n",
      "A value is trying to be set on a copy of a slice from a DataFrame.\n",
      "Try using .loc[row_indexer,col_indexer] = value instead\n",
      "\n",
      "See the caveats in the documentation: https://pandas.pydata.org/pandas-docs/stable/user_guide/indexing.html#returning-a-view-versus-a-copy\n",
      "  singel_Hotel_Reviews['days_since'] = (max_date - singel_Hotel_Reviews['date_object']).dt.days\n",
      "C:\\Users\\alan_\\AppData\\Local\\Temp\\ipykernel_31032\\1124407147.py:29: SettingWithCopyWarning: \n",
      "A value is trying to be set on a copy of a slice from a DataFrame.\n",
      "Try using .loc[row_indexer,col_indexer] = value instead\n",
      "\n",
      "See the caveats in the documentation: https://pandas.pydata.org/pandas-docs/stable/user_guide/indexing.html#returning-a-view-versus-a-copy\n",
      "  singel_Hotel_Reviews['weight'] = np.exp(-singel_Hotel_Reviews['days_since'] / (365 / 2.5))\n",
      "C:\\Users\\alan_\\AppData\\Local\\Temp\\ipykernel_31032\\1124407147.py:28: SettingWithCopyWarning: \n",
      "A value is trying to be set on a copy of a slice from a DataFrame.\n",
      "Try using .loc[row_indexer,col_indexer] = value instead\n",
      "\n",
      "See the caveats in the documentation: https://pandas.pydata.org/pandas-docs/stable/user_guide/indexing.html#returning-a-view-versus-a-copy\n",
      "  singel_Hotel_Reviews['days_since'] = (max_date - singel_Hotel_Reviews['date_object']).dt.days\n",
      "C:\\Users\\alan_\\AppData\\Local\\Temp\\ipykernel_31032\\1124407147.py:29: SettingWithCopyWarning: \n",
      "A value is trying to be set on a copy of a slice from a DataFrame.\n",
      "Try using .loc[row_indexer,col_indexer] = value instead\n",
      "\n",
      "See the caveats in the documentation: https://pandas.pydata.org/pandas-docs/stable/user_guide/indexing.html#returning-a-view-versus-a-copy\n",
      "  singel_Hotel_Reviews['weight'] = np.exp(-singel_Hotel_Reviews['days_since'] / (365 / 2.5))\n",
      "C:\\Users\\alan_\\AppData\\Local\\Temp\\ipykernel_31032\\1124407147.py:28: SettingWithCopyWarning: \n",
      "A value is trying to be set on a copy of a slice from a DataFrame.\n",
      "Try using .loc[row_indexer,col_indexer] = value instead\n",
      "\n",
      "See the caveats in the documentation: https://pandas.pydata.org/pandas-docs/stable/user_guide/indexing.html#returning-a-view-versus-a-copy\n",
      "  singel_Hotel_Reviews['days_since'] = (max_date - singel_Hotel_Reviews['date_object']).dt.days\n",
      "C:\\Users\\alan_\\AppData\\Local\\Temp\\ipykernel_31032\\1124407147.py:29: SettingWithCopyWarning: \n",
      "A value is trying to be set on a copy of a slice from a DataFrame.\n",
      "Try using .loc[row_indexer,col_indexer] = value instead\n",
      "\n",
      "See the caveats in the documentation: https://pandas.pydata.org/pandas-docs/stable/user_guide/indexing.html#returning-a-view-versus-a-copy\n",
      "  singel_Hotel_Reviews['weight'] = np.exp(-singel_Hotel_Reviews['days_since'] / (365 / 2.5))\n",
      "C:\\Users\\alan_\\AppData\\Local\\Temp\\ipykernel_31032\\1124407147.py:28: SettingWithCopyWarning: \n",
      "A value is trying to be set on a copy of a slice from a DataFrame.\n",
      "Try using .loc[row_indexer,col_indexer] = value instead\n",
      "\n",
      "See the caveats in the documentation: https://pandas.pydata.org/pandas-docs/stable/user_guide/indexing.html#returning-a-view-versus-a-copy\n",
      "  singel_Hotel_Reviews['days_since'] = (max_date - singel_Hotel_Reviews['date_object']).dt.days\n",
      "C:\\Users\\alan_\\AppData\\Local\\Temp\\ipykernel_31032\\1124407147.py:29: SettingWithCopyWarning: \n",
      "A value is trying to be set on a copy of a slice from a DataFrame.\n",
      "Try using .loc[row_indexer,col_indexer] = value instead\n",
      "\n",
      "See the caveats in the documentation: https://pandas.pydata.org/pandas-docs/stable/user_guide/indexing.html#returning-a-view-versus-a-copy\n",
      "  singel_Hotel_Reviews['weight'] = np.exp(-singel_Hotel_Reviews['days_since'] / (365 / 2.5))\n",
      "C:\\Users\\alan_\\AppData\\Local\\Temp\\ipykernel_31032\\1124407147.py:28: SettingWithCopyWarning: \n",
      "A value is trying to be set on a copy of a slice from a DataFrame.\n",
      "Try using .loc[row_indexer,col_indexer] = value instead\n",
      "\n",
      "See the caveats in the documentation: https://pandas.pydata.org/pandas-docs/stable/user_guide/indexing.html#returning-a-view-versus-a-copy\n",
      "  singel_Hotel_Reviews['days_since'] = (max_date - singel_Hotel_Reviews['date_object']).dt.days\n",
      "C:\\Users\\alan_\\AppData\\Local\\Temp\\ipykernel_31032\\1124407147.py:29: SettingWithCopyWarning: \n",
      "A value is trying to be set on a copy of a slice from a DataFrame.\n",
      "Try using .loc[row_indexer,col_indexer] = value instead\n",
      "\n",
      "See the caveats in the documentation: https://pandas.pydata.org/pandas-docs/stable/user_guide/indexing.html#returning-a-view-versus-a-copy\n",
      "  singel_Hotel_Reviews['weight'] = np.exp(-singel_Hotel_Reviews['days_since'] / (365 / 2.5))\n",
      "C:\\Users\\alan_\\AppData\\Local\\Temp\\ipykernel_31032\\1124407147.py:28: SettingWithCopyWarning: \n",
      "A value is trying to be set on a copy of a slice from a DataFrame.\n",
      "Try using .loc[row_indexer,col_indexer] = value instead\n",
      "\n",
      "See the caveats in the documentation: https://pandas.pydata.org/pandas-docs/stable/user_guide/indexing.html#returning-a-view-versus-a-copy\n",
      "  singel_Hotel_Reviews['days_since'] = (max_date - singel_Hotel_Reviews['date_object']).dt.days\n",
      "C:\\Users\\alan_\\AppData\\Local\\Temp\\ipykernel_31032\\1124407147.py:29: SettingWithCopyWarning: \n",
      "A value is trying to be set on a copy of a slice from a DataFrame.\n",
      "Try using .loc[row_indexer,col_indexer] = value instead\n",
      "\n",
      "See the caveats in the documentation: https://pandas.pydata.org/pandas-docs/stable/user_guide/indexing.html#returning-a-view-versus-a-copy\n",
      "  singel_Hotel_Reviews['weight'] = np.exp(-singel_Hotel_Reviews['days_since'] / (365 / 2.5))\n",
      "C:\\Users\\alan_\\AppData\\Local\\Temp\\ipykernel_31032\\1124407147.py:28: SettingWithCopyWarning: \n",
      "A value is trying to be set on a copy of a slice from a DataFrame.\n",
      "Try using .loc[row_indexer,col_indexer] = value instead\n",
      "\n",
      "See the caveats in the documentation: https://pandas.pydata.org/pandas-docs/stable/user_guide/indexing.html#returning-a-view-versus-a-copy\n",
      "  singel_Hotel_Reviews['days_since'] = (max_date - singel_Hotel_Reviews['date_object']).dt.days\n",
      "C:\\Users\\alan_\\AppData\\Local\\Temp\\ipykernel_31032\\1124407147.py:29: SettingWithCopyWarning: \n",
      "A value is trying to be set on a copy of a slice from a DataFrame.\n",
      "Try using .loc[row_indexer,col_indexer] = value instead\n",
      "\n",
      "See the caveats in the documentation: https://pandas.pydata.org/pandas-docs/stable/user_guide/indexing.html#returning-a-view-versus-a-copy\n",
      "  singel_Hotel_Reviews['weight'] = np.exp(-singel_Hotel_Reviews['days_since'] / (365 / 2.5))\n",
      "C:\\Users\\alan_\\AppData\\Local\\Temp\\ipykernel_31032\\1124407147.py:28: SettingWithCopyWarning: \n",
      "A value is trying to be set on a copy of a slice from a DataFrame.\n",
      "Try using .loc[row_indexer,col_indexer] = value instead\n",
      "\n",
      "See the caveats in the documentation: https://pandas.pydata.org/pandas-docs/stable/user_guide/indexing.html#returning-a-view-versus-a-copy\n",
      "  singel_Hotel_Reviews['days_since'] = (max_date - singel_Hotel_Reviews['date_object']).dt.days\n",
      "C:\\Users\\alan_\\AppData\\Local\\Temp\\ipykernel_31032\\1124407147.py:29: SettingWithCopyWarning: \n",
      "A value is trying to be set on a copy of a slice from a DataFrame.\n",
      "Try using .loc[row_indexer,col_indexer] = value instead\n",
      "\n",
      "See the caveats in the documentation: https://pandas.pydata.org/pandas-docs/stable/user_guide/indexing.html#returning-a-view-versus-a-copy\n",
      "  singel_Hotel_Reviews['weight'] = np.exp(-singel_Hotel_Reviews['days_since'] / (365 / 2.5))\n",
      "C:\\Users\\alan_\\AppData\\Local\\Temp\\ipykernel_31032\\1124407147.py:28: SettingWithCopyWarning: \n",
      "A value is trying to be set on a copy of a slice from a DataFrame.\n",
      "Try using .loc[row_indexer,col_indexer] = value instead\n",
      "\n",
      "See the caveats in the documentation: https://pandas.pydata.org/pandas-docs/stable/user_guide/indexing.html#returning-a-view-versus-a-copy\n",
      "  singel_Hotel_Reviews['days_since'] = (max_date - singel_Hotel_Reviews['date_object']).dt.days\n",
      "C:\\Users\\alan_\\AppData\\Local\\Temp\\ipykernel_31032\\1124407147.py:29: SettingWithCopyWarning: \n",
      "A value is trying to be set on a copy of a slice from a DataFrame.\n",
      "Try using .loc[row_indexer,col_indexer] = value instead\n",
      "\n",
      "See the caveats in the documentation: https://pandas.pydata.org/pandas-docs/stable/user_guide/indexing.html#returning-a-view-versus-a-copy\n",
      "  singel_Hotel_Reviews['weight'] = np.exp(-singel_Hotel_Reviews['days_since'] / (365 / 2.5))\n",
      "C:\\Users\\alan_\\AppData\\Local\\Temp\\ipykernel_31032\\1124407147.py:28: SettingWithCopyWarning: \n",
      "A value is trying to be set on a copy of a slice from a DataFrame.\n",
      "Try using .loc[row_indexer,col_indexer] = value instead\n",
      "\n",
      "See the caveats in the documentation: https://pandas.pydata.org/pandas-docs/stable/user_guide/indexing.html#returning-a-view-versus-a-copy\n",
      "  singel_Hotel_Reviews['days_since'] = (max_date - singel_Hotel_Reviews['date_object']).dt.days\n",
      "C:\\Users\\alan_\\AppData\\Local\\Temp\\ipykernel_31032\\1124407147.py:29: SettingWithCopyWarning: \n",
      "A value is trying to be set on a copy of a slice from a DataFrame.\n",
      "Try using .loc[row_indexer,col_indexer] = value instead\n",
      "\n",
      "See the caveats in the documentation: https://pandas.pydata.org/pandas-docs/stable/user_guide/indexing.html#returning-a-view-versus-a-copy\n",
      "  singel_Hotel_Reviews['weight'] = np.exp(-singel_Hotel_Reviews['days_since'] / (365 / 2.5))\n",
      "C:\\Users\\alan_\\AppData\\Local\\Temp\\ipykernel_31032\\1124407147.py:28: SettingWithCopyWarning: \n",
      "A value is trying to be set on a copy of a slice from a DataFrame.\n",
      "Try using .loc[row_indexer,col_indexer] = value instead\n",
      "\n",
      "See the caveats in the documentation: https://pandas.pydata.org/pandas-docs/stable/user_guide/indexing.html#returning-a-view-versus-a-copy\n",
      "  singel_Hotel_Reviews['days_since'] = (max_date - singel_Hotel_Reviews['date_object']).dt.days\n",
      "C:\\Users\\alan_\\AppData\\Local\\Temp\\ipykernel_31032\\1124407147.py:29: SettingWithCopyWarning: \n",
      "A value is trying to be set on a copy of a slice from a DataFrame.\n",
      "Try using .loc[row_indexer,col_indexer] = value instead\n",
      "\n",
      "See the caveats in the documentation: https://pandas.pydata.org/pandas-docs/stable/user_guide/indexing.html#returning-a-view-versus-a-copy\n",
      "  singel_Hotel_Reviews['weight'] = np.exp(-singel_Hotel_Reviews['days_since'] / (365 / 2.5))\n",
      "C:\\Users\\alan_\\AppData\\Local\\Temp\\ipykernel_31032\\1124407147.py:28: SettingWithCopyWarning: \n",
      "A value is trying to be set on a copy of a slice from a DataFrame.\n",
      "Try using .loc[row_indexer,col_indexer] = value instead\n",
      "\n",
      "See the caveats in the documentation: https://pandas.pydata.org/pandas-docs/stable/user_guide/indexing.html#returning-a-view-versus-a-copy\n",
      "  singel_Hotel_Reviews['days_since'] = (max_date - singel_Hotel_Reviews['date_object']).dt.days\n",
      "C:\\Users\\alan_\\AppData\\Local\\Temp\\ipykernel_31032\\1124407147.py:29: SettingWithCopyWarning: \n",
      "A value is trying to be set on a copy of a slice from a DataFrame.\n",
      "Try using .loc[row_indexer,col_indexer] = value instead\n",
      "\n",
      "See the caveats in the documentation: https://pandas.pydata.org/pandas-docs/stable/user_guide/indexing.html#returning-a-view-versus-a-copy\n",
      "  singel_Hotel_Reviews['weight'] = np.exp(-singel_Hotel_Reviews['days_since'] / (365 / 2.5))\n",
      "C:\\Users\\alan_\\AppData\\Local\\Temp\\ipykernel_31032\\1124407147.py:28: SettingWithCopyWarning: \n",
      "A value is trying to be set on a copy of a slice from a DataFrame.\n",
      "Try using .loc[row_indexer,col_indexer] = value instead\n",
      "\n",
      "See the caveats in the documentation: https://pandas.pydata.org/pandas-docs/stable/user_guide/indexing.html#returning-a-view-versus-a-copy\n",
      "  singel_Hotel_Reviews['days_since'] = (max_date - singel_Hotel_Reviews['date_object']).dt.days\n",
      "C:\\Users\\alan_\\AppData\\Local\\Temp\\ipykernel_31032\\1124407147.py:29: SettingWithCopyWarning: \n",
      "A value is trying to be set on a copy of a slice from a DataFrame.\n",
      "Try using .loc[row_indexer,col_indexer] = value instead\n",
      "\n",
      "See the caveats in the documentation: https://pandas.pydata.org/pandas-docs/stable/user_guide/indexing.html#returning-a-view-versus-a-copy\n",
      "  singel_Hotel_Reviews['weight'] = np.exp(-singel_Hotel_Reviews['days_since'] / (365 / 2.5))\n",
      "C:\\Users\\alan_\\AppData\\Local\\Temp\\ipykernel_31032\\1124407147.py:28: SettingWithCopyWarning: \n",
      "A value is trying to be set on a copy of a slice from a DataFrame.\n",
      "Try using .loc[row_indexer,col_indexer] = value instead\n",
      "\n",
      "See the caveats in the documentation: https://pandas.pydata.org/pandas-docs/stable/user_guide/indexing.html#returning-a-view-versus-a-copy\n",
      "  singel_Hotel_Reviews['days_since'] = (max_date - singel_Hotel_Reviews['date_object']).dt.days\n",
      "C:\\Users\\alan_\\AppData\\Local\\Temp\\ipykernel_31032\\1124407147.py:29: SettingWithCopyWarning: \n",
      "A value is trying to be set on a copy of a slice from a DataFrame.\n",
      "Try using .loc[row_indexer,col_indexer] = value instead\n",
      "\n",
      "See the caveats in the documentation: https://pandas.pydata.org/pandas-docs/stable/user_guide/indexing.html#returning-a-view-versus-a-copy\n",
      "  singel_Hotel_Reviews['weight'] = np.exp(-singel_Hotel_Reviews['days_since'] / (365 / 2.5))\n",
      "C:\\Users\\alan_\\AppData\\Local\\Temp\\ipykernel_31032\\1124407147.py:28: SettingWithCopyWarning: \n",
      "A value is trying to be set on a copy of a slice from a DataFrame.\n",
      "Try using .loc[row_indexer,col_indexer] = value instead\n",
      "\n",
      "See the caveats in the documentation: https://pandas.pydata.org/pandas-docs/stable/user_guide/indexing.html#returning-a-view-versus-a-copy\n",
      "  singel_Hotel_Reviews['days_since'] = (max_date - singel_Hotel_Reviews['date_object']).dt.days\n",
      "C:\\Users\\alan_\\AppData\\Local\\Temp\\ipykernel_31032\\1124407147.py:29: SettingWithCopyWarning: \n",
      "A value is trying to be set on a copy of a slice from a DataFrame.\n",
      "Try using .loc[row_indexer,col_indexer] = value instead\n",
      "\n",
      "See the caveats in the documentation: https://pandas.pydata.org/pandas-docs/stable/user_guide/indexing.html#returning-a-view-versus-a-copy\n",
      "  singel_Hotel_Reviews['weight'] = np.exp(-singel_Hotel_Reviews['days_since'] / (365 / 2.5))\n",
      "C:\\Users\\alan_\\AppData\\Local\\Temp\\ipykernel_31032\\1124407147.py:28: SettingWithCopyWarning: \n",
      "A value is trying to be set on a copy of a slice from a DataFrame.\n",
      "Try using .loc[row_indexer,col_indexer] = value instead\n",
      "\n",
      "See the caveats in the documentation: https://pandas.pydata.org/pandas-docs/stable/user_guide/indexing.html#returning-a-view-versus-a-copy\n",
      "  singel_Hotel_Reviews['days_since'] = (max_date - singel_Hotel_Reviews['date_object']).dt.days\n",
      "C:\\Users\\alan_\\AppData\\Local\\Temp\\ipykernel_31032\\1124407147.py:29: SettingWithCopyWarning: \n",
      "A value is trying to be set on a copy of a slice from a DataFrame.\n",
      "Try using .loc[row_indexer,col_indexer] = value instead\n",
      "\n",
      "See the caveats in the documentation: https://pandas.pydata.org/pandas-docs/stable/user_guide/indexing.html#returning-a-view-versus-a-copy\n",
      "  singel_Hotel_Reviews['weight'] = np.exp(-singel_Hotel_Reviews['days_since'] / (365 / 2.5))\n",
      "C:\\Users\\alan_\\AppData\\Local\\Temp\\ipykernel_31032\\1124407147.py:28: SettingWithCopyWarning: \n",
      "A value is trying to be set on a copy of a slice from a DataFrame.\n",
      "Try using .loc[row_indexer,col_indexer] = value instead\n",
      "\n",
      "See the caveats in the documentation: https://pandas.pydata.org/pandas-docs/stable/user_guide/indexing.html#returning-a-view-versus-a-copy\n",
      "  singel_Hotel_Reviews['days_since'] = (max_date - singel_Hotel_Reviews['date_object']).dt.days\n",
      "C:\\Users\\alan_\\AppData\\Local\\Temp\\ipykernel_31032\\1124407147.py:29: SettingWithCopyWarning: \n",
      "A value is trying to be set on a copy of a slice from a DataFrame.\n",
      "Try using .loc[row_indexer,col_indexer] = value instead\n",
      "\n",
      "See the caveats in the documentation: https://pandas.pydata.org/pandas-docs/stable/user_guide/indexing.html#returning-a-view-versus-a-copy\n",
      "  singel_Hotel_Reviews['weight'] = np.exp(-singel_Hotel_Reviews['days_since'] / (365 / 2.5))\n",
      "C:\\Users\\alan_\\AppData\\Local\\Temp\\ipykernel_31032\\1124407147.py:28: SettingWithCopyWarning: \n",
      "A value is trying to be set on a copy of a slice from a DataFrame.\n",
      "Try using .loc[row_indexer,col_indexer] = value instead\n",
      "\n",
      "See the caveats in the documentation: https://pandas.pydata.org/pandas-docs/stable/user_guide/indexing.html#returning-a-view-versus-a-copy\n",
      "  singel_Hotel_Reviews['days_since'] = (max_date - singel_Hotel_Reviews['date_object']).dt.days\n",
      "C:\\Users\\alan_\\AppData\\Local\\Temp\\ipykernel_31032\\1124407147.py:29: SettingWithCopyWarning: \n",
      "A value is trying to be set on a copy of a slice from a DataFrame.\n",
      "Try using .loc[row_indexer,col_indexer] = value instead\n",
      "\n",
      "See the caveats in the documentation: https://pandas.pydata.org/pandas-docs/stable/user_guide/indexing.html#returning-a-view-versus-a-copy\n",
      "  singel_Hotel_Reviews['weight'] = np.exp(-singel_Hotel_Reviews['days_since'] / (365 / 2.5))\n",
      "C:\\Users\\alan_\\AppData\\Local\\Temp\\ipykernel_31032\\1124407147.py:28: SettingWithCopyWarning: \n",
      "A value is trying to be set on a copy of a slice from a DataFrame.\n",
      "Try using .loc[row_indexer,col_indexer] = value instead\n",
      "\n",
      "See the caveats in the documentation: https://pandas.pydata.org/pandas-docs/stable/user_guide/indexing.html#returning-a-view-versus-a-copy\n",
      "  singel_Hotel_Reviews['days_since'] = (max_date - singel_Hotel_Reviews['date_object']).dt.days\n",
      "C:\\Users\\alan_\\AppData\\Local\\Temp\\ipykernel_31032\\1124407147.py:29: SettingWithCopyWarning: \n",
      "A value is trying to be set on a copy of a slice from a DataFrame.\n",
      "Try using .loc[row_indexer,col_indexer] = value instead\n",
      "\n",
      "See the caveats in the documentation: https://pandas.pydata.org/pandas-docs/stable/user_guide/indexing.html#returning-a-view-versus-a-copy\n",
      "  singel_Hotel_Reviews['weight'] = np.exp(-singel_Hotel_Reviews['days_since'] / (365 / 2.5))\n",
      "C:\\Users\\alan_\\AppData\\Local\\Temp\\ipykernel_31032\\1124407147.py:28: SettingWithCopyWarning: \n",
      "A value is trying to be set on a copy of a slice from a DataFrame.\n",
      "Try using .loc[row_indexer,col_indexer] = value instead\n",
      "\n",
      "See the caveats in the documentation: https://pandas.pydata.org/pandas-docs/stable/user_guide/indexing.html#returning-a-view-versus-a-copy\n",
      "  singel_Hotel_Reviews['days_since'] = (max_date - singel_Hotel_Reviews['date_object']).dt.days\n",
      "C:\\Users\\alan_\\AppData\\Local\\Temp\\ipykernel_31032\\1124407147.py:29: SettingWithCopyWarning: \n",
      "A value is trying to be set on a copy of a slice from a DataFrame.\n",
      "Try using .loc[row_indexer,col_indexer] = value instead\n",
      "\n",
      "See the caveats in the documentation: https://pandas.pydata.org/pandas-docs/stable/user_guide/indexing.html#returning-a-view-versus-a-copy\n",
      "  singel_Hotel_Reviews['weight'] = np.exp(-singel_Hotel_Reviews['days_since'] / (365 / 2.5))\n",
      "C:\\Users\\alan_\\AppData\\Local\\Temp\\ipykernel_31032\\1124407147.py:28: SettingWithCopyWarning: \n",
      "A value is trying to be set on a copy of a slice from a DataFrame.\n",
      "Try using .loc[row_indexer,col_indexer] = value instead\n",
      "\n",
      "See the caveats in the documentation: https://pandas.pydata.org/pandas-docs/stable/user_guide/indexing.html#returning-a-view-versus-a-copy\n",
      "  singel_Hotel_Reviews['days_since'] = (max_date - singel_Hotel_Reviews['date_object']).dt.days\n",
      "C:\\Users\\alan_\\AppData\\Local\\Temp\\ipykernel_31032\\1124407147.py:29: SettingWithCopyWarning: \n",
      "A value is trying to be set on a copy of a slice from a DataFrame.\n",
      "Try using .loc[row_indexer,col_indexer] = value instead\n",
      "\n",
      "See the caveats in the documentation: https://pandas.pydata.org/pandas-docs/stable/user_guide/indexing.html#returning-a-view-versus-a-copy\n",
      "  singel_Hotel_Reviews['weight'] = np.exp(-singel_Hotel_Reviews['days_since'] / (365 / 2.5))\n",
      "C:\\Users\\alan_\\AppData\\Local\\Temp\\ipykernel_31032\\1124407147.py:28: SettingWithCopyWarning: \n",
      "A value is trying to be set on a copy of a slice from a DataFrame.\n",
      "Try using .loc[row_indexer,col_indexer] = value instead\n",
      "\n",
      "See the caveats in the documentation: https://pandas.pydata.org/pandas-docs/stable/user_guide/indexing.html#returning-a-view-versus-a-copy\n",
      "  singel_Hotel_Reviews['days_since'] = (max_date - singel_Hotel_Reviews['date_object']).dt.days\n",
      "C:\\Users\\alan_\\AppData\\Local\\Temp\\ipykernel_31032\\1124407147.py:29: SettingWithCopyWarning: \n",
      "A value is trying to be set on a copy of a slice from a DataFrame.\n",
      "Try using .loc[row_indexer,col_indexer] = value instead\n",
      "\n",
      "See the caveats in the documentation: https://pandas.pydata.org/pandas-docs/stable/user_guide/indexing.html#returning-a-view-versus-a-copy\n",
      "  singel_Hotel_Reviews['weight'] = np.exp(-singel_Hotel_Reviews['days_since'] / (365 / 2.5))\n",
      "C:\\Users\\alan_\\AppData\\Local\\Temp\\ipykernel_31032\\1124407147.py:28: SettingWithCopyWarning: \n",
      "A value is trying to be set on a copy of a slice from a DataFrame.\n",
      "Try using .loc[row_indexer,col_indexer] = value instead\n",
      "\n",
      "See the caveats in the documentation: https://pandas.pydata.org/pandas-docs/stable/user_guide/indexing.html#returning-a-view-versus-a-copy\n",
      "  singel_Hotel_Reviews['days_since'] = (max_date - singel_Hotel_Reviews['date_object']).dt.days\n",
      "C:\\Users\\alan_\\AppData\\Local\\Temp\\ipykernel_31032\\1124407147.py:29: SettingWithCopyWarning: \n",
      "A value is trying to be set on a copy of a slice from a DataFrame.\n",
      "Try using .loc[row_indexer,col_indexer] = value instead\n",
      "\n",
      "See the caveats in the documentation: https://pandas.pydata.org/pandas-docs/stable/user_guide/indexing.html#returning-a-view-versus-a-copy\n",
      "  singel_Hotel_Reviews['weight'] = np.exp(-singel_Hotel_Reviews['days_since'] / (365 / 2.5))\n",
      "C:\\Users\\alan_\\AppData\\Local\\Temp\\ipykernel_31032\\1124407147.py:28: SettingWithCopyWarning: \n",
      "A value is trying to be set on a copy of a slice from a DataFrame.\n",
      "Try using .loc[row_indexer,col_indexer] = value instead\n",
      "\n",
      "See the caveats in the documentation: https://pandas.pydata.org/pandas-docs/stable/user_guide/indexing.html#returning-a-view-versus-a-copy\n",
      "  singel_Hotel_Reviews['days_since'] = (max_date - singel_Hotel_Reviews['date_object']).dt.days\n",
      "C:\\Users\\alan_\\AppData\\Local\\Temp\\ipykernel_31032\\1124407147.py:29: SettingWithCopyWarning: \n",
      "A value is trying to be set on a copy of a slice from a DataFrame.\n",
      "Try using .loc[row_indexer,col_indexer] = value instead\n",
      "\n",
      "See the caveats in the documentation: https://pandas.pydata.org/pandas-docs/stable/user_guide/indexing.html#returning-a-view-versus-a-copy\n",
      "  singel_Hotel_Reviews['weight'] = np.exp(-singel_Hotel_Reviews['days_since'] / (365 / 2.5))\n",
      "C:\\Users\\alan_\\AppData\\Local\\Temp\\ipykernel_31032\\1124407147.py:28: SettingWithCopyWarning: \n",
      "A value is trying to be set on a copy of a slice from a DataFrame.\n",
      "Try using .loc[row_indexer,col_indexer] = value instead\n",
      "\n",
      "See the caveats in the documentation: https://pandas.pydata.org/pandas-docs/stable/user_guide/indexing.html#returning-a-view-versus-a-copy\n",
      "  singel_Hotel_Reviews['days_since'] = (max_date - singel_Hotel_Reviews['date_object']).dt.days\n",
      "C:\\Users\\alan_\\AppData\\Local\\Temp\\ipykernel_31032\\1124407147.py:29: SettingWithCopyWarning: \n",
      "A value is trying to be set on a copy of a slice from a DataFrame.\n",
      "Try using .loc[row_indexer,col_indexer] = value instead\n",
      "\n",
      "See the caveats in the documentation: https://pandas.pydata.org/pandas-docs/stable/user_guide/indexing.html#returning-a-view-versus-a-copy\n",
      "  singel_Hotel_Reviews['weight'] = np.exp(-singel_Hotel_Reviews['days_since'] / (365 / 2.5))\n",
      "C:\\Users\\alan_\\AppData\\Local\\Temp\\ipykernel_31032\\1124407147.py:28: SettingWithCopyWarning: \n",
      "A value is trying to be set on a copy of a slice from a DataFrame.\n",
      "Try using .loc[row_indexer,col_indexer] = value instead\n",
      "\n",
      "See the caveats in the documentation: https://pandas.pydata.org/pandas-docs/stable/user_guide/indexing.html#returning-a-view-versus-a-copy\n",
      "  singel_Hotel_Reviews['days_since'] = (max_date - singel_Hotel_Reviews['date_object']).dt.days\n",
      "C:\\Users\\alan_\\AppData\\Local\\Temp\\ipykernel_31032\\1124407147.py:29: SettingWithCopyWarning: \n",
      "A value is trying to be set on a copy of a slice from a DataFrame.\n",
      "Try using .loc[row_indexer,col_indexer] = value instead\n",
      "\n",
      "See the caveats in the documentation: https://pandas.pydata.org/pandas-docs/stable/user_guide/indexing.html#returning-a-view-versus-a-copy\n",
      "  singel_Hotel_Reviews['weight'] = np.exp(-singel_Hotel_Reviews['days_since'] / (365 / 2.5))\n",
      "C:\\Users\\alan_\\AppData\\Local\\Temp\\ipykernel_31032\\1124407147.py:28: SettingWithCopyWarning: \n",
      "A value is trying to be set on a copy of a slice from a DataFrame.\n",
      "Try using .loc[row_indexer,col_indexer] = value instead\n",
      "\n",
      "See the caveats in the documentation: https://pandas.pydata.org/pandas-docs/stable/user_guide/indexing.html#returning-a-view-versus-a-copy\n",
      "  singel_Hotel_Reviews['days_since'] = (max_date - singel_Hotel_Reviews['date_object']).dt.days\n",
      "C:\\Users\\alan_\\AppData\\Local\\Temp\\ipykernel_31032\\1124407147.py:29: SettingWithCopyWarning: \n",
      "A value is trying to be set on a copy of a slice from a DataFrame.\n",
      "Try using .loc[row_indexer,col_indexer] = value instead\n",
      "\n",
      "See the caveats in the documentation: https://pandas.pydata.org/pandas-docs/stable/user_guide/indexing.html#returning-a-view-versus-a-copy\n",
      "  singel_Hotel_Reviews['weight'] = np.exp(-singel_Hotel_Reviews['days_since'] / (365 / 2.5))\n",
      "C:\\Users\\alan_\\AppData\\Local\\Temp\\ipykernel_31032\\1124407147.py:28: SettingWithCopyWarning: \n",
      "A value is trying to be set on a copy of a slice from a DataFrame.\n",
      "Try using .loc[row_indexer,col_indexer] = value instead\n",
      "\n",
      "See the caveats in the documentation: https://pandas.pydata.org/pandas-docs/stable/user_guide/indexing.html#returning-a-view-versus-a-copy\n",
      "  singel_Hotel_Reviews['days_since'] = (max_date - singel_Hotel_Reviews['date_object']).dt.days\n",
      "C:\\Users\\alan_\\AppData\\Local\\Temp\\ipykernel_31032\\1124407147.py:29: SettingWithCopyWarning: \n",
      "A value is trying to be set on a copy of a slice from a DataFrame.\n",
      "Try using .loc[row_indexer,col_indexer] = value instead\n",
      "\n",
      "See the caveats in the documentation: https://pandas.pydata.org/pandas-docs/stable/user_guide/indexing.html#returning-a-view-versus-a-copy\n",
      "  singel_Hotel_Reviews['weight'] = np.exp(-singel_Hotel_Reviews['days_since'] / (365 / 2.5))\n",
      "C:\\Users\\alan_\\AppData\\Local\\Temp\\ipykernel_31032\\1124407147.py:28: SettingWithCopyWarning: \n",
      "A value is trying to be set on a copy of a slice from a DataFrame.\n",
      "Try using .loc[row_indexer,col_indexer] = value instead\n",
      "\n",
      "See the caveats in the documentation: https://pandas.pydata.org/pandas-docs/stable/user_guide/indexing.html#returning-a-view-versus-a-copy\n",
      "  singel_Hotel_Reviews['days_since'] = (max_date - singel_Hotel_Reviews['date_object']).dt.days\n",
      "C:\\Users\\alan_\\AppData\\Local\\Temp\\ipykernel_31032\\1124407147.py:29: SettingWithCopyWarning: \n",
      "A value is trying to be set on a copy of a slice from a DataFrame.\n",
      "Try using .loc[row_indexer,col_indexer] = value instead\n",
      "\n",
      "See the caveats in the documentation: https://pandas.pydata.org/pandas-docs/stable/user_guide/indexing.html#returning-a-view-versus-a-copy\n",
      "  singel_Hotel_Reviews['weight'] = np.exp(-singel_Hotel_Reviews['days_since'] / (365 / 2.5))\n",
      "C:\\Users\\alan_\\AppData\\Local\\Temp\\ipykernel_31032\\1124407147.py:28: SettingWithCopyWarning: \n",
      "A value is trying to be set on a copy of a slice from a DataFrame.\n",
      "Try using .loc[row_indexer,col_indexer] = value instead\n",
      "\n",
      "See the caveats in the documentation: https://pandas.pydata.org/pandas-docs/stable/user_guide/indexing.html#returning-a-view-versus-a-copy\n",
      "  singel_Hotel_Reviews['days_since'] = (max_date - singel_Hotel_Reviews['date_object']).dt.days\n",
      "C:\\Users\\alan_\\AppData\\Local\\Temp\\ipykernel_31032\\1124407147.py:29: SettingWithCopyWarning: \n",
      "A value is trying to be set on a copy of a slice from a DataFrame.\n",
      "Try using .loc[row_indexer,col_indexer] = value instead\n",
      "\n",
      "See the caveats in the documentation: https://pandas.pydata.org/pandas-docs/stable/user_guide/indexing.html#returning-a-view-versus-a-copy\n",
      "  singel_Hotel_Reviews['weight'] = np.exp(-singel_Hotel_Reviews['days_since'] / (365 / 2.5))\n",
      "C:\\Users\\alan_\\AppData\\Local\\Temp\\ipykernel_31032\\1124407147.py:28: SettingWithCopyWarning: \n",
      "A value is trying to be set on a copy of a slice from a DataFrame.\n",
      "Try using .loc[row_indexer,col_indexer] = value instead\n",
      "\n",
      "See the caveats in the documentation: https://pandas.pydata.org/pandas-docs/stable/user_guide/indexing.html#returning-a-view-versus-a-copy\n",
      "  singel_Hotel_Reviews['days_since'] = (max_date - singel_Hotel_Reviews['date_object']).dt.days\n",
      "C:\\Users\\alan_\\AppData\\Local\\Temp\\ipykernel_31032\\1124407147.py:29: SettingWithCopyWarning: \n",
      "A value is trying to be set on a copy of a slice from a DataFrame.\n",
      "Try using .loc[row_indexer,col_indexer] = value instead\n",
      "\n",
      "See the caveats in the documentation: https://pandas.pydata.org/pandas-docs/stable/user_guide/indexing.html#returning-a-view-versus-a-copy\n",
      "  singel_Hotel_Reviews['weight'] = np.exp(-singel_Hotel_Reviews['days_since'] / (365 / 2.5))\n",
      "C:\\Users\\alan_\\AppData\\Local\\Temp\\ipykernel_31032\\1124407147.py:28: SettingWithCopyWarning: \n",
      "A value is trying to be set on a copy of a slice from a DataFrame.\n",
      "Try using .loc[row_indexer,col_indexer] = value instead\n",
      "\n",
      "See the caveats in the documentation: https://pandas.pydata.org/pandas-docs/stable/user_guide/indexing.html#returning-a-view-versus-a-copy\n",
      "  singel_Hotel_Reviews['days_since'] = (max_date - singel_Hotel_Reviews['date_object']).dt.days\n",
      "C:\\Users\\alan_\\AppData\\Local\\Temp\\ipykernel_31032\\1124407147.py:29: SettingWithCopyWarning: \n",
      "A value is trying to be set on a copy of a slice from a DataFrame.\n",
      "Try using .loc[row_indexer,col_indexer] = value instead\n",
      "\n",
      "See the caveats in the documentation: https://pandas.pydata.org/pandas-docs/stable/user_guide/indexing.html#returning-a-view-versus-a-copy\n",
      "  singel_Hotel_Reviews['weight'] = np.exp(-singel_Hotel_Reviews['days_since'] / (365 / 2.5))\n",
      "C:\\Users\\alan_\\AppData\\Local\\Temp\\ipykernel_31032\\1124407147.py:28: SettingWithCopyWarning: \n",
      "A value is trying to be set on a copy of a slice from a DataFrame.\n",
      "Try using .loc[row_indexer,col_indexer] = value instead\n",
      "\n",
      "See the caveats in the documentation: https://pandas.pydata.org/pandas-docs/stable/user_guide/indexing.html#returning-a-view-versus-a-copy\n",
      "  singel_Hotel_Reviews['days_since'] = (max_date - singel_Hotel_Reviews['date_object']).dt.days\n",
      "C:\\Users\\alan_\\AppData\\Local\\Temp\\ipykernel_31032\\1124407147.py:29: SettingWithCopyWarning: \n",
      "A value is trying to be set on a copy of a slice from a DataFrame.\n",
      "Try using .loc[row_indexer,col_indexer] = value instead\n",
      "\n",
      "See the caveats in the documentation: https://pandas.pydata.org/pandas-docs/stable/user_guide/indexing.html#returning-a-view-versus-a-copy\n",
      "  singel_Hotel_Reviews['weight'] = np.exp(-singel_Hotel_Reviews['days_since'] / (365 / 2.5))\n",
      "C:\\Users\\alan_\\AppData\\Local\\Temp\\ipykernel_31032\\1124407147.py:28: SettingWithCopyWarning: \n",
      "A value is trying to be set on a copy of a slice from a DataFrame.\n",
      "Try using .loc[row_indexer,col_indexer] = value instead\n",
      "\n",
      "See the caveats in the documentation: https://pandas.pydata.org/pandas-docs/stable/user_guide/indexing.html#returning-a-view-versus-a-copy\n",
      "  singel_Hotel_Reviews['days_since'] = (max_date - singel_Hotel_Reviews['date_object']).dt.days\n",
      "C:\\Users\\alan_\\AppData\\Local\\Temp\\ipykernel_31032\\1124407147.py:29: SettingWithCopyWarning: \n",
      "A value is trying to be set on a copy of a slice from a DataFrame.\n",
      "Try using .loc[row_indexer,col_indexer] = value instead\n",
      "\n",
      "See the caveats in the documentation: https://pandas.pydata.org/pandas-docs/stable/user_guide/indexing.html#returning-a-view-versus-a-copy\n",
      "  singel_Hotel_Reviews['weight'] = np.exp(-singel_Hotel_Reviews['days_since'] / (365 / 2.5))\n",
      "C:\\Users\\alan_\\AppData\\Local\\Temp\\ipykernel_31032\\1124407147.py:28: SettingWithCopyWarning: \n",
      "A value is trying to be set on a copy of a slice from a DataFrame.\n",
      "Try using .loc[row_indexer,col_indexer] = value instead\n",
      "\n",
      "See the caveats in the documentation: https://pandas.pydata.org/pandas-docs/stable/user_guide/indexing.html#returning-a-view-versus-a-copy\n",
      "  singel_Hotel_Reviews['days_since'] = (max_date - singel_Hotel_Reviews['date_object']).dt.days\n",
      "C:\\Users\\alan_\\AppData\\Local\\Temp\\ipykernel_31032\\1124407147.py:29: SettingWithCopyWarning: \n",
      "A value is trying to be set on a copy of a slice from a DataFrame.\n",
      "Try using .loc[row_indexer,col_indexer] = value instead\n",
      "\n",
      "See the caveats in the documentation: https://pandas.pydata.org/pandas-docs/stable/user_guide/indexing.html#returning-a-view-versus-a-copy\n",
      "  singel_Hotel_Reviews['weight'] = np.exp(-singel_Hotel_Reviews['days_since'] / (365 / 2.5))\n",
      "C:\\Users\\alan_\\AppData\\Local\\Temp\\ipykernel_31032\\1124407147.py:28: SettingWithCopyWarning: \n",
      "A value is trying to be set on a copy of a slice from a DataFrame.\n",
      "Try using .loc[row_indexer,col_indexer] = value instead\n",
      "\n",
      "See the caveats in the documentation: https://pandas.pydata.org/pandas-docs/stable/user_guide/indexing.html#returning-a-view-versus-a-copy\n",
      "  singel_Hotel_Reviews['days_since'] = (max_date - singel_Hotel_Reviews['date_object']).dt.days\n",
      "C:\\Users\\alan_\\AppData\\Local\\Temp\\ipykernel_31032\\1124407147.py:29: SettingWithCopyWarning: \n",
      "A value is trying to be set on a copy of a slice from a DataFrame.\n",
      "Try using .loc[row_indexer,col_indexer] = value instead\n",
      "\n",
      "See the caveats in the documentation: https://pandas.pydata.org/pandas-docs/stable/user_guide/indexing.html#returning-a-view-versus-a-copy\n",
      "  singel_Hotel_Reviews['weight'] = np.exp(-singel_Hotel_Reviews['days_since'] / (365 / 2.5))\n",
      "C:\\Users\\alan_\\AppData\\Local\\Temp\\ipykernel_31032\\1124407147.py:28: SettingWithCopyWarning: \n",
      "A value is trying to be set on a copy of a slice from a DataFrame.\n",
      "Try using .loc[row_indexer,col_indexer] = value instead\n",
      "\n",
      "See the caveats in the documentation: https://pandas.pydata.org/pandas-docs/stable/user_guide/indexing.html#returning-a-view-versus-a-copy\n",
      "  singel_Hotel_Reviews['days_since'] = (max_date - singel_Hotel_Reviews['date_object']).dt.days\n",
      "C:\\Users\\alan_\\AppData\\Local\\Temp\\ipykernel_31032\\1124407147.py:29: SettingWithCopyWarning: \n",
      "A value is trying to be set on a copy of a slice from a DataFrame.\n",
      "Try using .loc[row_indexer,col_indexer] = value instead\n",
      "\n",
      "See the caveats in the documentation: https://pandas.pydata.org/pandas-docs/stable/user_guide/indexing.html#returning-a-view-versus-a-copy\n",
      "  singel_Hotel_Reviews['weight'] = np.exp(-singel_Hotel_Reviews['days_since'] / (365 / 2.5))\n",
      "C:\\Users\\alan_\\AppData\\Local\\Temp\\ipykernel_31032\\1124407147.py:28: SettingWithCopyWarning: \n",
      "A value is trying to be set on a copy of a slice from a DataFrame.\n",
      "Try using .loc[row_indexer,col_indexer] = value instead\n",
      "\n",
      "See the caveats in the documentation: https://pandas.pydata.org/pandas-docs/stable/user_guide/indexing.html#returning-a-view-versus-a-copy\n",
      "  singel_Hotel_Reviews['days_since'] = (max_date - singel_Hotel_Reviews['date_object']).dt.days\n",
      "C:\\Users\\alan_\\AppData\\Local\\Temp\\ipykernel_31032\\1124407147.py:29: SettingWithCopyWarning: \n",
      "A value is trying to be set on a copy of a slice from a DataFrame.\n",
      "Try using .loc[row_indexer,col_indexer] = value instead\n",
      "\n",
      "See the caveats in the documentation: https://pandas.pydata.org/pandas-docs/stable/user_guide/indexing.html#returning-a-view-versus-a-copy\n",
      "  singel_Hotel_Reviews['weight'] = np.exp(-singel_Hotel_Reviews['days_since'] / (365 / 2.5))\n",
      "C:\\Users\\alan_\\AppData\\Local\\Temp\\ipykernel_31032\\1124407147.py:28: SettingWithCopyWarning: \n",
      "A value is trying to be set on a copy of a slice from a DataFrame.\n",
      "Try using .loc[row_indexer,col_indexer] = value instead\n",
      "\n",
      "See the caveats in the documentation: https://pandas.pydata.org/pandas-docs/stable/user_guide/indexing.html#returning-a-view-versus-a-copy\n",
      "  singel_Hotel_Reviews['days_since'] = (max_date - singel_Hotel_Reviews['date_object']).dt.days\n",
      "C:\\Users\\alan_\\AppData\\Local\\Temp\\ipykernel_31032\\1124407147.py:29: SettingWithCopyWarning: \n",
      "A value is trying to be set on a copy of a slice from a DataFrame.\n",
      "Try using .loc[row_indexer,col_indexer] = value instead\n",
      "\n",
      "See the caveats in the documentation: https://pandas.pydata.org/pandas-docs/stable/user_guide/indexing.html#returning-a-view-versus-a-copy\n",
      "  singel_Hotel_Reviews['weight'] = np.exp(-singel_Hotel_Reviews['days_since'] / (365 / 2.5))\n",
      "C:\\Users\\alan_\\AppData\\Local\\Temp\\ipykernel_31032\\1124407147.py:28: SettingWithCopyWarning: \n",
      "A value is trying to be set on a copy of a slice from a DataFrame.\n",
      "Try using .loc[row_indexer,col_indexer] = value instead\n",
      "\n",
      "See the caveats in the documentation: https://pandas.pydata.org/pandas-docs/stable/user_guide/indexing.html#returning-a-view-versus-a-copy\n",
      "  singel_Hotel_Reviews['days_since'] = (max_date - singel_Hotel_Reviews['date_object']).dt.days\n",
      "C:\\Users\\alan_\\AppData\\Local\\Temp\\ipykernel_31032\\1124407147.py:29: SettingWithCopyWarning: \n",
      "A value is trying to be set on a copy of a slice from a DataFrame.\n",
      "Try using .loc[row_indexer,col_indexer] = value instead\n",
      "\n",
      "See the caveats in the documentation: https://pandas.pydata.org/pandas-docs/stable/user_guide/indexing.html#returning-a-view-versus-a-copy\n",
      "  singel_Hotel_Reviews['weight'] = np.exp(-singel_Hotel_Reviews['days_since'] / (365 / 2.5))\n",
      "C:\\Users\\alan_\\AppData\\Local\\Temp\\ipykernel_31032\\1124407147.py:28: SettingWithCopyWarning: \n",
      "A value is trying to be set on a copy of a slice from a DataFrame.\n",
      "Try using .loc[row_indexer,col_indexer] = value instead\n",
      "\n",
      "See the caveats in the documentation: https://pandas.pydata.org/pandas-docs/stable/user_guide/indexing.html#returning-a-view-versus-a-copy\n",
      "  singel_Hotel_Reviews['days_since'] = (max_date - singel_Hotel_Reviews['date_object']).dt.days\n",
      "C:\\Users\\alan_\\AppData\\Local\\Temp\\ipykernel_31032\\1124407147.py:29: SettingWithCopyWarning: \n",
      "A value is trying to be set on a copy of a slice from a DataFrame.\n",
      "Try using .loc[row_indexer,col_indexer] = value instead\n",
      "\n",
      "See the caveats in the documentation: https://pandas.pydata.org/pandas-docs/stable/user_guide/indexing.html#returning-a-view-versus-a-copy\n",
      "  singel_Hotel_Reviews['weight'] = np.exp(-singel_Hotel_Reviews['days_since'] / (365 / 2.5))\n",
      "C:\\Users\\alan_\\AppData\\Local\\Temp\\ipykernel_31032\\1124407147.py:28: SettingWithCopyWarning: \n",
      "A value is trying to be set on a copy of a slice from a DataFrame.\n",
      "Try using .loc[row_indexer,col_indexer] = value instead\n",
      "\n",
      "See the caveats in the documentation: https://pandas.pydata.org/pandas-docs/stable/user_guide/indexing.html#returning-a-view-versus-a-copy\n",
      "  singel_Hotel_Reviews['days_since'] = (max_date - singel_Hotel_Reviews['date_object']).dt.days\n",
      "C:\\Users\\alan_\\AppData\\Local\\Temp\\ipykernel_31032\\1124407147.py:29: SettingWithCopyWarning: \n",
      "A value is trying to be set on a copy of a slice from a DataFrame.\n",
      "Try using .loc[row_indexer,col_indexer] = value instead\n",
      "\n",
      "See the caveats in the documentation: https://pandas.pydata.org/pandas-docs/stable/user_guide/indexing.html#returning-a-view-versus-a-copy\n",
      "  singel_Hotel_Reviews['weight'] = np.exp(-singel_Hotel_Reviews['days_since'] / (365 / 2.5))\n",
      "C:\\Users\\alan_\\AppData\\Local\\Temp\\ipykernel_31032\\1124407147.py:28: SettingWithCopyWarning: \n",
      "A value is trying to be set on a copy of a slice from a DataFrame.\n",
      "Try using .loc[row_indexer,col_indexer] = value instead\n",
      "\n",
      "See the caveats in the documentation: https://pandas.pydata.org/pandas-docs/stable/user_guide/indexing.html#returning-a-view-versus-a-copy\n",
      "  singel_Hotel_Reviews['days_since'] = (max_date - singel_Hotel_Reviews['date_object']).dt.days\n",
      "C:\\Users\\alan_\\AppData\\Local\\Temp\\ipykernel_31032\\1124407147.py:29: SettingWithCopyWarning: \n",
      "A value is trying to be set on a copy of a slice from a DataFrame.\n",
      "Try using .loc[row_indexer,col_indexer] = value instead\n",
      "\n",
      "See the caveats in the documentation: https://pandas.pydata.org/pandas-docs/stable/user_guide/indexing.html#returning-a-view-versus-a-copy\n",
      "  singel_Hotel_Reviews['weight'] = np.exp(-singel_Hotel_Reviews['days_since'] / (365 / 2.5))\n",
      "C:\\Users\\alan_\\AppData\\Local\\Temp\\ipykernel_31032\\1124407147.py:28: SettingWithCopyWarning: \n",
      "A value is trying to be set on a copy of a slice from a DataFrame.\n",
      "Try using .loc[row_indexer,col_indexer] = value instead\n",
      "\n",
      "See the caveats in the documentation: https://pandas.pydata.org/pandas-docs/stable/user_guide/indexing.html#returning-a-view-versus-a-copy\n",
      "  singel_Hotel_Reviews['days_since'] = (max_date - singel_Hotel_Reviews['date_object']).dt.days\n",
      "C:\\Users\\alan_\\AppData\\Local\\Temp\\ipykernel_31032\\1124407147.py:29: SettingWithCopyWarning: \n",
      "A value is trying to be set on a copy of a slice from a DataFrame.\n",
      "Try using .loc[row_indexer,col_indexer] = value instead\n",
      "\n",
      "See the caveats in the documentation: https://pandas.pydata.org/pandas-docs/stable/user_guide/indexing.html#returning-a-view-versus-a-copy\n",
      "  singel_Hotel_Reviews['weight'] = np.exp(-singel_Hotel_Reviews['days_since'] / (365 / 2.5))\n",
      "C:\\Users\\alan_\\AppData\\Local\\Temp\\ipykernel_31032\\1124407147.py:28: SettingWithCopyWarning: \n",
      "A value is trying to be set on a copy of a slice from a DataFrame.\n",
      "Try using .loc[row_indexer,col_indexer] = value instead\n",
      "\n",
      "See the caveats in the documentation: https://pandas.pydata.org/pandas-docs/stable/user_guide/indexing.html#returning-a-view-versus-a-copy\n",
      "  singel_Hotel_Reviews['days_since'] = (max_date - singel_Hotel_Reviews['date_object']).dt.days\n",
      "C:\\Users\\alan_\\AppData\\Local\\Temp\\ipykernel_31032\\1124407147.py:29: SettingWithCopyWarning: \n",
      "A value is trying to be set on a copy of a slice from a DataFrame.\n",
      "Try using .loc[row_indexer,col_indexer] = value instead\n",
      "\n",
      "See the caveats in the documentation: https://pandas.pydata.org/pandas-docs/stable/user_guide/indexing.html#returning-a-view-versus-a-copy\n",
      "  singel_Hotel_Reviews['weight'] = np.exp(-singel_Hotel_Reviews['days_since'] / (365 / 2.5))\n",
      "C:\\Users\\alan_\\AppData\\Local\\Temp\\ipykernel_31032\\1124407147.py:28: SettingWithCopyWarning: \n",
      "A value is trying to be set on a copy of a slice from a DataFrame.\n",
      "Try using .loc[row_indexer,col_indexer] = value instead\n",
      "\n",
      "See the caveats in the documentation: https://pandas.pydata.org/pandas-docs/stable/user_guide/indexing.html#returning-a-view-versus-a-copy\n",
      "  singel_Hotel_Reviews['days_since'] = (max_date - singel_Hotel_Reviews['date_object']).dt.days\n",
      "C:\\Users\\alan_\\AppData\\Local\\Temp\\ipykernel_31032\\1124407147.py:29: SettingWithCopyWarning: \n",
      "A value is trying to be set on a copy of a slice from a DataFrame.\n",
      "Try using .loc[row_indexer,col_indexer] = value instead\n",
      "\n",
      "See the caveats in the documentation: https://pandas.pydata.org/pandas-docs/stable/user_guide/indexing.html#returning-a-view-versus-a-copy\n",
      "  singel_Hotel_Reviews['weight'] = np.exp(-singel_Hotel_Reviews['days_since'] / (365 / 2.5))\n",
      "C:\\Users\\alan_\\AppData\\Local\\Temp\\ipykernel_31032\\1124407147.py:28: SettingWithCopyWarning: \n",
      "A value is trying to be set on a copy of a slice from a DataFrame.\n",
      "Try using .loc[row_indexer,col_indexer] = value instead\n",
      "\n",
      "See the caveats in the documentation: https://pandas.pydata.org/pandas-docs/stable/user_guide/indexing.html#returning-a-view-versus-a-copy\n",
      "  singel_Hotel_Reviews['days_since'] = (max_date - singel_Hotel_Reviews['date_object']).dt.days\n",
      "C:\\Users\\alan_\\AppData\\Local\\Temp\\ipykernel_31032\\1124407147.py:29: SettingWithCopyWarning: \n",
      "A value is trying to be set on a copy of a slice from a DataFrame.\n",
      "Try using .loc[row_indexer,col_indexer] = value instead\n",
      "\n",
      "See the caveats in the documentation: https://pandas.pydata.org/pandas-docs/stable/user_guide/indexing.html#returning-a-view-versus-a-copy\n",
      "  singel_Hotel_Reviews['weight'] = np.exp(-singel_Hotel_Reviews['days_since'] / (365 / 2.5))\n",
      "C:\\Users\\alan_\\AppData\\Local\\Temp\\ipykernel_31032\\1124407147.py:28: SettingWithCopyWarning: \n",
      "A value is trying to be set on a copy of a slice from a DataFrame.\n",
      "Try using .loc[row_indexer,col_indexer] = value instead\n",
      "\n",
      "See the caveats in the documentation: https://pandas.pydata.org/pandas-docs/stable/user_guide/indexing.html#returning-a-view-versus-a-copy\n",
      "  singel_Hotel_Reviews['days_since'] = (max_date - singel_Hotel_Reviews['date_object']).dt.days\n",
      "C:\\Users\\alan_\\AppData\\Local\\Temp\\ipykernel_31032\\1124407147.py:29: SettingWithCopyWarning: \n",
      "A value is trying to be set on a copy of a slice from a DataFrame.\n",
      "Try using .loc[row_indexer,col_indexer] = value instead\n",
      "\n",
      "See the caveats in the documentation: https://pandas.pydata.org/pandas-docs/stable/user_guide/indexing.html#returning-a-view-versus-a-copy\n",
      "  singel_Hotel_Reviews['weight'] = np.exp(-singel_Hotel_Reviews['days_since'] / (365 / 2.5))\n"
     ]
    }
   ],
   "source": [
    "\n",
    "import pandas as pd\n",
    "import os\n",
    "import numpy as np\n",
    "import matplotlib.pyplot as plt\n",
    "from matplotlib.patches import FancyArrowPatch\n",
    "\n",
    "\n",
    "Hotel_Reviews = data_loader(data_name)\n",
    "\n",
    "try:\n",
    "    os.makedirs(f\"Data/Histograms/{data_name}\")\n",
    "except FileExistsError:\n",
    "    print(f\"Directory already exists\")\n",
    "\n",
    "# Assuming Hotel_Reviews is a pandas DataFrame\n",
    "for hotel_name in Hotel_Reviews['Hotel_Name'].unique():\n",
    "    #hotel_name =  Hotel_Reviews['Hotel_Name'][99]\n",
    "    singel_Hotel_Reviews = Hotel_Reviews[Hotel_Reviews['Hotel_Name'] == hotel_name]\n",
    "\n",
    "    num_hotels = len(singel_Hotel_Reviews)\n",
    "    mean_rating = round(singel_Hotel_Reviews['Reviewer_Score'].mean(), 1)\n",
    "    max_y = singel_Hotel_Reviews['Reviewer_Score'].round().value_counts().max()\n",
    "    text_size = 8\n",
    "\n",
    "\n",
    "    # Calculate the recency weights\n",
    "    max_date = singel_Hotel_Reviews['date_object'].max()\n",
    "    singel_Hotel_Reviews['days_since'] = (max_date - singel_Hotel_Reviews['date_object']).dt.days\n",
    "    singel_Hotel_Reviews['weight'] = np.exp(-singel_Hotel_Reviews['days_since'] / (365 / 2.5))\n",
    "\n",
    "    # Calculate the recency-weighted average\n",
    "    recency_weighted_average = (singel_Hotel_Reviews['Reviewer_Score'] * singel_Hotel_Reviews['weight']).sum() / singel_Hotel_Reviews['weight'].sum()\n",
    "\n",
    "    overall_label_hight = 1.25\n",
    "    change_label_hight = 1.15\n",
    "    label_nudge = -4\n",
    "\n",
    "    # Plotting\n",
    "    plt.figure(figsize=(6, 3))\n",
    "    plt.hist(singel_Hotel_Reviews['Reviewer_Score'], bins=np.arange(0.5, 11.5), color='#CA9552', alpha=0.3, edgecolor='#CA9552')\n",
    "    plt.axvline(mean_rating, linestyle='--', linewidth=1, color='#BC3751')\n",
    "\n",
    "    plt.text(mean_rating + label_nudge, max_y * overall_label_hight, f\"Average rating: {mean_rating}\",\n",
    "                size=text_size, color='#BC3751', fontstyle='italic')\n",
    "    plt.text(1, max_y * 1.0, f\"Number of Ratings: {num_hotels}\",\n",
    "                size=text_size, color='black', fontstyle='italic')\n",
    "\n",
    "    plt.xlabel(\"Ratings\")\n",
    "    plt.ylabel(\"Number of Ratings\")\n",
    "    plt.ylim(0, max_y * 1.4)\n",
    "    plt.xticks(np.arange(1, 12, 1))\n",
    "    plt.title(singel_Hotel_Reviews['Hotel_Name'].iloc[0], fontsize=25)\n",
    "\n",
    "    if abs(recency_weighted_average - mean_rating) > 0.15:\n",
    "        plt.gca().add_patch(FancyArrowPatch((mean_rating, max_y * (change_label_hight - 0.08)),\n",
    "                                            (recency_weighted_average, max_y * (change_label_hight - 0.08)),\n",
    "                                            arrowstyle='->', color='lightblue', linewidth=1.6))\n",
    "        plt.text(mean_rating + label_nudge, max_y * change_label_hight,\n",
    "                    f\"Recency weighted: {round(recency_weighted_average, 1)}\",\n",
    "                    size=text_size, color='lightblue', fontstyle='italic')\n",
    "        plt.axvline(recency_weighted_average, linestyle='--', linewidth=1, color='lightblue')\n",
    "\n",
    "    plt.tight_layout()\n",
    "\n",
    "    # Save the plot\n",
    "    no_spaces = hotel_name.replace(\" \", \"\")\n",
    "    plt.savefig(f\"Data/Histograms/{data_name}/{no_spaces}.png\", dpi=400)\n",
    "    plt.close()"
   ]
  }
 ],
 "metadata": {
  "kernelspec": {
   "display_name": "Hotel_env",
   "language": "python",
   "name": "python3"
  },
  "language_info": {
   "codemirror_mode": {
    "name": "ipython",
    "version": 3
   },
   "file_extension": ".py",
   "mimetype": "text/x-python",
   "name": "python",
   "nbconvert_exporter": "python",
   "pygments_lexer": "ipython3",
   "version": "3.11.11"
  }
 },
 "nbformat": 4,
 "nbformat_minor": 2
}
